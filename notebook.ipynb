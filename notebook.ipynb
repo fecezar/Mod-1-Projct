{
 "cells": [
  {
   "cell_type": "markdown",
   "metadata": {},
   "source": [
    "# Getting Started"
   ]
  },
  {
   "cell_type": "markdown",
   "metadata": {},
   "source": [
    "## Project Briefing:\n",
    "\n",
    "\"Microsoft sees all the big companies creating original video content, and they want to get in on the fun. They have decided to create a new movie studio, but the problem is they don’t know anything about creating movies. They have hired you to help them better understand the movie industry. Your team is charged with doing data analysis and creating a presentation that explores what type of films are currently doing the best at the box office. You must then translate those findings into actionable insights that the CEO can use when deciding what type of films they should be creating.\""
   ]
  },
  {
   "cell_type": "markdown",
   "metadata": {
    "ExecuteTime": {
     "end_time": "2020-06-21T16:08:57.585273Z",
     "start_time": "2020-06-21T16:08:57.582281Z"
    }
   },
   "source": [
    "## Libraries and Languages"
   ]
  },
  {
   "cell_type": "markdown",
   "metadata": {},
   "source": [
    "This project was created using the following languages and libraries:"
   ]
  },
  {
   "cell_type": "markdown",
   "metadata": {},
   "source": [
    "- glob, os, \n",
    "- Matplotlib version: 3.1.1\n",
    "- Pandas version: 3.1.1\n",
    "- Numpy version: 1.16.5\n",
    "- Seaborn version: 0.9.0"
   ]
  },
  {
   "cell_type": "code",
   "execution_count": 1,
   "metadata": {
    "ExecuteTime": {
     "end_time": "2020-06-23T10:17:03.742239Z",
     "start_time": "2020-06-23T10:17:01.046100Z"
    }
   },
   "outputs": [],
   "source": [
    "import pandas as pd\n",
    "import seaborn as sns\n",
    "import os\n",
    "import matplotlib.pyplot as plt\n",
    "import numpy as np\n",
    "from glob import glob\n",
    "%matplotlib inline"
   ]
  },
  {
   "cell_type": "markdown",
   "metadata": {},
   "source": [
    "## Data Overview"
   ]
  },
  {
   "cell_type": "markdown",
   "metadata": {},
   "source": [
    "The datasets used in this notebook include a wide range of related data\n",
    "\n",
    "- Box Office Mojo:\n",
    "  - bom.movie_gross.csv.gz\n",
    "  \n",
    "\n",
    "- IMDB:\n",
    "  - imdb.title.crew.csv.gz\n",
    "  - imdb.title.akas.csv.gz\n",
    "  - imdb.title.ratings.csv.gz\n",
    "  - imdb.name.basics.csv.gz\n",
    "  - imdb.title.basics.csv.gz\n",
    "  - imdb.title.principals.csv.gz\n",
    "\n",
    "\n",
    "\n",
    "- TMDB:\n",
    "  - tmdb.movies.csv.gz\n",
    "\n",
    "\n",
    "\n",
    "- The Numbers:\n",
    "  - tn.movie_budgets.csv.gz"
   ]
  },
  {
   "cell_type": "code",
   "execution_count": 2,
   "metadata": {
    "ExecuteTime": {
     "end_time": "2020-06-23T10:17:13.351958Z",
     "start_time": "2020-06-23T10:17:03.746180Z"
    }
   },
   "outputs": [],
   "source": [
    "#loads the data into a dictionary of dataframes\n",
    "\n",
    "csv_files = glob(\"./zippedData/*.csv.gz\")\n",
    "csv_files_dict = {}\n",
    "filenames_cleaned = []\n",
    "for filename in csv_files:\n",
    "    # cleaning the filenames\n",
    "    filename_cleaned = os.path.basename(filename).replace(\".csv\", \"\")\n",
    "    filename_cleaned = filename_cleaned.replace(\".\", \"_\") \n",
    "       \n",
    "    filename_df = pd.read_csv(filename, index_col=0)\n",
    "    csv_files_dict[filename_cleaned] = filename_df\n",
    "    \n",
    "    filenames_cleaned.append(filename_cleaned)"
   ]
  },
  {
   "cell_type": "code",
   "execution_count": 3,
   "metadata": {
    "ExecuteTime": {
     "end_time": "2020-06-23T10:17:13.372849Z",
     "start_time": "2020-06-23T10:17:13.357485Z"
    }
   },
   "outputs": [],
   "source": [
    "# creates a second dictionary of data frames (identical to the above)\n",
    "# this is the one to be manipulated, \n",
    "# as csv_files_dict will be kept as the original\n",
    "\n",
    "\n",
    "df_repository = {} \n",
    "for filename in filenames_cleaned:\n",
    "        \n",
    "    # executes text as code:\n",
    "    \n",
    "    df_repository[filename] = csv_files_dict[filename]\n",
    "   # exec(\"\"\"df_repository[\"\"\" + \"\"\"'\"\"\" \n",
    "    #     + #filename_cleaned + \"\"\"']\"\"\" )"
   ]
  },
  {
   "cell_type": "code",
   "execution_count": 4,
   "metadata": {
    "ExecuteTime": {
     "end_time": "2020-06-23T10:17:13.450059Z",
     "start_time": "2020-06-23T10:17:13.379267Z"
    }
   },
   "outputs": [
    {
     "data": {
      "text/plain": [
       "['bom_movie_gross_gz',\n",
       " 'imdb_name_basics_gz',\n",
       " 'imdb_title_akas_gz',\n",
       " 'imdb_title_basics_gz',\n",
       " 'imdb_title_crew_gz',\n",
       " 'imdb_title_principals_gz',\n",
       " 'imdb_title_ratings_gz',\n",
       " 'tmdb_movies_gz',\n",
       " 'tn_movie_budgets_gz']"
      ]
     },
     "execution_count": 4,
     "metadata": {},
     "output_type": "execute_result"
    }
   ],
   "source": [
    "filenames_cleaned"
   ]
  },
  {
   "cell_type": "code",
   "execution_count": 5,
   "metadata": {
    "ExecuteTime": {
     "end_time": "2020-06-23T10:17:13.473581Z",
     "start_time": "2020-06-23T10:17:13.455880Z"
    }
   },
   "outputs": [
    {
     "name": "stdout",
     "output_type": "stream",
     "text": [
      "(3387, 4)\n",
      "(606648, 5)\n",
      "(331703, 7)\n",
      "(146144, 5)\n",
      "(146144, 2)\n",
      "(1028186, 5)\n",
      "(73856, 2)\n",
      "(26517, 9)\n",
      "(5782, 5)\n"
     ]
    }
   ],
   "source": [
    "# testing\n",
    "\n",
    "for filename in filenames_cleaned:\n",
    "    print(df_repository[filename].shape)"
   ]
  },
  {
   "cell_type": "markdown",
   "metadata": {},
   "source": [
    " "
   ]
  },
  {
   "cell_type": "markdown",
   "metadata": {},
   "source": [
    "After initial analysis and some data cleaning, the datasets which ultimately were used to draw conclusion were:\n",
    "- imdb_title_basics_gz\n",
    "- tn_movie_budgets_gz\n",
    "- imdb_name_basics_gz"
   ]
  },
  {
   "cell_type": "markdown",
   "metadata": {},
   "source": [
    " "
   ]
  },
  {
   "cell_type": "markdown",
   "metadata": {},
   "source": [
    "## Custom Functions"
   ]
  },
  {
   "cell_type": "markdown",
   "metadata": {},
   "source": [
    "In the course of the data exploration and analysis conducted in this notebook, the follow custom functions were used:"
   ]
  },
  {
   "cell_type": "markdown",
   "metadata": {},
   "source": [
    "- **intersection(lst1, lst2)**: returns the intesection of elements between two lists\n"
   ]
  },
  {
   "cell_type": "code",
   "execution_count": 6,
   "metadata": {
    "ExecuteTime": {
     "end_time": "2020-06-23T10:17:13.489534Z",
     "start_time": "2020-06-23T10:17:13.478565Z"
    }
   },
   "outputs": [],
   "source": [
    "def intersection(lst1, lst2): \n",
    "    return list(set(lst1) & set(lst2))"
   ]
  },
  {
   "cell_type": "markdown",
   "metadata": {},
   "source": [
    " "
   ]
  },
  {
   "cell_type": "markdown",
   "metadata": {},
   "source": [
    "- **series_string_to_float(dataseries)**: cleans a data series that is populated by strings, whose values actually refer to numbers. "
   ]
  },
  {
   "cell_type": "code",
   "execution_count": 7,
   "metadata": {
    "ExecuteTime": {
     "end_time": "2020-06-23T10:17:13.510482Z",
     "start_time": "2020-06-23T10:17:13.494918Z"
    }
   },
   "outputs": [],
   "source": [
    "# the function below cleans a data series that is populated by strings, \n",
    "# whose values actually refer to numbers\n",
    "\n",
    "\n",
    "# takes a series as an argument and returns a new series of float values\n",
    "\n",
    "def series_string_to_float(dataseries):\n",
    "    # iterates through rows of the series\n",
    "    \n",
    "    float_list = []\n",
    "    for string in dataseries:\n",
    "        # It assumes that the series is populated by financial figures \n",
    "        # such as '$100,000'\n",
    "        clean_string = string.replace('$', '') # removes '$' \n",
    "        clean_string = clean_string.replace(',', '') # removes ','\n",
    "        float_list.append(  float(clean_string) )\n",
    "    \n",
    "    float_dict = {'new_column': float_list} \n",
    "    return pd.DataFrame(float_dict)"
   ]
  },
  {
   "cell_type": "markdown",
   "metadata": {},
   "source": [
    " "
   ]
  },
  {
   "cell_type": "markdown",
   "metadata": {},
   "source": [
    "- **clean_duplicates(dataframe)**: returns a dataframe without duplicates"
   ]
  },
  {
   "cell_type": "code",
   "execution_count": 8,
   "metadata": {
    "ExecuteTime": {
     "end_time": "2020-06-23T10:17:13.533450Z",
     "start_time": "2020-06-23T10:17:13.522448Z"
    }
   },
   "outputs": [],
   "source": [
    "# returns a dataframe without duplicates\n",
    "\n",
    "def clean_duplicates(dataframe): \n",
    "    cleaned_filter = dataframe.duplicated()\n",
    "    index_to_drop = dataframe.loc[cleaned_filter].index\n",
    "    return dataframe.drop(index=index_to_drop)"
   ]
  },
  {
   "cell_type": "markdown",
   "metadata": {},
   "source": [
    " "
   ]
  },
  {
   "cell_type": "markdown",
   "metadata": {},
   "source": [
    "- **is_prof(series, profession1, profession2=None)**: iterates through a data series and returns a data frame with one column, whose values are 1 when profession (string) is found, or 0 if not found"
   ]
  },
  {
   "cell_type": "code",
   "execution_count": 9,
   "metadata": {
    "ExecuteTime": {
     "end_time": "2020-06-23T10:17:13.560346Z",
     "start_time": "2020-06-23T10:17:13.542397Z"
    }
   },
   "outputs": [],
   "source": [
    "# function takes as arguments:\n",
    "    # a series containing lists of professions \n",
    "    # a profession to screen for \n",
    "    # a second profession (optional)\n",
    "    \n",
    "# iterates through series and returns a data frame \n",
    "# with one column\n",
    "# whose values are 1 when profession is found, \n",
    "# or 0 if not found\n",
    "# the index of returned DF is not the original\n",
    "\n",
    "def is_prof(series, profession1, profession2=None):\n",
    "    \n",
    "    prof_list = []\n",
    "    \n",
    "    # iterates through series\n",
    "    for lst in series:\n",
    "        # tests for profession \n",
    "        if (profession1 in lst):\n",
    "            prof_list.append(1)\n",
    "        else: \n",
    "            # and tests for second profession (optional) \n",
    "            if (profession2) and (profession2 in lst):\n",
    "                prof_list.append(1)\n",
    "            else:\n",
    "                prof_list.append(0)\n",
    "    \n",
    "    prof_dict = {('is_' + str(profession1)): prof_list}\n",
    "    return pd.DataFrame(prof_dict)"
   ]
  },
  {
   "cell_type": "markdown",
   "metadata": {},
   "source": [
    " "
   ]
  },
  {
   "cell_type": "markdown",
   "metadata": {},
   "source": [
    "# Questions and Assumptions"
   ]
  },
  {
   "cell_type": "markdown",
   "metadata": {},
   "source": [
    "This notebook explores and cleans the raw data in order to answer the following questions:\n",
    "\n",
    "\n",
    "- **What is the relationship between movie grossings and the people who take part in the project?**\n",
    "\n",
    "  - the underlying assumption is that even though there is a two way relationship between the success of a movie and that of a professional (one thing promotes the other), outlier professionals will have an outsized impact in the movie's results.\n",
    "\n",
    "- **Do directors, actors and producers have the same impact on the financial results of a movie?**\n",
    "\n",
    "  - the underlying assumption in this case is that roles with bigger responsabilities (directors, producers) have a larger impact than others (actors, for example)\n",
    "     \n",
    "  \n",
    "- **Are any genres more risky than other in terms of financial performance?**\n",
    "  - the underlying assumption is that there will be differences among differnt genres\n",
    "  \n",
    "  \n",
    "- **What part does genre play in the financial results of a movie?**\n",
    "  - the underlying assumption is that some genres will generate better results than others  "
   ]
  },
  {
   "cell_type": "markdown",
   "metadata": {},
   "source": [
    " # Data Cleaning and Exploration"
   ]
  },
  {
   "cell_type": "markdown",
   "metadata": {},
   "source": [
    "## Deletion of  all duplicate rows from all data sets"
   ]
  },
  {
   "cell_type": "code",
   "execution_count": 10,
   "metadata": {
    "ExecuteTime": {
     "end_time": "2020-06-23T10:17:19.954038Z",
     "start_time": "2020-06-23T10:17:13.569320Z"
    }
   },
   "outputs": [],
   "source": [
    "# loop to parse the data frames df_repository \n",
    "# and returns them without duplicates\n",
    "\n",
    "# uses the customs function  clean_duplicates()  \n",
    "\n",
    "for db in df_repository.keys(): \n",
    "    df_repository[db] = clean_duplicates(df_repository[db])"
   ]
  },
  {
   "cell_type": "code",
   "execution_count": 11,
   "metadata": {
    "ExecuteTime": {
     "end_time": "2020-06-23T10:17:22.664190Z",
     "start_time": "2020-06-23T10:17:19.958931Z"
    }
   },
   "outputs": [
    {
     "name": "stdout",
     "output_type": "stream",
     "text": [
      "0\n",
      "0\n",
      "0\n",
      "0\n",
      "0\n",
      "0\n",
      "0\n",
      "0\n",
      "0\n"
     ]
    }
   ],
   "source": [
    "# testing\n",
    "\n",
    "for db in df_repository.keys(): \n",
    "    print(df_repository[db].duplicated().sum())"
   ]
  },
  {
   "cell_type": "markdown",
   "metadata": {},
   "source": [
    " "
   ]
  },
  {
   "cell_type": "markdown",
   "metadata": {},
   "source": [
    "## **tn_movie_budgets_gz** \n",
    "\n",
    "Changing data stored as strings into floats (financial figures) or into datetime (release date)"
   ]
  },
  {
   "cell_type": "markdown",
   "metadata": {
    "ExecuteTime": {
     "end_time": "2020-06-22T09:19:44.869922Z",
     "start_time": "2020-06-22T09:19:44.863602Z"
    }
   },
   "source": [
    "### Cleaning columns with numerical data, but stored as strings"
   ]
  },
  {
   "cell_type": "code",
   "execution_count": 12,
   "metadata": {
    "ExecuteTime": {
     "end_time": "2020-06-23T10:17:22.753537Z",
     "start_time": "2020-06-23T10:17:22.669121Z"
    }
   },
   "outputs": [],
   "source": [
    "# cleaning data from  **df_repository['tn_movie_budgets_gz']**\n",
    "\n",
    "# cleans columns with numerical data, but stored as strings\n",
    "\n",
    "for key in df_repository['tn_movie_budgets_gz'].loc[:,['production_budget', 'domestic_gross', 'worldwide_gross']].keys():\n",
    "    \n",
    "    df_repository['tn_movie_budgets_gz'][key] = series_string_to_float(\n",
    "                                                df_repository['tn_movie_budgets_gz'][key])\n",
    "\n",
    "    \n"
   ]
  },
  {
   "cell_type": "markdown",
   "metadata": {},
   "source": [
    "###  Changing data stored as string to datetime format for the column release_date"
   ]
  },
  {
   "cell_type": "code",
   "execution_count": 13,
   "metadata": {
    "ExecuteTime": {
     "end_time": "2020-06-23T10:17:24.692046Z",
     "start_time": "2020-06-23T10:17:22.757486Z"
    }
   },
   "outputs": [],
   "source": [
    "# string to datetime format for the column release_date\n",
    "df_repository['tn_movie_budgets_gz'].release_date = pd.to_datetime(\n",
    "    df_repository['tn_movie_budgets_gz'].release_date)"
   ]
  },
  {
   "cell_type": "code",
   "execution_count": 14,
   "metadata": {
    "ExecuteTime": {
     "end_time": "2020-06-23T10:17:24.729829Z",
     "start_time": "2020-06-23T10:17:24.696899Z"
    },
    "scrolled": true
   },
   "outputs": [
    {
     "name": "stdout",
     "output_type": "stream",
     "text": [
      "<class 'pandas.core.frame.DataFrame'>\n",
      "Int64Index: 5782 entries, 1 to 82\n",
      "Data columns (total 5 columns):\n",
      "release_date         5782 non-null datetime64[ns]\n",
      "movie                5782 non-null object\n",
      "production_budget    5782 non-null float64\n",
      "domestic_gross       5782 non-null float64\n",
      "worldwide_gross      5782 non-null float64\n",
      "dtypes: datetime64[ns](1), float64(3), object(1)\n",
      "memory usage: 271.0+ KB\n"
     ]
    }
   ],
   "source": [
    "# testing\n",
    "\n",
    "df_repository['tn_movie_budgets_gz'].info()"
   ]
  },
  {
   "cell_type": "markdown",
   "metadata": {},
   "source": [
    " "
   ]
  },
  {
   "cell_type": "markdown",
   "metadata": {},
   "source": [
    "## First Merge\n",
    "By merging **imdb_title_akas_gz** with **tn_movie_budgets_gz we can** we can cross **imdb** data with the financials from **tn**"
   ]
  },
  {
   "cell_type": "code",
   "execution_count": 15,
   "metadata": {
    "ExecuteTime": {
     "end_time": "2020-06-23T10:17:25.134287Z",
     "start_time": "2020-06-23T10:17:24.735492Z"
    }
   },
   "outputs": [],
   "source": [
    "# merging the DFs  **imdb_title_akas_gz**  and **tn_movie_budgets_gz** \n",
    "\n",
    "\n",
    "# merging on the movie name, so as to import the title_id \n",
    "# from the imdb tables to the new merged DF with financials\n",
    "df_imdb_financials = pd.merge(\n",
    "    df_repository['imdb_title_akas_gz'].reset_index(),\n",
    "    df_repository['tn_movie_budgets_gz'], \n",
    "    left_on='title',right_on='movie', how='inner')\n",
    "\n",
    "\n",
    "df_imdb_financials.drop(\n",
    "    columns=['ordering', 'movie', 'region', 'language', 'types',\n",
    "       'attributes', 'is_original_title'], inplace=True) \n",
    "\n",
    "\n",
    "#cleaning duplicates\n",
    "df_imdb_financials = pd.DataFrame(clean_duplicates(df_imdb_financials))"
   ]
  },
  {
   "cell_type": "code",
   "execution_count": 16,
   "metadata": {
    "ExecuteTime": {
     "end_time": "2020-06-23T10:17:25.159129Z",
     "start_time": "2020-06-23T10:17:25.138322Z"
    }
   },
   "outputs": [
    {
     "name": "stdout",
     "output_type": "stream",
     "text": [
      "<class 'pandas.core.frame.DataFrame'>\n",
      "Int64Index: 3858 entries, 0 to 10131\n",
      "Data columns (total 6 columns):\n",
      "title_id             3858 non-null object\n",
      "title                3858 non-null object\n",
      "release_date         3858 non-null datetime64[ns]\n",
      "production_budget    3858 non-null float64\n",
      "domestic_gross       3858 non-null float64\n",
      "worldwide_gross      3858 non-null float64\n",
      "dtypes: datetime64[ns](1), float64(3), object(2)\n",
      "memory usage: 211.0+ KB\n"
     ]
    }
   ],
   "source": [
    "df_imdb_financials.info()"
   ]
  },
  {
   "cell_type": "markdown",
   "metadata": {},
   "source": [
    " "
   ]
  },
  {
   "cell_type": "markdown",
   "metadata": {},
   "source": [
    "### New Features \n",
    "Additionally, we can calculate profits  for the new merged table"
   ]
  },
  {
   "cell_type": "code",
   "execution_count": 17,
   "metadata": {
    "ExecuteTime": {
     "end_time": "2020-06-23T10:17:25.227378Z",
     "start_time": "2020-06-23T10:17:25.163881Z"
    },
    "scrolled": true
   },
   "outputs": [],
   "source": [
    "#  calculates the profits and add it as a feature to **df_imdb_financials**\n",
    "\n",
    "df_imdb_financials['total_profit'] =  (df_imdb_financials.worldwide_gross \n",
    "                                       - df_imdb_financials.production_budget)\n",
    "\n",
    "df_imdb_financials.set_index('title_id', inplace=True)\n",
    "    "
   ]
  },
  {
   "cell_type": "code",
   "execution_count": 18,
   "metadata": {
    "ExecuteTime": {
     "end_time": "2020-06-23T10:17:25.273202Z",
     "start_time": "2020-06-23T10:17:25.232312Z"
    }
   },
   "outputs": [
    {
     "data": {
      "text/html": [
       "<div>\n",
       "<style scoped>\n",
       "    .dataframe tbody tr th:only-of-type {\n",
       "        vertical-align: middle;\n",
       "    }\n",
       "\n",
       "    .dataframe tbody tr th {\n",
       "        vertical-align: top;\n",
       "    }\n",
       "\n",
       "    .dataframe thead th {\n",
       "        text-align: right;\n",
       "    }\n",
       "</style>\n",
       "<table border=\"1\" class=\"dataframe\">\n",
       "  <thead>\n",
       "    <tr style=\"text-align: right;\">\n",
       "      <th></th>\n",
       "      <th>title</th>\n",
       "      <th>release_date</th>\n",
       "      <th>production_budget</th>\n",
       "      <th>domestic_gross</th>\n",
       "      <th>worldwide_gross</th>\n",
       "      <th>total_profit</th>\n",
       "    </tr>\n",
       "    <tr>\n",
       "      <th>title_id</th>\n",
       "      <th></th>\n",
       "      <th></th>\n",
       "      <th></th>\n",
       "      <th></th>\n",
       "      <th></th>\n",
       "      <th></th>\n",
       "    </tr>\n",
       "  </thead>\n",
       "  <tbody>\n",
       "    <tr>\n",
       "      <td>tt0369610</td>\n",
       "      <td>Jurassic World</td>\n",
       "      <td>2015-06-12</td>\n",
       "      <td>215000000.0</td>\n",
       "      <td>179020854.0</td>\n",
       "      <td>6.542135e+08</td>\n",
       "      <td>439213485.0</td>\n",
       "    </tr>\n",
       "    <tr>\n",
       "      <td>tt0401729</td>\n",
       "      <td>John Carter</td>\n",
       "      <td>2012-03-09</td>\n",
       "      <td>260000000.0</td>\n",
       "      <td>200821936.0</td>\n",
       "      <td>5.864772e+08</td>\n",
       "      <td>326477240.0</td>\n",
       "    </tr>\n",
       "    <tr>\n",
       "      <td>tt1014759</td>\n",
       "      <td>Alice in Wonderland</td>\n",
       "      <td>2010-03-05</td>\n",
       "      <td>200000000.0</td>\n",
       "      <td>304360277.0</td>\n",
       "      <td>1.110527e+09</td>\n",
       "      <td>910526981.0</td>\n",
       "    </tr>\n",
       "    <tr>\n",
       "      <td>tt1014759</td>\n",
       "      <td>Alice in Wonderland</td>\n",
       "      <td>1951-07-28</td>\n",
       "      <td>200000000.0</td>\n",
       "      <td>125322469.0</td>\n",
       "      <td>3.654918e+08</td>\n",
       "      <td>165491792.0</td>\n",
       "    </tr>\n",
       "    <tr>\n",
       "      <td>tt1926979</td>\n",
       "      <td>Alice in Wonderland</td>\n",
       "      <td>2010-03-05</td>\n",
       "      <td>200000000.0</td>\n",
       "      <td>304360277.0</td>\n",
       "      <td>1.110527e+09</td>\n",
       "      <td>910526981.0</td>\n",
       "    </tr>\n",
       "  </tbody>\n",
       "</table>\n",
       "</div>"
      ],
      "text/plain": [
       "                         title release_date  production_budget  \\\n",
       "title_id                                                         \n",
       "tt0369610       Jurassic World   2015-06-12        215000000.0   \n",
       "tt0401729          John Carter   2012-03-09        260000000.0   \n",
       "tt1014759  Alice in Wonderland   2010-03-05        200000000.0   \n",
       "tt1014759  Alice in Wonderland   1951-07-28        200000000.0   \n",
       "tt1926979  Alice in Wonderland   2010-03-05        200000000.0   \n",
       "\n",
       "           domestic_gross  worldwide_gross  total_profit  \n",
       "title_id                                                  \n",
       "tt0369610     179020854.0     6.542135e+08   439213485.0  \n",
       "tt0401729     200821936.0     5.864772e+08   326477240.0  \n",
       "tt1014759     304360277.0     1.110527e+09   910526981.0  \n",
       "tt1014759     125322469.0     3.654918e+08   165491792.0  \n",
       "tt1926979     304360277.0     1.110527e+09   910526981.0  "
      ]
     },
     "execution_count": 18,
     "metadata": {},
     "output_type": "execute_result"
    }
   ],
   "source": [
    "df_imdb_financials.head()"
   ]
  },
  {
   "cell_type": "markdown",
   "metadata": {},
   "source": [
    " "
   ]
  },
  {
   "cell_type": "markdown",
   "metadata": {},
   "source": [
    "## **imdb_name_basics_gz**\n",
    "Moving on to **imdb_name_basics_gz**. This data set gives us a list of people and lists their professions and movies which they participated in"
   ]
  },
  {
   "cell_type": "markdown",
   "metadata": {},
   "source": [
    "### Increasing readability of listed professions\n",
    "First we make the professions list more readable and accessible for further treatment and analysis.\n",
    "We can also eliminate empty values so we only have rows that are useful for the desired analysis"
   ]
  },
  {
   "cell_type": "code",
   "execution_count": 19,
   "metadata": {
    "ExecuteTime": {
     "end_time": "2020-06-23T10:17:28.391153Z",
     "start_time": "2020-06-23T10:17:25.278194Z"
    },
    "scrolled": false
   },
   "outputs": [],
   "source": [
    "# data cleaning for **imdb_name_basics_gz**\n",
    "\n",
    "# splits the string values in primary_profession and known_for_titles into a list of strings\n",
    "\n",
    "df_repository['imdb_name_basics_gz']['primary_profession'] = df_repository['imdb_name_basics_gz']['primary_profession'].str.split(',')\n",
    "df_repository['imdb_name_basics_gz']['known_for_titles'] = df_repository['imdb_name_basics_gz']['known_for_titles'].str.split(',')\n"
   ]
  },
  {
   "cell_type": "code",
   "execution_count": 20,
   "metadata": {
    "ExecuteTime": {
     "end_time": "2020-06-23T10:17:28.423750Z",
     "start_time": "2020-06-23T10:17:28.395465Z"
    }
   },
   "outputs": [
    {
     "data": {
      "text/html": [
       "<div>\n",
       "<style scoped>\n",
       "    .dataframe tbody tr th:only-of-type {\n",
       "        vertical-align: middle;\n",
       "    }\n",
       "\n",
       "    .dataframe tbody tr th {\n",
       "        vertical-align: top;\n",
       "    }\n",
       "\n",
       "    .dataframe thead th {\n",
       "        text-align: right;\n",
       "    }\n",
       "</style>\n",
       "<table border=\"1\" class=\"dataframe\">\n",
       "  <thead>\n",
       "    <tr style=\"text-align: right;\">\n",
       "      <th></th>\n",
       "      <th>primary_name</th>\n",
       "      <th>birth_year</th>\n",
       "      <th>death_year</th>\n",
       "      <th>primary_profession</th>\n",
       "      <th>known_for_titles</th>\n",
       "    </tr>\n",
       "    <tr>\n",
       "      <th>nconst</th>\n",
       "      <th></th>\n",
       "      <th></th>\n",
       "      <th></th>\n",
       "      <th></th>\n",
       "      <th></th>\n",
       "    </tr>\n",
       "  </thead>\n",
       "  <tbody>\n",
       "    <tr>\n",
       "      <td>nm0061671</td>\n",
       "      <td>Mary Ellen Bauder</td>\n",
       "      <td>NaN</td>\n",
       "      <td>NaN</td>\n",
       "      <td>[miscellaneous, production_manager, producer]</td>\n",
       "      <td>[tt0837562, tt2398241, tt0844471, tt0118553]</td>\n",
       "    </tr>\n",
       "    <tr>\n",
       "      <td>nm0061865</td>\n",
       "      <td>Joseph Bauer</td>\n",
       "      <td>NaN</td>\n",
       "      <td>NaN</td>\n",
       "      <td>[composer, music_department, sound_department]</td>\n",
       "      <td>[tt0896534, tt6791238, tt0287072, tt1682940]</td>\n",
       "    </tr>\n",
       "    <tr>\n",
       "      <td>nm0062070</td>\n",
       "      <td>Bruce Baum</td>\n",
       "      <td>NaN</td>\n",
       "      <td>NaN</td>\n",
       "      <td>[miscellaneous, actor, writer]</td>\n",
       "      <td>[tt1470654, tt0363631, tt0104030, tt0102898]</td>\n",
       "    </tr>\n",
       "    <tr>\n",
       "      <td>nm0062195</td>\n",
       "      <td>Axel Baumann</td>\n",
       "      <td>NaN</td>\n",
       "      <td>NaN</td>\n",
       "      <td>[camera_department, cinematographer, art_depar...</td>\n",
       "      <td>[tt0114371, tt2004304, tt1618448, tt1224387]</td>\n",
       "    </tr>\n",
       "    <tr>\n",
       "      <td>nm0062798</td>\n",
       "      <td>Pete Baxter</td>\n",
       "      <td>NaN</td>\n",
       "      <td>NaN</td>\n",
       "      <td>[production_designer, art_department, set_deco...</td>\n",
       "      <td>[tt0452644, tt0452692, tt3458030, tt2178256]</td>\n",
       "    </tr>\n",
       "  </tbody>\n",
       "</table>\n",
       "</div>"
      ],
      "text/plain": [
       "                primary_name  birth_year  death_year  \\\n",
       "nconst                                                 \n",
       "nm0061671  Mary Ellen Bauder         NaN         NaN   \n",
       "nm0061865       Joseph Bauer         NaN         NaN   \n",
       "nm0062070         Bruce Baum         NaN         NaN   \n",
       "nm0062195       Axel Baumann         NaN         NaN   \n",
       "nm0062798        Pete Baxter         NaN         NaN   \n",
       "\n",
       "                                          primary_profession  \\\n",
       "nconst                                                         \n",
       "nm0061671      [miscellaneous, production_manager, producer]   \n",
       "nm0061865     [composer, music_department, sound_department]   \n",
       "nm0062070                     [miscellaneous, actor, writer]   \n",
       "nm0062195  [camera_department, cinematographer, art_depar...   \n",
       "nm0062798  [production_designer, art_department, set_deco...   \n",
       "\n",
       "                                       known_for_titles  \n",
       "nconst                                                   \n",
       "nm0061671  [tt0837562, tt2398241, tt0844471, tt0118553]  \n",
       "nm0061865  [tt0896534, tt6791238, tt0287072, tt1682940]  \n",
       "nm0062070  [tt1470654, tt0363631, tt0104030, tt0102898]  \n",
       "nm0062195  [tt0114371, tt2004304, tt1618448, tt1224387]  \n",
       "nm0062798  [tt0452644, tt0452692, tt3458030, tt2178256]  "
      ]
     },
     "execution_count": 20,
     "metadata": {},
     "output_type": "execute_result"
    }
   ],
   "source": [
    "df_repository['imdb_name_basics_gz'].head()"
   ]
  },
  {
   "cell_type": "markdown",
   "metadata": {},
   "source": [
    "### Deletion of rows\n",
    "Rows with NaN either on known_for_titles column or on primary_profession were excluded"
   ]
  },
  {
   "cell_type": "code",
   "execution_count": 21,
   "metadata": {
    "ExecuteTime": {
     "end_time": "2020-06-23T10:17:29.079965Z",
     "start_time": "2020-06-23T10:17:28.428183Z"
    },
    "scrolled": false
   },
   "outputs": [],
   "source": [
    "# data cleaning for **imdb_name_basics_gz**\n",
    "\n",
    "# deletes rows with NaN either on known_for_titles column or on primary_profession\n",
    "\n",
    "# selects index of rows to delete\n",
    "filt1 = df_repository['imdb_name_basics_gz'].known_for_titles.isna()\n",
    "filt2 = df_repository['imdb_name_basics_gz'].primary_profession.isna()\n",
    "\n",
    "# merges them into a set\n",
    "index_to_drop = set( \n",
    "    list( df_repository['imdb_name_basics_gz'].loc[filt1].index )\n",
    "    + list( df_repository['imdb_name_basics_gz'].loc[filt2].index ))\n",
    "\n",
    "\n",
    "df_repository['imdb_name_basics_gz'].drop(index=index_to_drop, inplace=True)"
   ]
  },
  {
   "cell_type": "code",
   "execution_count": 22,
   "metadata": {
    "ExecuteTime": {
     "end_time": "2020-06-23T10:17:29.212620Z",
     "start_time": "2020-06-23T10:17:29.084300Z"
    }
   },
   "outputs": [
    {
     "name": "stdout",
     "output_type": "stream",
     "text": [
      "0\n",
      "0\n"
     ]
    }
   ],
   "source": [
    "# testing\n",
    "print(df_repository['imdb_name_basics_gz'].known_for_titles.isna().sum())\n",
    "print(df_repository['imdb_name_basics_gz'].primary_profession.isna().sum())"
   ]
  },
  {
   "cell_type": "markdown",
   "metadata": {},
   "source": [
    "### New Features - Professions\n",
    "\n",
    "Adding new columns that tell if the person is an actor, a director or a producer"
   ]
  },
  {
   "cell_type": "code",
   "execution_count": 23,
   "metadata": {
    "ExecuteTime": {
     "end_time": "2020-06-23T10:17:30.944279Z",
     "start_time": "2020-06-23T10:17:29.225065Z"
    }
   },
   "outputs": [],
   "source": [
    "# adds features to **df_repository['imdb_name_basics_gz']**\n",
    "# by using the custom function is_prof\n",
    "\n",
    "\n",
    "# index reset to facilitate creation of features\n",
    "df_repository['imdb_name_basics_gz'].reset_index(inplace=True) \n",
    "\n",
    "\n",
    "    # new columns that tell if the person is a:\n",
    "    \n",
    "        # an actor/actress\n",
    "actor_col = is_prof(df_repository['imdb_name_basics_gz'].primary_profession, \n",
    "                           'actor', profession2='actress')\n",
    "\n",
    "df_repository['imdb_name_basics_gz']['is_actor'] = actor_col.reset_index().is_actor\n",
    "\n",
    "\n",
    "        # a producer \n",
    "prod_col = is_prof(df_repository['imdb_name_basics_gz'].primary_profession, \n",
    "                              'producer')\n",
    "\n",
    "df_repository['imdb_name_basics_gz']['is_producer'] = prod_col.reset_index().is_producer\n",
    "\n",
    "        # a director \n",
    "dir_col = is_prof(df_repository['imdb_name_basics_gz'].primary_profession, \n",
    "                              'director')\n",
    "\n",
    "df_repository['imdb_name_basics_gz']['is_director'] = dir_col.reset_index().is_director"
   ]
  },
  {
   "cell_type": "code",
   "execution_count": 24,
   "metadata": {
    "ExecuteTime": {
     "end_time": "2020-06-23T10:17:30.982825Z",
     "start_time": "2020-06-23T10:17:30.950212Z"
    }
   },
   "outputs": [
    {
     "data": {
      "text/html": [
       "<div>\n",
       "<style scoped>\n",
       "    .dataframe tbody tr th:only-of-type {\n",
       "        vertical-align: middle;\n",
       "    }\n",
       "\n",
       "    .dataframe tbody tr th {\n",
       "        vertical-align: top;\n",
       "    }\n",
       "\n",
       "    .dataframe thead th {\n",
       "        text-align: right;\n",
       "    }\n",
       "</style>\n",
       "<table border=\"1\" class=\"dataframe\">\n",
       "  <thead>\n",
       "    <tr style=\"text-align: right;\">\n",
       "      <th></th>\n",
       "      <th>nconst</th>\n",
       "      <th>primary_name</th>\n",
       "      <th>birth_year</th>\n",
       "      <th>death_year</th>\n",
       "      <th>primary_profession</th>\n",
       "      <th>known_for_titles</th>\n",
       "      <th>is_actor</th>\n",
       "      <th>is_producer</th>\n",
       "      <th>is_director</th>\n",
       "    </tr>\n",
       "  </thead>\n",
       "  <tbody>\n",
       "    <tr>\n",
       "      <td>0</td>\n",
       "      <td>nm0061671</td>\n",
       "      <td>Mary Ellen Bauder</td>\n",
       "      <td>NaN</td>\n",
       "      <td>NaN</td>\n",
       "      <td>[miscellaneous, production_manager, producer]</td>\n",
       "      <td>[tt0837562, tt2398241, tt0844471, tt0118553]</td>\n",
       "      <td>0</td>\n",
       "      <td>1</td>\n",
       "      <td>0</td>\n",
       "    </tr>\n",
       "    <tr>\n",
       "      <td>1</td>\n",
       "      <td>nm0061865</td>\n",
       "      <td>Joseph Bauer</td>\n",
       "      <td>NaN</td>\n",
       "      <td>NaN</td>\n",
       "      <td>[composer, music_department, sound_department]</td>\n",
       "      <td>[tt0896534, tt6791238, tt0287072, tt1682940]</td>\n",
       "      <td>0</td>\n",
       "      <td>0</td>\n",
       "      <td>0</td>\n",
       "    </tr>\n",
       "    <tr>\n",
       "      <td>2</td>\n",
       "      <td>nm0062070</td>\n",
       "      <td>Bruce Baum</td>\n",
       "      <td>NaN</td>\n",
       "      <td>NaN</td>\n",
       "      <td>[miscellaneous, actor, writer]</td>\n",
       "      <td>[tt1470654, tt0363631, tt0104030, tt0102898]</td>\n",
       "      <td>1</td>\n",
       "      <td>0</td>\n",
       "      <td>0</td>\n",
       "    </tr>\n",
       "    <tr>\n",
       "      <td>3</td>\n",
       "      <td>nm0062195</td>\n",
       "      <td>Axel Baumann</td>\n",
       "      <td>NaN</td>\n",
       "      <td>NaN</td>\n",
       "      <td>[camera_department, cinematographer, art_depar...</td>\n",
       "      <td>[tt0114371, tt2004304, tt1618448, tt1224387]</td>\n",
       "      <td>0</td>\n",
       "      <td>0</td>\n",
       "      <td>0</td>\n",
       "    </tr>\n",
       "    <tr>\n",
       "      <td>4</td>\n",
       "      <td>nm0062798</td>\n",
       "      <td>Pete Baxter</td>\n",
       "      <td>NaN</td>\n",
       "      <td>NaN</td>\n",
       "      <td>[production_designer, art_department, set_deco...</td>\n",
       "      <td>[tt0452644, tt0452692, tt3458030, tt2178256]</td>\n",
       "      <td>0</td>\n",
       "      <td>0</td>\n",
       "      <td>0</td>\n",
       "    </tr>\n",
       "  </tbody>\n",
       "</table>\n",
       "</div>"
      ],
      "text/plain": [
       "      nconst       primary_name  birth_year  death_year  \\\n",
       "0  nm0061671  Mary Ellen Bauder         NaN         NaN   \n",
       "1  nm0061865       Joseph Bauer         NaN         NaN   \n",
       "2  nm0062070         Bruce Baum         NaN         NaN   \n",
       "3  nm0062195       Axel Baumann         NaN         NaN   \n",
       "4  nm0062798        Pete Baxter         NaN         NaN   \n",
       "\n",
       "                                  primary_profession  \\\n",
       "0      [miscellaneous, production_manager, producer]   \n",
       "1     [composer, music_department, sound_department]   \n",
       "2                     [miscellaneous, actor, writer]   \n",
       "3  [camera_department, cinematographer, art_depar...   \n",
       "4  [production_designer, art_department, set_deco...   \n",
       "\n",
       "                               known_for_titles  is_actor  is_producer  \\\n",
       "0  [tt0837562, tt2398241, tt0844471, tt0118553]         0            1   \n",
       "1  [tt0896534, tt6791238, tt0287072, tt1682940]         0            0   \n",
       "2  [tt1470654, tt0363631, tt0104030, tt0102898]         1            0   \n",
       "3  [tt0114371, tt2004304, tt1618448, tt1224387]         0            0   \n",
       "4  [tt0452644, tt0452692, tt3458030, tt2178256]         0            0   \n",
       "\n",
       "   is_director  \n",
       "0            0  \n",
       "1            0  \n",
       "2            0  \n",
       "3            0  \n",
       "4            0  "
      ]
     },
     "execution_count": 24,
     "metadata": {},
     "output_type": "execute_result"
    }
   ],
   "source": [
    "df_repository['imdb_name_basics_gz'].head()"
   ]
  },
  {
   "cell_type": "markdown",
   "metadata": {},
   "source": [
    "#### Deletion of rows\n",
    "\n",
    "Cleans away rows of people who are neither a director, an actor nor a producer"
   ]
  },
  {
   "cell_type": "code",
   "execution_count": 25,
   "metadata": {
    "ExecuteTime": {
     "end_time": "2020-06-23T10:17:31.396266Z",
     "start_time": "2020-06-23T10:17:30.985868Z"
    }
   },
   "outputs": [
    {
     "data": {
      "text/plain": [
       "(0, 9)"
      ]
     },
     "execution_count": 25,
     "metadata": {},
     "output_type": "execute_result"
    }
   ],
   "source": [
    "# cleans away rows of people who are neither a director, \n",
    "# an actor nor a producer \n",
    "\n",
    "filt = (df_repository['imdb_name_basics_gz'].is_actor \n",
    "        + df_repository['imdb_name_basics_gz'].is_director \n",
    "        + df_repository['imdb_name_basics_gz'].is_producer) == 0\n",
    "\n",
    "index_to_drop = df_repository['imdb_name_basics_gz'].loc[filt].index\n",
    "\n",
    "df_repository['imdb_name_basics_gz'].drop(\n",
    "    index=index_to_drop, inplace=True)\n",
    "\n",
    "#testing\n",
    "df_repository['imdb_name_basics_gz'].loc[filt].shape"
   ]
  },
  {
   "cell_type": "markdown",
   "metadata": {},
   "source": [
    " "
   ]
  },
  {
   "cell_type": "markdown",
   "metadata": {},
   "source": [
    "### New Features - cross reference with financial figures\n",
    "Since we have access to financial information about several movies, we can cross reference that with the movies listed for each professional in **imdb_name_basics_gz**"
   ]
  },
  {
   "cell_type": "code",
   "execution_count": 26,
   "metadata": {
    "ExecuteTime": {
     "end_time": "2020-06-23T10:18:46.778985Z",
     "start_time": "2020-06-23T10:17:31.399705Z"
    }
   },
   "outputs": [
    {
     "name": "stdout",
     "output_type": "stream",
     "text": [
      "<class 'pandas.core.frame.DataFrame'>\n",
      "RangeIndex: 420019 entries, 0 to 420018\n",
      "Data columns (total 2 columns):\n",
      "avg_grossing      420019 non-null float64\n",
      "total_grossing    420019 non-null float64\n",
      "dtypes: float64(2)\n",
      "memory usage: 6.4 MB\n"
     ]
    }
   ],
   "source": [
    "# creates two new columns to **df_repository['imdb_name_basics_gz']** :\n",
    "    \n",
    "#     avg_grossing: will contain the average grossing of movies\n",
    "#                   the person is known for\n",
    "    \n",
    "#     total_grossing: will contain the sum of grossing of movies\n",
    "#                   the person is known for \n",
    "    \n",
    "\n",
    "# will contain values selected for new avg_grossing colum    \n",
    "avg_grossing_column = [] \n",
    "\n",
    "# will contain values selected for new avg_grossing colum\n",
    "total_grossing_column = [] \n",
    "\n",
    "\n",
    "for row in df_repository['imdb_name_basics_gz'].known_for_titles:\n",
    "    \n",
    "    # colects the numbers computed for each row \n",
    "    grossing_row = [] \n",
    "    \n",
    "    for movie in row:\n",
    "        \n",
    "        # checks if the movie being parsed \n",
    "        # is contained in the df_imdb_financials, \n",
    "        # which is where we can fetch the grossing figures\n",
    "        if movie in df_imdb_financials.index: \n",
    "            \n",
    "            # if a movie has more than \n",
    "            # one version (different relase dates, for ex),  \n",
    "            # the loop will return a data series \n",
    "            # (slice of df_imdb_financials) instead\n",
    "            # of a single value\n",
    "            if isinstance(df_imdb_financials.loc[movie], pd.DataFrame):\n",
    "                \n",
    "                # in that case, we select the last value\n",
    "                grossing = df_imdb_financials.loc[movie].iloc[-1,-1]\n",
    "            \n",
    "            # otherwise the single value found is selected\n",
    "            else:\n",
    "                grossing = df_imdb_financials.worldwide_gross.loc[movie] \n",
    "                \n",
    "            # appends the value found to \n",
    "            # grossing_row for further computation\n",
    "            grossing_row.append(grossing)\n",
    "            \n",
    "    # if after parsing the row, something is found:\n",
    "    if len(grossing_row) > 0:\n",
    "        \n",
    "        # the average is calculated and appended to avg_grossing\n",
    "        avg_grossing = sum(grossing_row)/len(grossing_row)\n",
    "        avg_grossing_column.append(avg_grossing)\n",
    "        \n",
    "         #the total is calculated and appended to total_grossing\n",
    "        total_grossing_column.append(sum(grossing_row))\n",
    "        \n",
    "    # otherwiser 0 is appended so that the final series\n",
    "    # is the correct length \n",
    "    else:\n",
    "        avg_grossing_column.append(0)\n",
    "        total_grossing_column.append(0)\n",
    "\n",
    "# dictionary with computed values\n",
    "dict_grossings = {'avg_grossing': avg_grossing_column,\n",
    "                  'total_grossing': total_grossing_column}\n",
    "\n",
    "# new DF with computed values\n",
    "df_professionals_grossings = pd.DataFrame(dict_grossings)\n",
    "\n",
    "df_professionals_grossings.info()"
   ]
  },
  {
   "cell_type": "code",
   "execution_count": 27,
   "metadata": {
    "ExecuteTime": {
     "end_time": "2020-06-23T10:18:47.028393Z",
     "start_time": "2020-06-23T10:18:46.784925Z"
    }
   },
   "outputs": [
    {
     "data": {
      "text/html": [
       "<div>\n",
       "<style scoped>\n",
       "    .dataframe tbody tr th:only-of-type {\n",
       "        vertical-align: middle;\n",
       "    }\n",
       "\n",
       "    .dataframe tbody tr th {\n",
       "        vertical-align: top;\n",
       "    }\n",
       "\n",
       "    .dataframe thead th {\n",
       "        text-align: right;\n",
       "    }\n",
       "</style>\n",
       "<table border=\"1\" class=\"dataframe\">\n",
       "  <thead>\n",
       "    <tr style=\"text-align: right;\">\n",
       "      <th></th>\n",
       "      <th>nconst</th>\n",
       "      <th>primary_name</th>\n",
       "      <th>death_year</th>\n",
       "      <th>known_for_titles</th>\n",
       "      <th>is_actor</th>\n",
       "      <th>is_producer</th>\n",
       "      <th>is_director</th>\n",
       "      <th>avg_grossing</th>\n",
       "      <th>total_grossing</th>\n",
       "    </tr>\n",
       "  </thead>\n",
       "  <tbody>\n",
       "    <tr>\n",
       "      <td>0</td>\n",
       "      <td>nm0061671</td>\n",
       "      <td>Mary Ellen Bauder</td>\n",
       "      <td>NaN</td>\n",
       "      <td>[tt0837562, tt2398241, tt0844471, tt0118553]</td>\n",
       "      <td>0</td>\n",
       "      <td>1</td>\n",
       "      <td>0</td>\n",
       "      <td>1.508083e+09</td>\n",
       "      <td>3.016166e+09</td>\n",
       "    </tr>\n",
       "    <tr>\n",
       "      <td>1</td>\n",
       "      <td>nm0062070</td>\n",
       "      <td>Bruce Baum</td>\n",
       "      <td>NaN</td>\n",
       "      <td>[tt1470654, tt0363631, tt0104030, tt0102898]</td>\n",
       "      <td>1</td>\n",
       "      <td>0</td>\n",
       "      <td>0</td>\n",
       "      <td>0.000000e+00</td>\n",
       "      <td>0.000000e+00</td>\n",
       "    </tr>\n",
       "    <tr>\n",
       "      <td>2</td>\n",
       "      <td>nm0062879</td>\n",
       "      <td>Ruel S. Bayani</td>\n",
       "      <td>NaN</td>\n",
       "      <td>[tt2590280, tt0352080, tt0216559, tt2057445]</td>\n",
       "      <td>0</td>\n",
       "      <td>0</td>\n",
       "      <td>1</td>\n",
       "      <td>0.000000e+00</td>\n",
       "      <td>0.000000e+00</td>\n",
       "    </tr>\n",
       "    <tr>\n",
       "      <td>3</td>\n",
       "      <td>nm0063198</td>\n",
       "      <td>Bayou</td>\n",
       "      <td>NaN</td>\n",
       "      <td>[tt6579724, tt0093116]</td>\n",
       "      <td>1</td>\n",
       "      <td>0</td>\n",
       "      <td>0</td>\n",
       "      <td>0.000000e+00</td>\n",
       "      <td>0.000000e+00</td>\n",
       "    </tr>\n",
       "    <tr>\n",
       "      <td>4</td>\n",
       "      <td>nm0063750</td>\n",
       "      <td>Lindsay Beamish</td>\n",
       "      <td>NaN</td>\n",
       "      <td>[tt0404826, tt0111756, tt0367027, tt1492842]</td>\n",
       "      <td>1</td>\n",
       "      <td>0</td>\n",
       "      <td>0</td>\n",
       "      <td>0.000000e+00</td>\n",
       "      <td>0.000000e+00</td>\n",
       "    </tr>\n",
       "  </tbody>\n",
       "</table>\n",
       "</div>"
      ],
      "text/plain": [
       "      nconst       primary_name  death_year  \\\n",
       "0  nm0061671  Mary Ellen Bauder         NaN   \n",
       "1  nm0062070         Bruce Baum         NaN   \n",
       "2  nm0062879     Ruel S. Bayani         NaN   \n",
       "3  nm0063198              Bayou         NaN   \n",
       "4  nm0063750    Lindsay Beamish         NaN   \n",
       "\n",
       "                               known_for_titles  is_actor  is_producer  \\\n",
       "0  [tt0837562, tt2398241, tt0844471, tt0118553]         0            1   \n",
       "1  [tt1470654, tt0363631, tt0104030, tt0102898]         1            0   \n",
       "2  [tt2590280, tt0352080, tt0216559, tt2057445]         0            0   \n",
       "3                        [tt6579724, tt0093116]         1            0   \n",
       "4  [tt0404826, tt0111756, tt0367027, tt1492842]         1            0   \n",
       "\n",
       "   is_director  avg_grossing  total_grossing  \n",
       "0            0  1.508083e+09    3.016166e+09  \n",
       "1            0  0.000000e+00    0.000000e+00  \n",
       "2            1  0.000000e+00    0.000000e+00  \n",
       "3            0  0.000000e+00    0.000000e+00  \n",
       "4            0  0.000000e+00    0.000000e+00  "
      ]
     },
     "execution_count": 27,
     "metadata": {},
     "output_type": "execute_result"
    }
   ],
   "source": [
    "# adds the new columns from the newly created ***df_professionals_grossings***  \n",
    "# into  ***df_repository['imdb_name_basics_gz']***\n",
    "\n",
    "\n",
    "# resets index in order to create the new columns that \n",
    "# match df_professionals_grossings\n",
    "df_repository['imdb_name_basics_gz'].reset_index(inplace=True)\n",
    "df_repository['imdb_name_basics_gz'].drop(columns='index', inplace=True)\n",
    "\n",
    "#creates the new columns\n",
    "df_repository['imdb_name_basics_gz']['avg_grossing'] = df_professionals_grossings.loc[:,'avg_grossing']\n",
    "df_repository['imdb_name_basics_gz']['total_grossing'] = df_professionals_grossings.loc[:,'total_grossing']\n",
    "\n",
    "\n",
    "# additional data cleaning - drops columns **birth_year** \n",
    "# and  **primary_profession** \n",
    "df_repository['imdb_name_basics_gz'].drop(\n",
    "    columns=['birth_year','primary_profession'], inplace=True)\n",
    "\n",
    "df_repository['imdb_name_basics_gz'].head()"
   ]
  },
  {
   "cell_type": "markdown",
   "metadata": {},
   "source": [
    "#### Deleton of Rows\n",
    "Drops rows where **avg_grossing** is zero"
   ]
  },
  {
   "cell_type": "code",
   "execution_count": 28,
   "metadata": {
    "ExecuteTime": {
     "end_time": "2020-06-23T10:18:47.241106Z",
     "start_time": "2020-06-23T10:18:47.031019Z"
    }
   },
   "outputs": [
    {
     "data": {
      "text/plain": [
       "(0, 9)"
      ]
     },
     "execution_count": 28,
     "metadata": {},
     "output_type": "execute_result"
    }
   ],
   "source": [
    "# additional cleaning - drops rows where **avg_grossing** is zero\n",
    "\n",
    "filt = df_repository['imdb_name_basics_gz'][\"avg_grossing\"] == 0\n",
    "index_to_drop = df_repository['imdb_name_basics_gz'].loc[filt].index\n",
    "\n",
    "df_repository['imdb_name_basics_gz'].drop(index=index_to_drop,inplace=True)\n",
    "\n",
    "#testing\n",
    "df_repository['imdb_name_basics_gz'].loc[filt].shape"
   ]
  },
  {
   "cell_type": "markdown",
   "metadata": {},
   "source": [
    " "
   ]
  },
  {
   "cell_type": "markdown",
   "metadata": {},
   "source": [
    "## **imdb_title_basics_gz**"
   ]
  },
  {
   "cell_type": "markdown",
   "metadata": {},
   "source": [
    "Moving on to explore and clean data about movie genres"
   ]
  },
  {
   "cell_type": "markdown",
   "metadata": {},
   "source": [
    "### Data Type Cleaning\n",
    "Splits the string values in *genres* into a list of genres"
   ]
  },
  {
   "cell_type": "code",
   "execution_count": 29,
   "metadata": {
    "ExecuteTime": {
     "end_time": "2020-06-23T10:18:47.645620Z",
     "start_time": "2020-06-23T10:18:47.243128Z"
    }
   },
   "outputs": [
    {
     "data": {
      "text/html": [
       "<div>\n",
       "<style scoped>\n",
       "    .dataframe tbody tr th:only-of-type {\n",
       "        vertical-align: middle;\n",
       "    }\n",
       "\n",
       "    .dataframe tbody tr th {\n",
       "        vertical-align: top;\n",
       "    }\n",
       "\n",
       "    .dataframe thead th {\n",
       "        text-align: right;\n",
       "    }\n",
       "</style>\n",
       "<table border=\"1\" class=\"dataframe\">\n",
       "  <thead>\n",
       "    <tr style=\"text-align: right;\">\n",
       "      <th></th>\n",
       "      <th>primary_title</th>\n",
       "      <th>original_title</th>\n",
       "      <th>start_year</th>\n",
       "      <th>runtime_minutes</th>\n",
       "      <th>genres</th>\n",
       "    </tr>\n",
       "    <tr>\n",
       "      <th>tconst</th>\n",
       "      <th></th>\n",
       "      <th></th>\n",
       "      <th></th>\n",
       "      <th></th>\n",
       "      <th></th>\n",
       "    </tr>\n",
       "  </thead>\n",
       "  <tbody>\n",
       "    <tr>\n",
       "      <td>tt0063540</td>\n",
       "      <td>Sunghursh</td>\n",
       "      <td>Sunghursh</td>\n",
       "      <td>2013</td>\n",
       "      <td>175.0</td>\n",
       "      <td>[Action, Crime, Drama]</td>\n",
       "    </tr>\n",
       "    <tr>\n",
       "      <td>tt0066787</td>\n",
       "      <td>One Day Before the Rainy Season</td>\n",
       "      <td>Ashad Ka Ek Din</td>\n",
       "      <td>2019</td>\n",
       "      <td>114.0</td>\n",
       "      <td>[Biography, Drama]</td>\n",
       "    </tr>\n",
       "    <tr>\n",
       "      <td>tt0069049</td>\n",
       "      <td>The Other Side of the Wind</td>\n",
       "      <td>The Other Side of the Wind</td>\n",
       "      <td>2018</td>\n",
       "      <td>122.0</td>\n",
       "      <td>[Drama]</td>\n",
       "    </tr>\n",
       "    <tr>\n",
       "      <td>tt0069204</td>\n",
       "      <td>Sabse Bada Sukh</td>\n",
       "      <td>Sabse Bada Sukh</td>\n",
       "      <td>2018</td>\n",
       "      <td>NaN</td>\n",
       "      <td>[Comedy, Drama]</td>\n",
       "    </tr>\n",
       "    <tr>\n",
       "      <td>tt0100275</td>\n",
       "      <td>The Wandering Soap Opera</td>\n",
       "      <td>La Telenovela Errante</td>\n",
       "      <td>2017</td>\n",
       "      <td>80.0</td>\n",
       "      <td>[Comedy, Drama, Fantasy]</td>\n",
       "    </tr>\n",
       "  </tbody>\n",
       "</table>\n",
       "</div>"
      ],
      "text/plain": [
       "                             primary_title              original_title  \\\n",
       "tconst                                                                   \n",
       "tt0063540                        Sunghursh                   Sunghursh   \n",
       "tt0066787  One Day Before the Rainy Season             Ashad Ka Ek Din   \n",
       "tt0069049       The Other Side of the Wind  The Other Side of the Wind   \n",
       "tt0069204                  Sabse Bada Sukh             Sabse Bada Sukh   \n",
       "tt0100275         The Wandering Soap Opera       La Telenovela Errante   \n",
       "\n",
       "           start_year  runtime_minutes                    genres  \n",
       "tconst                                                            \n",
       "tt0063540        2013            175.0    [Action, Crime, Drama]  \n",
       "tt0066787        2019            114.0        [Biography, Drama]  \n",
       "tt0069049        2018            122.0                   [Drama]  \n",
       "tt0069204        2018              NaN           [Comedy, Drama]  \n",
       "tt0100275        2017             80.0  [Comedy, Drama, Fantasy]  "
      ]
     },
     "execution_count": 29,
     "metadata": {},
     "output_type": "execute_result"
    }
   ],
   "source": [
    "# data cleaning\n",
    "\n",
    "# splits the string values in *genres* into a list of genres\n",
    "df_repository['imdb_title_basics_gz']['genres'] = df_repository[\n",
    "    'imdb_title_basics_gz'].genres.str.split(',')\n",
    "\n",
    "#testing\n",
    "df_repository['imdb_title_basics_gz'].head()"
   ]
  },
  {
   "cell_type": "markdown",
   "metadata": {},
   "source": [
    "### Row Deletions\n",
    "Deleting rows where column *genre* is empty"
   ]
  },
  {
   "cell_type": "code",
   "execution_count": 30,
   "metadata": {
    "ExecuteTime": {
     "end_time": "2020-06-23T10:18:47.732564Z",
     "start_time": "2020-06-23T10:18:47.647580Z"
    }
   },
   "outputs": [],
   "source": [
    "# data cleaning\n",
    "\n",
    "# finds rows where column *genre* is empty\n",
    "filt = df_repository['imdb_title_basics_gz'].genres.isna()\n",
    "index_to_drop = df_repository['imdb_title_basics_gz'].loc[filt].index\n",
    "\n",
    "# drops those rows inplace\n",
    "df_repository['imdb_title_basics_gz'].genres.drop(index=index_to_drop,\n",
    "                                                  inplace=True)\n"
   ]
  },
  {
   "cell_type": "code",
   "execution_count": 31,
   "metadata": {
    "ExecuteTime": {
     "end_time": "2020-06-23T10:18:47.764332Z",
     "start_time": "2020-06-23T10:18:47.735410Z"
    }
   },
   "outputs": [
    {
     "data": {
      "text/plain": [
       "0"
      ]
     },
     "execution_count": 31,
     "metadata": {},
     "output_type": "execute_result"
    }
   ],
   "source": [
    "#testing\n",
    "df_repository['imdb_title_basics_gz'].genres.isna().sum()"
   ]
  },
  {
   "cell_type": "code",
   "execution_count": 32,
   "metadata": {
    "ExecuteTime": {
     "end_time": "2020-06-23T10:18:47.902963Z",
     "start_time": "2020-06-23T10:18:47.767324Z"
    },
    "scrolled": true
   },
   "outputs": [
    {
     "data": {
      "text/plain": [
       "{'Action',\n",
       " 'Adult',\n",
       " 'Adventure',\n",
       " 'Animation',\n",
       " 'Biography',\n",
       " 'Comedy',\n",
       " 'Crime',\n",
       " 'Documentary',\n",
       " 'Drama',\n",
       " 'Family',\n",
       " 'Fantasy',\n",
       " 'Game-Show',\n",
       " 'History',\n",
       " 'Horror',\n",
       " 'Music',\n",
       " 'Musical',\n",
       " 'Mystery',\n",
       " 'News',\n",
       " 'Reality-TV',\n",
       " 'Romance',\n",
       " 'Sci-Fi',\n",
       " 'Short',\n",
       " 'Sport',\n",
       " 'Talk-Show',\n",
       " 'Thriller',\n",
       " 'War',\n",
       " 'Western'}"
      ]
     },
     "execution_count": 32,
     "metadata": {},
     "output_type": "execute_result"
    }
   ],
   "source": [
    "# finds all unique values for genre\n",
    "\n",
    "# loop to create a set of all genres in the column\n",
    "genres_list = []\n",
    "for row in df_repository['imdb_title_basics_gz'].genres:\n",
    "    for genre in row:\n",
    "        genres_list.append(genre)\n",
    "\n",
    "genres_set = set(genres_list)\n",
    "\n",
    "genres_set"
   ]
  },
  {
   "cell_type": "markdown",
   "metadata": {},
   "source": [
    "### Subdividing \n",
    "Creates a DF for genres and their frequency"
   ]
  },
  {
   "cell_type": "code",
   "execution_count": 33,
   "metadata": {
    "ExecuteTime": {
     "end_time": "2020-06-23T10:18:51.344470Z",
     "start_time": "2020-06-23T10:18:47.905953Z"
    }
   },
   "outputs": [
    {
     "data": {
      "text/plain": [
       "['Documentary',\n",
       " 'Drama',\n",
       " 'Comedy',\n",
       " 'Thriller',\n",
       " 'Horror',\n",
       " 'Action',\n",
       " 'Romance',\n",
       " 'Biography',\n",
       " 'Crime',\n",
       " 'Adventure']"
      ]
     },
     "execution_count": 33,
     "metadata": {},
     "output_type": "execute_result"
    }
   ],
   "source": [
    "# what are the most commum genres?\n",
    "\n",
    "\n",
    "# creates a df for  genres and their frequency\n",
    " \n",
    "df_genres_ranking = pd.DataFrame({\n",
    "    \n",
    "    'n_movies': [   np.full(   len(genres_set), 0   )   ]},\n",
    "    \n",
    "    index = list(genres_set))\n",
    "\n",
    "\n",
    "# loops through all listed genres and \n",
    "# updates **df_genres_ranking** with their instance count\n",
    "\n",
    "for genre in df_genres_ranking.index:\n",
    "    \n",
    "    # is_prof() returns a specific column name\n",
    "    returned_col_name = 'is_' + str(genre)\n",
    "    \n",
    "    # the count is calculated by passing the 'genres' column and\n",
    "    # a genre name through is_prof() and adding up\n",
    "    # all the positive results of the returned series\n",
    "    n_instances = is_prof(df_repository['imdb_title_basics_gz'].genres,\n",
    "                          genre)[returned_col_name].sum()\n",
    "    \n",
    "    # updates **df_genres_ranking** accordingly \n",
    "    df_genres_ranking.loc[genre, ['n_movies']] = n_instances\n",
    "    \n",
    "top_genres = list(\n",
    "    df_genres_ranking.n_movies.nlargest(10).index)\n",
    "\n",
    "top_genres"
   ]
  },
  {
   "cell_type": "code",
   "execution_count": 34,
   "metadata": {
    "ExecuteTime": {
     "end_time": "2020-06-23T10:18:51.357698Z",
     "start_time": "2020-06-23T10:18:51.350402Z"
    }
   },
   "outputs": [],
   "source": [
    "# renames the index of **df_repository['imdb_title_basics_gz']** \n",
    "# to facilitate merging later on\n",
    "\n",
    "df_repository['imdb_title_basics_gz'].index.names = ['title_id']\n"
   ]
  },
  {
   "cell_type": "markdown",
   "metadata": {},
   "source": [
    "## Second Merge\n",
    "Merges   **imdb_title_basics_gz**   with information data from   **df_imdb_financials**"
   ]
  },
  {
   "cell_type": "code",
   "execution_count": 35,
   "metadata": {
    "ExecuteTime": {
     "end_time": "2020-06-23T10:18:51.532302Z",
     "start_time": "2020-06-23T10:18:51.361358Z"
    }
   },
   "outputs": [
    {
     "name": "stdout",
     "output_type": "stream",
     "text": [
      "<class 'pandas.core.frame.DataFrame'>\n",
      "Index: 3856 entries, tt0137204 to tt9899880\n",
      "Data columns (total 7 columns):\n",
      "primary_title      3856 non-null object\n",
      "original_title     3856 non-null object\n",
      "start_year         3856 non-null int64\n",
      "runtime_minutes    3532 non-null float64\n",
      "genres             3821 non-null object\n",
      "worldwide_gross    3856 non-null float64\n",
      "total_profit       3856 non-null float64\n",
      "dtypes: float64(3), int64(1), object(3)\n",
      "memory usage: 241.0+ KB\n"
     ]
    }
   ],
   "source": [
    "# merges   **df_repository['imdb_title_basics_gz']**   with \n",
    "# information data from   **df_imdb_financials** \n",
    "\n",
    "df_genres_financials = pd.merge(df_repository['imdb_title_basics_gz'], \n",
    "         df_imdb_financials.loc[:,['worldwide_gross', 'total_profit']], \n",
    "         on='title_id')\n",
    "\n",
    "df_genres_financials.info()"
   ]
  },
  {
   "cell_type": "code",
   "execution_count": 36,
   "metadata": {
    "ExecuteTime": {
     "end_time": "2020-06-23T10:18:51.548226Z",
     "start_time": "2020-06-23T10:18:51.534263Z"
    }
   },
   "outputs": [],
   "source": [
    "# data cleaning\n",
    "\n",
    "# dropping columns\n",
    "df_genres_financials.drop(columns = [\n",
    "    'primary_title', 'original_title', 'start_year', 'runtime_minutes'], \n",
    "                          inplace=True)\n",
    "\n",
    "#dropping rows with NaNs\n",
    "filt_genres = df_genres_financials.genres.isna()\n",
    "filt_gross = df_genres_financials.worldwide_gross.isna()\n",
    "filt_profit = df_genres_financials.total_profit.isna()\n",
    "\n",
    "\n",
    "index_to_drop = set(\n",
    "    list( df_genres_financials.loc[filt_genres].index ) \n",
    "    + list( df_genres_financials.loc[filt_gross].index ) \n",
    "    + list( df_genres_financials.loc[filt_profit].index ))\n",
    "\n",
    "df_genres_financials.drop(index = index_to_drop, inplace=True)"
   ]
  },
  {
   "cell_type": "code",
   "execution_count": 37,
   "metadata": {
    "ExecuteTime": {
     "end_time": "2020-06-23T10:18:51.568207Z",
     "start_time": "2020-06-23T10:18:51.550219Z"
    }
   },
   "outputs": [
    {
     "name": "stdout",
     "output_type": "stream",
     "text": [
      "0\n",
      "<class 'pandas.core.frame.DataFrame'>\n",
      "Index: 3821 entries, tt0137204 to tt9899880\n",
      "Data columns (total 3 columns):\n",
      "genres             3821 non-null object\n",
      "worldwide_gross    3821 non-null float64\n",
      "total_profit       3821 non-null float64\n",
      "dtypes: float64(2), object(1)\n",
      "memory usage: 119.4+ KB\n"
     ]
    }
   ],
   "source": [
    "# testing\n",
    "print(df_genres_financials.genres.isna().sum() \n",
    "      + df_genres_financials.worldwide_gross.isna().sum() \n",
    "      + df_genres_financials.total_profit.isna().sum())\n",
    "\n",
    "df_genres_financials.info()"
   ]
  },
  {
   "cell_type": "code",
   "execution_count": 38,
   "metadata": {
    "ExecuteTime": {
     "end_time": "2020-06-23T10:18:51.580174Z",
     "start_time": "2020-06-23T10:18:51.571164Z"
    },
    "scrolled": true
   },
   "outputs": [],
   "source": [
    "# resets index to facilitate future merges\n",
    "df_genres_financials.reset_index(inplace=True)"
   ]
  },
  {
   "cell_type": "code",
   "execution_count": 39,
   "metadata": {
    "ExecuteTime": {
     "end_time": "2020-06-23T10:18:51.683862Z",
     "start_time": "2020-06-23T10:18:51.582181Z"
    },
    "scrolled": false
   },
   "outputs": [
    {
     "data": {
      "text/html": [
       "<div>\n",
       "<style scoped>\n",
       "    .dataframe tbody tr th:only-of-type {\n",
       "        vertical-align: middle;\n",
       "    }\n",
       "\n",
       "    .dataframe tbody tr th {\n",
       "        vertical-align: top;\n",
       "    }\n",
       "\n",
       "    .dataframe thead th {\n",
       "        text-align: right;\n",
       "    }\n",
       "</style>\n",
       "<table border=\"1\" class=\"dataframe\">\n",
       "  <thead>\n",
       "    <tr style=\"text-align: right;\">\n",
       "      <th></th>\n",
       "      <th>title_id</th>\n",
       "      <th>genres</th>\n",
       "      <th>worldwide_gross</th>\n",
       "      <th>total_profit</th>\n",
       "      <th>Documentary</th>\n",
       "      <th>Drama</th>\n",
       "      <th>Comedy</th>\n",
       "      <th>Thriller</th>\n",
       "      <th>Horror</th>\n",
       "      <th>Action</th>\n",
       "      <th>Romance</th>\n",
       "      <th>Biography</th>\n",
       "      <th>Crime</th>\n",
       "      <th>Adventure</th>\n",
       "    </tr>\n",
       "  </thead>\n",
       "  <tbody>\n",
       "    <tr>\n",
       "      <td>0</td>\n",
       "      <td>tt0137204</td>\n",
       "      <td>[Adventure, Animation, Comedy]</td>\n",
       "      <td>1.123062e+09</td>\n",
       "      <td>9.480616e+08</td>\n",
       "      <td>0</td>\n",
       "      <td>0</td>\n",
       "      <td>1</td>\n",
       "      <td>0</td>\n",
       "      <td>0</td>\n",
       "      <td>0</td>\n",
       "      <td>0</td>\n",
       "      <td>0</td>\n",
       "      <td>0</td>\n",
       "      <td>1</td>\n",
       "    </tr>\n",
       "    <tr>\n",
       "      <td>1</td>\n",
       "      <td>tt0249516</td>\n",
       "      <td>[Action, Animation, Comedy]</td>\n",
       "      <td>1.517936e+09</td>\n",
       "      <td>1.292936e+09</td>\n",
       "      <td>0</td>\n",
       "      <td>0</td>\n",
       "      <td>1</td>\n",
       "      <td>0</td>\n",
       "      <td>0</td>\n",
       "      <td>1</td>\n",
       "      <td>0</td>\n",
       "      <td>0</td>\n",
       "      <td>0</td>\n",
       "      <td>0</td>\n",
       "    </tr>\n",
       "    <tr>\n",
       "      <td>2</td>\n",
       "      <td>tt0293429</td>\n",
       "      <td>[Action, Adventure, Fantasy]</td>\n",
       "      <td>1.084439e+09</td>\n",
       "      <td>8.094391e+08</td>\n",
       "      <td>0</td>\n",
       "      <td>0</td>\n",
       "      <td>0</td>\n",
       "      <td>0</td>\n",
       "      <td>0</td>\n",
       "      <td>1</td>\n",
       "      <td>0</td>\n",
       "      <td>0</td>\n",
       "      <td>0</td>\n",
       "      <td>1</td>\n",
       "    </tr>\n",
       "    <tr>\n",
       "      <td>3</td>\n",
       "      <td>tt0337692</td>\n",
       "      <td>[Adventure, Drama, Romance]</td>\n",
       "      <td>8.675003e+08</td>\n",
       "      <td>6.175003e+08</td>\n",
       "      <td>0</td>\n",
       "      <td>1</td>\n",
       "      <td>0</td>\n",
       "      <td>0</td>\n",
       "      <td>0</td>\n",
       "      <td>0</td>\n",
       "      <td>1</td>\n",
       "      <td>0</td>\n",
       "      <td>0</td>\n",
       "      <td>1</td>\n",
       "    </tr>\n",
       "    <tr>\n",
       "      <td>4</td>\n",
       "      <td>tt0339736</td>\n",
       "      <td>[Horror]</td>\n",
       "      <td>1.242521e+09</td>\n",
       "      <td>1.042521e+09</td>\n",
       "      <td>0</td>\n",
       "      <td>0</td>\n",
       "      <td>0</td>\n",
       "      <td>0</td>\n",
       "      <td>1</td>\n",
       "      <td>0</td>\n",
       "      <td>0</td>\n",
       "      <td>0</td>\n",
       "      <td>0</td>\n",
       "      <td>0</td>\n",
       "    </tr>\n",
       "  </tbody>\n",
       "</table>\n",
       "</div>"
      ],
      "text/plain": [
       "    title_id                          genres  worldwide_gross  total_profit  \\\n",
       "0  tt0137204  [Adventure, Animation, Comedy]     1.123062e+09  9.480616e+08   \n",
       "1  tt0249516     [Action, Animation, Comedy]     1.517936e+09  1.292936e+09   \n",
       "2  tt0293429    [Action, Adventure, Fantasy]     1.084439e+09  8.094391e+08   \n",
       "3  tt0337692     [Adventure, Drama, Romance]     8.675003e+08  6.175003e+08   \n",
       "4  tt0339736                        [Horror]     1.242521e+09  1.042521e+09   \n",
       "\n",
       "   Documentary  Drama  Comedy  Thriller  Horror  Action  Romance  Biography  \\\n",
       "0            0      0       1         0       0       0        0          0   \n",
       "1            0      0       1         0       0       1        0          0   \n",
       "2            0      0       0         0       0       1        0          0   \n",
       "3            0      1       0         0       0       0        1          0   \n",
       "4            0      0       0         0       1       0        0          0   \n",
       "\n",
       "   Crime  Adventure  \n",
       "0      0          1  \n",
       "1      0          0  \n",
       "2      0          1  \n",
       "3      0          1  \n",
       "4      0          0  "
      ]
     },
     "execution_count": 39,
     "metadata": {},
     "output_type": "execute_result"
    }
   ],
   "source": [
    "# adds new columns to df_genres_financials\n",
    "# indicating which genres are applicable\n",
    "\n",
    "for genre in top_genres:\n",
    "    \n",
    "    # is prof() returns a on column DF with 1s or 0s\n",
    "    genre_df = is_prof(df_genres_financials.genres, genre)\n",
    "    \n",
    "    # follows the logic of is_prof() to select col name\n",
    "    returned_col = 'is_' + str(genre) \n",
    "    df_genres_financials[genre] = genre_df[returned_col]\n",
    "    \n",
    "df_genres_financials.head()\n",
    "    "
   ]
  },
  {
   "cell_type": "markdown",
   "metadata": {},
   "source": [
    "## Second approach to  **imdb_title_basics_gz**"
   ]
  },
  {
   "cell_type": "code",
   "execution_count": 40,
   "metadata": {
    "ExecuteTime": {
     "end_time": "2020-06-23T10:18:51.691842Z",
     "start_time": "2020-06-23T10:18:51.686856Z"
    }
   },
   "outputs": [],
   "source": [
    "# creating new dataframe for second analysis into genres\n",
    "\n",
    "df_imdb_genre = csv_files_dict['imdb_title_basics_gz']"
   ]
  },
  {
   "cell_type": "markdown",
   "metadata": {},
   "source": [
    "### Data Cleaning And New Features"
   ]
  },
  {
   "cell_type": "code",
   "execution_count": 41,
   "metadata": {
    "ExecuteTime": {
     "end_time": "2020-06-23T10:18:51.717807Z",
     "start_time": "2020-06-23T10:18:51.694835Z"
    }
   },
   "outputs": [
    {
     "data": {
      "text/plain": [
       "5408"
      ]
     },
     "execution_count": 41,
     "metadata": {},
     "output_type": "execute_result"
    }
   ],
   "source": [
    "# checking NaNs \n",
    "df_imdb_genre['genres'].isna().sum()"
   ]
  },
  {
   "cell_type": "code",
   "execution_count": 42,
   "metadata": {
    "ExecuteTime": {
     "end_time": "2020-06-23T10:18:51.764693Z",
     "start_time": "2020-06-23T10:18:51.719766Z"
    }
   },
   "outputs": [],
   "source": [
    "#Remove all rows with NaN values in genres\n",
    "\n",
    "df_imdb_genre = df_imdb_genre[df_imdb_genre['genres'].notna()]"
   ]
  },
  {
   "cell_type": "code",
   "execution_count": 43,
   "metadata": {
    "ExecuteTime": {
     "end_time": "2020-06-23T10:18:51.791579Z",
     "start_time": "2020-06-23T10:18:51.768636Z"
    }
   },
   "outputs": [
    {
     "data": {
      "text/plain": [
       "0"
      ]
     },
     "execution_count": 43,
     "metadata": {},
     "output_type": "execute_result"
    }
   ],
   "source": [
    "#Check it NaN's are removed\n",
    "df_imdb_genre['genres'].isna().sum()"
   ]
  },
  {
   "cell_type": "code",
   "execution_count": 44,
   "metadata": {
    "ExecuteTime": {
     "end_time": "2020-06-23T10:18:51.806537Z",
     "start_time": "2020-06-23T10:18:51.795568Z"
    }
   },
   "outputs": [],
   "source": [
    "# Now we have a clean data frame let's dataframes\n",
    "\n",
    "#loading a DF for TN Financials\n",
    "df_tn_financials = csv_files_dict['tn_movie_budgets_gz']"
   ]
  },
  {
   "cell_type": "code",
   "execution_count": 45,
   "metadata": {
    "ExecuteTime": {
     "end_time": "2020-06-23T10:18:51.942174Z",
     "start_time": "2020-06-23T10:18:51.810611Z"
    }
   },
   "outputs": [],
   "source": [
    "\n",
    "\n",
    "#Using merge and using a left join. As col names are different, using left_on and right_on options\n",
    "\n",
    "movie_details_df = pd.merge(df_tn_financials, df_imdb_genre, left_on=  ['movie'],\n",
    "                   right_on= ['primary_title'], \n",
    "                   how = 'left')\n",
    "\n",
    "# Cleaning duplicates\n",
    "movie_details_df = clean_duplicates(movie_details_df)"
   ]
  },
  {
   "cell_type": "code",
   "execution_count": 46,
   "metadata": {
    "ExecuteTime": {
     "end_time": "2020-06-23T10:18:51.983064Z",
     "start_time": "2020-06-23T10:18:51.944167Z"
    }
   },
   "outputs": [
    {
     "data": {
      "text/html": [
       "<div>\n",
       "<style scoped>\n",
       "    .dataframe tbody tr th:only-of-type {\n",
       "        vertical-align: middle;\n",
       "    }\n",
       "\n",
       "    .dataframe tbody tr th {\n",
       "        vertical-align: top;\n",
       "    }\n",
       "\n",
       "    .dataframe thead th {\n",
       "        text-align: right;\n",
       "    }\n",
       "</style>\n",
       "<table border=\"1\" class=\"dataframe\">\n",
       "  <thead>\n",
       "    <tr style=\"text-align: right;\">\n",
       "      <th></th>\n",
       "      <th>release_date</th>\n",
       "      <th>movie</th>\n",
       "      <th>production_budget</th>\n",
       "      <th>domestic_gross</th>\n",
       "      <th>worldwide_gross</th>\n",
       "      <th>primary_title</th>\n",
       "      <th>original_title</th>\n",
       "      <th>start_year</th>\n",
       "      <th>runtime_minutes</th>\n",
       "      <th>genres</th>\n",
       "    </tr>\n",
       "  </thead>\n",
       "  <tbody>\n",
       "    <tr>\n",
       "      <td>0</td>\n",
       "      <td>Dec 18, 2009</td>\n",
       "      <td>Avatar</td>\n",
       "      <td>$425,000,000</td>\n",
       "      <td>$760,507,625</td>\n",
       "      <td>$2,776,345,279</td>\n",
       "      <td>Avatar</td>\n",
       "      <td>Abatâ</td>\n",
       "      <td>2011.0</td>\n",
       "      <td>93.0</td>\n",
       "      <td>Horror</td>\n",
       "    </tr>\n",
       "    <tr>\n",
       "      <td>1</td>\n",
       "      <td>May 20, 2011</td>\n",
       "      <td>Pirates of the Caribbean: On Stranger Tides</td>\n",
       "      <td>$410,600,000</td>\n",
       "      <td>$241,063,875</td>\n",
       "      <td>$1,045,663,875</td>\n",
       "      <td>Pirates of the Caribbean: On Stranger Tides</td>\n",
       "      <td>Pirates of the Caribbean: On Stranger Tides</td>\n",
       "      <td>2011.0</td>\n",
       "      <td>136.0</td>\n",
       "      <td>Action,Adventure,Fantasy</td>\n",
       "    </tr>\n",
       "    <tr>\n",
       "      <td>2</td>\n",
       "      <td>Jun 7, 2019</td>\n",
       "      <td>Dark Phoenix</td>\n",
       "      <td>$350,000,000</td>\n",
       "      <td>$42,762,350</td>\n",
       "      <td>$149,762,350</td>\n",
       "      <td>Dark Phoenix</td>\n",
       "      <td>Dark Phoenix</td>\n",
       "      <td>2019.0</td>\n",
       "      <td>113.0</td>\n",
       "      <td>Action,Adventure,Sci-Fi</td>\n",
       "    </tr>\n",
       "    <tr>\n",
       "      <td>3</td>\n",
       "      <td>May 1, 2015</td>\n",
       "      <td>Avengers: Age of Ultron</td>\n",
       "      <td>$330,600,000</td>\n",
       "      <td>$459,005,868</td>\n",
       "      <td>$1,403,013,963</td>\n",
       "      <td>Avengers: Age of Ultron</td>\n",
       "      <td>Avengers: Age of Ultron</td>\n",
       "      <td>2015.0</td>\n",
       "      <td>141.0</td>\n",
       "      <td>Action,Adventure,Sci-Fi</td>\n",
       "    </tr>\n",
       "    <tr>\n",
       "      <td>4</td>\n",
       "      <td>Dec 15, 2017</td>\n",
       "      <td>Star Wars Ep. VIII: The Last Jedi</td>\n",
       "      <td>$317,000,000</td>\n",
       "      <td>$620,181,382</td>\n",
       "      <td>$1,316,721,747</td>\n",
       "      <td>NaN</td>\n",
       "      <td>NaN</td>\n",
       "      <td>NaN</td>\n",
       "      <td>NaN</td>\n",
       "      <td>NaN</td>\n",
       "    </tr>\n",
       "  </tbody>\n",
       "</table>\n",
       "</div>"
      ],
      "text/plain": [
       "   release_date                                        movie  \\\n",
       "0  Dec 18, 2009                                       Avatar   \n",
       "1  May 20, 2011  Pirates of the Caribbean: On Stranger Tides   \n",
       "2   Jun 7, 2019                                 Dark Phoenix   \n",
       "3   May 1, 2015                      Avengers: Age of Ultron   \n",
       "4  Dec 15, 2017            Star Wars Ep. VIII: The Last Jedi   \n",
       "\n",
       "  production_budget domestic_gross worldwide_gross  \\\n",
       "0      $425,000,000   $760,507,625  $2,776,345,279   \n",
       "1      $410,600,000   $241,063,875  $1,045,663,875   \n",
       "2      $350,000,000    $42,762,350    $149,762,350   \n",
       "3      $330,600,000   $459,005,868  $1,403,013,963   \n",
       "4      $317,000,000   $620,181,382  $1,316,721,747   \n",
       "\n",
       "                                 primary_title  \\\n",
       "0                                       Avatar   \n",
       "1  Pirates of the Caribbean: On Stranger Tides   \n",
       "2                                 Dark Phoenix   \n",
       "3                      Avengers: Age of Ultron   \n",
       "4                                          NaN   \n",
       "\n",
       "                                original_title  start_year  runtime_minutes  \\\n",
       "0                                        Abatâ      2011.0             93.0   \n",
       "1  Pirates of the Caribbean: On Stranger Tides      2011.0            136.0   \n",
       "2                                 Dark Phoenix      2019.0            113.0   \n",
       "3                      Avengers: Age of Ultron      2015.0            141.0   \n",
       "4                                          NaN         NaN              NaN   \n",
       "\n",
       "                     genres  \n",
       "0                    Horror  \n",
       "1  Action,Adventure,Fantasy  \n",
       "2   Action,Adventure,Sci-Fi  \n",
       "3   Action,Adventure,Sci-Fi  \n",
       "4                       NaN  "
      ]
     },
     "execution_count": 46,
     "metadata": {},
     "output_type": "execute_result"
    }
   ],
   "source": [
    "#Check the dataframe\n",
    "\n",
    "movie_details_df.head()"
   ]
  },
  {
   "cell_type": "code",
   "execution_count": 47,
   "metadata": {
    "ExecuteTime": {
     "end_time": "2020-06-23T10:18:52.008002Z",
     "start_time": "2020-06-23T10:18:51.986055Z"
    }
   },
   "outputs": [
    {
     "name": "stdout",
     "output_type": "stream",
     "text": [
      "<class 'pandas.core.frame.DataFrame'>\n",
      "Int64Index: 7158 entries, 0 to 7161\n",
      "Data columns (total 10 columns):\n",
      "release_date         7158 non-null object\n",
      "movie                7158 non-null object\n",
      "production_budget    7158 non-null object\n",
      "domestic_gross       7158 non-null object\n",
      "worldwide_gross      7158 non-null object\n",
      "primary_title        3739 non-null object\n",
      "original_title       3739 non-null object\n",
      "start_year           3739 non-null float64\n",
      "runtime_minutes      3309 non-null float64\n",
      "genres               3739 non-null object\n",
      "dtypes: float64(2), object(8)\n",
      "memory usage: 615.1+ KB\n"
     ]
    }
   ],
   "source": [
    "\n",
    "#Check the information\n",
    "\n",
    "movie_details_df.info()"
   ]
  },
  {
   "cell_type": "code",
   "execution_count": 48,
   "metadata": {
    "ExecuteTime": {
     "end_time": "2020-06-23T10:18:52.029938Z",
     "start_time": "2020-06-23T10:18:52.013982Z"
    }
   },
   "outputs": [],
   "source": [
    "#Removing NaN values from genres column\n",
    "\n",
    "movie_details_df = movie_details_df[movie_details_df['genres'].notna()]"
   ]
  },
  {
   "cell_type": "code",
   "execution_count": 49,
   "metadata": {
    "ExecuteTime": {
     "end_time": "2020-06-23T10:18:52.091998Z",
     "start_time": "2020-06-23T10:18:52.034926Z"
    }
   },
   "outputs": [
    {
     "data": {
      "text/html": [
       "<div>\n",
       "<style scoped>\n",
       "    .dataframe tbody tr th:only-of-type {\n",
       "        vertical-align: middle;\n",
       "    }\n",
       "\n",
       "    .dataframe tbody tr th {\n",
       "        vertical-align: top;\n",
       "    }\n",
       "\n",
       "    .dataframe thead th {\n",
       "        text-align: right;\n",
       "    }\n",
       "</style>\n",
       "<table border=\"1\" class=\"dataframe\">\n",
       "  <thead>\n",
       "    <tr style=\"text-align: right;\">\n",
       "      <th></th>\n",
       "      <th>release_date</th>\n",
       "      <th>movie</th>\n",
       "      <th>production_budget</th>\n",
       "      <th>domestic_gross</th>\n",
       "      <th>worldwide_gross</th>\n",
       "      <th>primary_title</th>\n",
       "      <th>original_title</th>\n",
       "      <th>start_year</th>\n",
       "      <th>runtime_minutes</th>\n",
       "      <th>genres</th>\n",
       "    </tr>\n",
       "  </thead>\n",
       "  <tbody>\n",
       "    <tr>\n",
       "      <td>0</td>\n",
       "      <td>Dec 18, 2009</td>\n",
       "      <td>Avatar</td>\n",
       "      <td>$425,000,000</td>\n",
       "      <td>$760,507,625</td>\n",
       "      <td>$2,776,345,279</td>\n",
       "      <td>Avatar</td>\n",
       "      <td>Abatâ</td>\n",
       "      <td>2011.0</td>\n",
       "      <td>93.0</td>\n",
       "      <td>[Horror]</td>\n",
       "    </tr>\n",
       "    <tr>\n",
       "      <td>1</td>\n",
       "      <td>May 20, 2011</td>\n",
       "      <td>Pirates of the Caribbean: On Stranger Tides</td>\n",
       "      <td>$410,600,000</td>\n",
       "      <td>$241,063,875</td>\n",
       "      <td>$1,045,663,875</td>\n",
       "      <td>Pirates of the Caribbean: On Stranger Tides</td>\n",
       "      <td>Pirates of the Caribbean: On Stranger Tides</td>\n",
       "      <td>2011.0</td>\n",
       "      <td>136.0</td>\n",
       "      <td>[Action, Adventure, Fantasy]</td>\n",
       "    </tr>\n",
       "    <tr>\n",
       "      <td>2</td>\n",
       "      <td>Jun 7, 2019</td>\n",
       "      <td>Dark Phoenix</td>\n",
       "      <td>$350,000,000</td>\n",
       "      <td>$42,762,350</td>\n",
       "      <td>$149,762,350</td>\n",
       "      <td>Dark Phoenix</td>\n",
       "      <td>Dark Phoenix</td>\n",
       "      <td>2019.0</td>\n",
       "      <td>113.0</td>\n",
       "      <td>[Action, Adventure, Sci-Fi]</td>\n",
       "    </tr>\n",
       "    <tr>\n",
       "      <td>3</td>\n",
       "      <td>May 1, 2015</td>\n",
       "      <td>Avengers: Age of Ultron</td>\n",
       "      <td>$330,600,000</td>\n",
       "      <td>$459,005,868</td>\n",
       "      <td>$1,403,013,963</td>\n",
       "      <td>Avengers: Age of Ultron</td>\n",
       "      <td>Avengers: Age of Ultron</td>\n",
       "      <td>2015.0</td>\n",
       "      <td>141.0</td>\n",
       "      <td>[Action, Adventure, Sci-Fi]</td>\n",
       "    </tr>\n",
       "    <tr>\n",
       "      <td>6</td>\n",
       "      <td>Apr 27, 2018</td>\n",
       "      <td>Avengers: Infinity War</td>\n",
       "      <td>$300,000,000</td>\n",
       "      <td>$678,815,482</td>\n",
       "      <td>$2,048,134,200</td>\n",
       "      <td>Avengers: Infinity War</td>\n",
       "      <td>Avengers: Infinity War</td>\n",
       "      <td>2018.0</td>\n",
       "      <td>149.0</td>\n",
       "      <td>[Action, Adventure, Sci-Fi]</td>\n",
       "    </tr>\n",
       "  </tbody>\n",
       "</table>\n",
       "</div>"
      ],
      "text/plain": [
       "   release_date                                        movie  \\\n",
       "0  Dec 18, 2009                                       Avatar   \n",
       "1  May 20, 2011  Pirates of the Caribbean: On Stranger Tides   \n",
       "2   Jun 7, 2019                                 Dark Phoenix   \n",
       "3   May 1, 2015                      Avengers: Age of Ultron   \n",
       "6  Apr 27, 2018                       Avengers: Infinity War   \n",
       "\n",
       "  production_budget domestic_gross worldwide_gross  \\\n",
       "0      $425,000,000   $760,507,625  $2,776,345,279   \n",
       "1      $410,600,000   $241,063,875  $1,045,663,875   \n",
       "2      $350,000,000    $42,762,350    $149,762,350   \n",
       "3      $330,600,000   $459,005,868  $1,403,013,963   \n",
       "6      $300,000,000   $678,815,482  $2,048,134,200   \n",
       "\n",
       "                                 primary_title  \\\n",
       "0                                       Avatar   \n",
       "1  Pirates of the Caribbean: On Stranger Tides   \n",
       "2                                 Dark Phoenix   \n",
       "3                      Avengers: Age of Ultron   \n",
       "6                       Avengers: Infinity War   \n",
       "\n",
       "                                original_title  start_year  runtime_minutes  \\\n",
       "0                                        Abatâ      2011.0             93.0   \n",
       "1  Pirates of the Caribbean: On Stranger Tides      2011.0            136.0   \n",
       "2                                 Dark Phoenix      2019.0            113.0   \n",
       "3                      Avengers: Age of Ultron      2015.0            141.0   \n",
       "6                       Avengers: Infinity War      2018.0            149.0   \n",
       "\n",
       "                         genres  \n",
       "0                      [Horror]  \n",
       "1  [Action, Adventure, Fantasy]  \n",
       "2   [Action, Adventure, Sci-Fi]  \n",
       "3   [Action, Adventure, Sci-Fi]  \n",
       "6   [Action, Adventure, Sci-Fi]  "
      ]
     },
     "execution_count": 49,
     "metadata": {},
     "output_type": "execute_result"
    }
   ],
   "source": [
    "#Genre is a list of upto 3 genres, splitting it to get the individual genres\n",
    "\n",
    "movie_details_df['genres'] = movie_details_df['genres'].apply(lambda x: x.split(\",\") if x else x)\n",
    "movie_details_df.head()"
   ]
  },
  {
   "cell_type": "code",
   "execution_count": 50,
   "metadata": {
    "ExecuteTime": {
     "end_time": "2020-06-23T10:18:52.112755Z",
     "start_time": "2020-06-23T10:18:52.093900Z"
    }
   },
   "outputs": [],
   "source": [
    "#Select only the first value in the list in genre column\n",
    "\n",
    "single_genres = pd.DataFrame(movie_details_df['genres'].values.tolist()).iloc[:, [0]]\n",
    "movie_details_df['genres'] = single_genres"
   ]
  },
  {
   "cell_type": "code",
   "execution_count": 51,
   "metadata": {
    "ExecuteTime": {
     "end_time": "2020-06-23T10:18:52.159645Z",
     "start_time": "2020-06-23T10:18:52.115712Z"
    }
   },
   "outputs": [],
   "source": [
    "# cleaning the data type of\n",
    "# numerical data\n",
    "\n",
    "movie_details_df['production_budget'] = series_string_to_float(\n",
    "    movie_details_df['production_budget'])\n",
    "\n",
    "movie_details_df['worldwide_gross'] = series_string_to_float(\n",
    "    movie_details_df['worldwide_gross'])\n",
    "\n",
    "movie_details_df['domestic_gross'] = series_string_to_float(\n",
    "    movie_details_df['domestic_gross'])\n"
   ]
  },
  {
   "cell_type": "code",
   "execution_count": 52,
   "metadata": {
    "ExecuteTime": {
     "end_time": "2020-06-23T10:18:52.185703Z",
     "start_time": "2020-06-23T10:18:52.162162Z"
    },
    "scrolled": true
   },
   "outputs": [
    {
     "data": {
      "text/html": [
       "<div>\n",
       "<style scoped>\n",
       "    .dataframe tbody tr th:only-of-type {\n",
       "        vertical-align: middle;\n",
       "    }\n",
       "\n",
       "    .dataframe tbody tr th {\n",
       "        vertical-align: top;\n",
       "    }\n",
       "\n",
       "    .dataframe thead th {\n",
       "        text-align: right;\n",
       "    }\n",
       "</style>\n",
       "<table border=\"1\" class=\"dataframe\">\n",
       "  <thead>\n",
       "    <tr style=\"text-align: right;\">\n",
       "      <th></th>\n",
       "      <th>release_date</th>\n",
       "      <th>movie</th>\n",
       "      <th>production_budget</th>\n",
       "      <th>domestic_gross</th>\n",
       "      <th>worldwide_gross</th>\n",
       "      <th>primary_title</th>\n",
       "      <th>original_title</th>\n",
       "      <th>start_year</th>\n",
       "      <th>runtime_minutes</th>\n",
       "      <th>genres</th>\n",
       "    </tr>\n",
       "  </thead>\n",
       "  <tbody>\n",
       "    <tr>\n",
       "      <td>0</td>\n",
       "      <td>Dec 18, 2009</td>\n",
       "      <td>Avatar</td>\n",
       "      <td>425000000.0</td>\n",
       "      <td>760507625.0</td>\n",
       "      <td>2.776345e+09</td>\n",
       "      <td>Avatar</td>\n",
       "      <td>Abatâ</td>\n",
       "      <td>2011.0</td>\n",
       "      <td>93.0</td>\n",
       "      <td>Horror</td>\n",
       "    </tr>\n",
       "    <tr>\n",
       "      <td>1</td>\n",
       "      <td>May 20, 2011</td>\n",
       "      <td>Pirates of the Caribbean: On Stranger Tides</td>\n",
       "      <td>410600000.0</td>\n",
       "      <td>241063875.0</td>\n",
       "      <td>1.045664e+09</td>\n",
       "      <td>Pirates of the Caribbean: On Stranger Tides</td>\n",
       "      <td>Pirates of the Caribbean: On Stranger Tides</td>\n",
       "      <td>2011.0</td>\n",
       "      <td>136.0</td>\n",
       "      <td>Action</td>\n",
       "    </tr>\n",
       "    <tr>\n",
       "      <td>2</td>\n",
       "      <td>Jun 7, 2019</td>\n",
       "      <td>Dark Phoenix</td>\n",
       "      <td>350000000.0</td>\n",
       "      <td>42762350.0</td>\n",
       "      <td>1.497624e+08</td>\n",
       "      <td>Dark Phoenix</td>\n",
       "      <td>Dark Phoenix</td>\n",
       "      <td>2019.0</td>\n",
       "      <td>113.0</td>\n",
       "      <td>Action</td>\n",
       "    </tr>\n",
       "    <tr>\n",
       "      <td>3</td>\n",
       "      <td>May 1, 2015</td>\n",
       "      <td>Avengers: Age of Ultron</td>\n",
       "      <td>330600000.0</td>\n",
       "      <td>459005868.0</td>\n",
       "      <td>1.403014e+09</td>\n",
       "      <td>Avengers: Age of Ultron</td>\n",
       "      <td>Avengers: Age of Ultron</td>\n",
       "      <td>2015.0</td>\n",
       "      <td>141.0</td>\n",
       "      <td>Action</td>\n",
       "    </tr>\n",
       "    <tr>\n",
       "      <td>6</td>\n",
       "      <td>Apr 27, 2018</td>\n",
       "      <td>Avengers: Infinity War</td>\n",
       "      <td>300000000.0</td>\n",
       "      <td>200074175.0</td>\n",
       "      <td>8.796209e+08</td>\n",
       "      <td>Avengers: Infinity War</td>\n",
       "      <td>Avengers: Infinity War</td>\n",
       "      <td>2018.0</td>\n",
       "      <td>149.0</td>\n",
       "      <td>Action</td>\n",
       "    </tr>\n",
       "  </tbody>\n",
       "</table>\n",
       "</div>"
      ],
      "text/plain": [
       "   release_date                                        movie  \\\n",
       "0  Dec 18, 2009                                       Avatar   \n",
       "1  May 20, 2011  Pirates of the Caribbean: On Stranger Tides   \n",
       "2   Jun 7, 2019                                 Dark Phoenix   \n",
       "3   May 1, 2015                      Avengers: Age of Ultron   \n",
       "6  Apr 27, 2018                       Avengers: Infinity War   \n",
       "\n",
       "   production_budget  domestic_gross  worldwide_gross  \\\n",
       "0        425000000.0     760507625.0     2.776345e+09   \n",
       "1        410600000.0     241063875.0     1.045664e+09   \n",
       "2        350000000.0      42762350.0     1.497624e+08   \n",
       "3        330600000.0     459005868.0     1.403014e+09   \n",
       "6        300000000.0     200074175.0     8.796209e+08   \n",
       "\n",
       "                                 primary_title  \\\n",
       "0                                       Avatar   \n",
       "1  Pirates of the Caribbean: On Stranger Tides   \n",
       "2                                 Dark Phoenix   \n",
       "3                      Avengers: Age of Ultron   \n",
       "6                       Avengers: Infinity War   \n",
       "\n",
       "                                original_title  start_year  runtime_minutes  \\\n",
       "0                                        Abatâ      2011.0             93.0   \n",
       "1  Pirates of the Caribbean: On Stranger Tides      2011.0            136.0   \n",
       "2                                 Dark Phoenix      2019.0            113.0   \n",
       "3                      Avengers: Age of Ultron      2015.0            141.0   \n",
       "6                       Avengers: Infinity War      2018.0            149.0   \n",
       "\n",
       "   genres  \n",
       "0  Horror  \n",
       "1  Action  \n",
       "2  Action  \n",
       "3  Action  \n",
       "6  Action  "
      ]
     },
     "execution_count": 52,
     "metadata": {},
     "output_type": "execute_result"
    }
   ],
   "source": [
    "\n",
    "#Check it worked\n",
    "\n",
    "movie_details_df.head()"
   ]
  },
  {
   "cell_type": "code",
   "execution_count": 53,
   "metadata": {
    "ExecuteTime": {
     "end_time": "2020-06-23T10:18:52.199522Z",
     "start_time": "2020-06-23T10:18:52.188513Z"
    }
   },
   "outputs": [],
   "source": [
    "# adding features\n",
    "\n",
    "movie_details_df['total_profit'] = (movie_details_df.worldwide_gross \n",
    "                                    - movie_details_df.production_budget) \n",
    "\n",
    "movie_details_df['profit_margin'] = (movie_details_df.total_profit \n",
    "                                     / movie_details_df.worldwide_gross )"
   ]
  },
  {
   "cell_type": "code",
   "execution_count": 54,
   "metadata": {
    "ExecuteTime": {
     "end_time": "2020-06-23T10:18:52.230173Z",
     "start_time": "2020-06-23T10:18:52.201478Z"
    }
   },
   "outputs": [
    {
     "data": {
      "text/html": [
       "<div>\n",
       "<style scoped>\n",
       "    .dataframe tbody tr th:only-of-type {\n",
       "        vertical-align: middle;\n",
       "    }\n",
       "\n",
       "    .dataframe tbody tr th {\n",
       "        vertical-align: top;\n",
       "    }\n",
       "\n",
       "    .dataframe thead th {\n",
       "        text-align: right;\n",
       "    }\n",
       "</style>\n",
       "<table border=\"1\" class=\"dataframe\">\n",
       "  <thead>\n",
       "    <tr style=\"text-align: right;\">\n",
       "      <th></th>\n",
       "      <th>release_date</th>\n",
       "      <th>movie</th>\n",
       "      <th>production_budget</th>\n",
       "      <th>domestic_gross</th>\n",
       "      <th>worldwide_gross</th>\n",
       "      <th>primary_title</th>\n",
       "      <th>original_title</th>\n",
       "      <th>start_year</th>\n",
       "      <th>runtime_minutes</th>\n",
       "      <th>genres</th>\n",
       "      <th>total_profit</th>\n",
       "      <th>profit_margin</th>\n",
       "    </tr>\n",
       "  </thead>\n",
       "  <tbody>\n",
       "    <tr>\n",
       "      <td>0</td>\n",
       "      <td>Dec 18, 2009</td>\n",
       "      <td>Avatar</td>\n",
       "      <td>425000000.0</td>\n",
       "      <td>760507625.0</td>\n",
       "      <td>2.776345e+09</td>\n",
       "      <td>Avatar</td>\n",
       "      <td>Abatâ</td>\n",
       "      <td>2011.0</td>\n",
       "      <td>93.0</td>\n",
       "      <td>Horror</td>\n",
       "      <td>2.351345e+09</td>\n",
       "      <td>0.846921</td>\n",
       "    </tr>\n",
       "    <tr>\n",
       "      <td>1</td>\n",
       "      <td>May 20, 2011</td>\n",
       "      <td>Pirates of the Caribbean: On Stranger Tides</td>\n",
       "      <td>410600000.0</td>\n",
       "      <td>241063875.0</td>\n",
       "      <td>1.045664e+09</td>\n",
       "      <td>Pirates of the Caribbean: On Stranger Tides</td>\n",
       "      <td>Pirates of the Caribbean: On Stranger Tides</td>\n",
       "      <td>2011.0</td>\n",
       "      <td>136.0</td>\n",
       "      <td>Action</td>\n",
       "      <td>6.350639e+08</td>\n",
       "      <td>0.607331</td>\n",
       "    </tr>\n",
       "    <tr>\n",
       "      <td>2</td>\n",
       "      <td>Jun 7, 2019</td>\n",
       "      <td>Dark Phoenix</td>\n",
       "      <td>350000000.0</td>\n",
       "      <td>42762350.0</td>\n",
       "      <td>1.497624e+08</td>\n",
       "      <td>Dark Phoenix</td>\n",
       "      <td>Dark Phoenix</td>\n",
       "      <td>2019.0</td>\n",
       "      <td>113.0</td>\n",
       "      <td>Action</td>\n",
       "      <td>-2.002376e+08</td>\n",
       "      <td>-1.337036</td>\n",
       "    </tr>\n",
       "    <tr>\n",
       "      <td>3</td>\n",
       "      <td>May 1, 2015</td>\n",
       "      <td>Avengers: Age of Ultron</td>\n",
       "      <td>330600000.0</td>\n",
       "      <td>459005868.0</td>\n",
       "      <td>1.403014e+09</td>\n",
       "      <td>Avengers: Age of Ultron</td>\n",
       "      <td>Avengers: Age of Ultron</td>\n",
       "      <td>2015.0</td>\n",
       "      <td>141.0</td>\n",
       "      <td>Action</td>\n",
       "      <td>1.072414e+09</td>\n",
       "      <td>0.764364</td>\n",
       "    </tr>\n",
       "    <tr>\n",
       "      <td>6</td>\n",
       "      <td>Apr 27, 2018</td>\n",
       "      <td>Avengers: Infinity War</td>\n",
       "      <td>300000000.0</td>\n",
       "      <td>200074175.0</td>\n",
       "      <td>8.796209e+08</td>\n",
       "      <td>Avengers: Infinity War</td>\n",
       "      <td>Avengers: Infinity War</td>\n",
       "      <td>2018.0</td>\n",
       "      <td>149.0</td>\n",
       "      <td>Action</td>\n",
       "      <td>5.796209e+08</td>\n",
       "      <td>0.658944</td>\n",
       "    </tr>\n",
       "  </tbody>\n",
       "</table>\n",
       "</div>"
      ],
      "text/plain": [
       "   release_date                                        movie  \\\n",
       "0  Dec 18, 2009                                       Avatar   \n",
       "1  May 20, 2011  Pirates of the Caribbean: On Stranger Tides   \n",
       "2   Jun 7, 2019                                 Dark Phoenix   \n",
       "3   May 1, 2015                      Avengers: Age of Ultron   \n",
       "6  Apr 27, 2018                       Avengers: Infinity War   \n",
       "\n",
       "   production_budget  domestic_gross  worldwide_gross  \\\n",
       "0        425000000.0     760507625.0     2.776345e+09   \n",
       "1        410600000.0     241063875.0     1.045664e+09   \n",
       "2        350000000.0      42762350.0     1.497624e+08   \n",
       "3        330600000.0     459005868.0     1.403014e+09   \n",
       "6        300000000.0     200074175.0     8.796209e+08   \n",
       "\n",
       "                                 primary_title  \\\n",
       "0                                       Avatar   \n",
       "1  Pirates of the Caribbean: On Stranger Tides   \n",
       "2                                 Dark Phoenix   \n",
       "3                      Avengers: Age of Ultron   \n",
       "6                       Avengers: Infinity War   \n",
       "\n",
       "                                original_title  start_year  runtime_minutes  \\\n",
       "0                                        Abatâ      2011.0             93.0   \n",
       "1  Pirates of the Caribbean: On Stranger Tides      2011.0            136.0   \n",
       "2                                 Dark Phoenix      2019.0            113.0   \n",
       "3                      Avengers: Age of Ultron      2015.0            141.0   \n",
       "6                       Avengers: Infinity War      2018.0            149.0   \n",
       "\n",
       "   genres  total_profit  profit_margin  \n",
       "0  Horror  2.351345e+09       0.846921  \n",
       "1  Action  6.350639e+08       0.607331  \n",
       "2  Action -2.002376e+08      -1.337036  \n",
       "3  Action  1.072414e+09       0.764364  \n",
       "6  Action  5.796209e+08       0.658944  "
      ]
     },
     "execution_count": 54,
     "metadata": {},
     "output_type": "execute_result"
    }
   ],
   "source": [
    "movie_details_df.head()"
   ]
  },
  {
   "cell_type": "code",
   "execution_count": 55,
   "metadata": {
    "ExecuteTime": {
     "end_time": "2020-06-23T10:18:52.254338Z",
     "start_time": "2020-06-23T10:18:52.232396Z"
    }
   },
   "outputs": [
    {
     "data": {
      "text/html": [
       "<div>\n",
       "<style scoped>\n",
       "    .dataframe tbody tr th:only-of-type {\n",
       "        vertical-align: middle;\n",
       "    }\n",
       "\n",
       "    .dataframe tbody tr th {\n",
       "        vertical-align: top;\n",
       "    }\n",
       "\n",
       "    .dataframe thead th {\n",
       "        text-align: right;\n",
       "    }\n",
       "</style>\n",
       "<table border=\"1\" class=\"dataframe\">\n",
       "  <thead>\n",
       "    <tr style=\"text-align: right;\">\n",
       "      <th></th>\n",
       "      <th>movie</th>\n",
       "      <th>production_budget</th>\n",
       "      <th>domestic_gross</th>\n",
       "      <th>worldwide_gross</th>\n",
       "      <th>start_year</th>\n",
       "      <th>genres</th>\n",
       "      <th>total_profit</th>\n",
       "      <th>profit_margin</th>\n",
       "    </tr>\n",
       "  </thead>\n",
       "  <tbody>\n",
       "    <tr>\n",
       "      <td>0</td>\n",
       "      <td>Avatar</td>\n",
       "      <td>425000000.0</td>\n",
       "      <td>760507625.0</td>\n",
       "      <td>2.776345e+09</td>\n",
       "      <td>2011.0</td>\n",
       "      <td>Horror</td>\n",
       "      <td>2.351345e+09</td>\n",
       "      <td>0.846921</td>\n",
       "    </tr>\n",
       "    <tr>\n",
       "      <td>1</td>\n",
       "      <td>Pirates of the Caribbean: On Stranger Tides</td>\n",
       "      <td>410600000.0</td>\n",
       "      <td>241063875.0</td>\n",
       "      <td>1.045664e+09</td>\n",
       "      <td>2011.0</td>\n",
       "      <td>Action</td>\n",
       "      <td>6.350639e+08</td>\n",
       "      <td>0.607331</td>\n",
       "    </tr>\n",
       "    <tr>\n",
       "      <td>2</td>\n",
       "      <td>Dark Phoenix</td>\n",
       "      <td>350000000.0</td>\n",
       "      <td>42762350.0</td>\n",
       "      <td>1.497624e+08</td>\n",
       "      <td>2019.0</td>\n",
       "      <td>Action</td>\n",
       "      <td>-2.002376e+08</td>\n",
       "      <td>-1.337036</td>\n",
       "    </tr>\n",
       "    <tr>\n",
       "      <td>3</td>\n",
       "      <td>Avengers: Age of Ultron</td>\n",
       "      <td>330600000.0</td>\n",
       "      <td>459005868.0</td>\n",
       "      <td>1.403014e+09</td>\n",
       "      <td>2015.0</td>\n",
       "      <td>Action</td>\n",
       "      <td>1.072414e+09</td>\n",
       "      <td>0.764364</td>\n",
       "    </tr>\n",
       "    <tr>\n",
       "      <td>6</td>\n",
       "      <td>Avengers: Infinity War</td>\n",
       "      <td>300000000.0</td>\n",
       "      <td>200074175.0</td>\n",
       "      <td>8.796209e+08</td>\n",
       "      <td>2018.0</td>\n",
       "      <td>Action</td>\n",
       "      <td>5.796209e+08</td>\n",
       "      <td>0.658944</td>\n",
       "    </tr>\n",
       "  </tbody>\n",
       "</table>\n",
       "</div>"
      ],
      "text/plain": [
       "                                         movie  production_budget  \\\n",
       "0                                       Avatar        425000000.0   \n",
       "1  Pirates of the Caribbean: On Stranger Tides        410600000.0   \n",
       "2                                 Dark Phoenix        350000000.0   \n",
       "3                      Avengers: Age of Ultron        330600000.0   \n",
       "6                       Avengers: Infinity War        300000000.0   \n",
       "\n",
       "   domestic_gross  worldwide_gross  start_year  genres  total_profit  \\\n",
       "0     760507625.0     2.776345e+09      2011.0  Horror  2.351345e+09   \n",
       "1     241063875.0     1.045664e+09      2011.0  Action  6.350639e+08   \n",
       "2      42762350.0     1.497624e+08      2019.0  Action -2.002376e+08   \n",
       "3     459005868.0     1.403014e+09      2015.0  Action  1.072414e+09   \n",
       "6     200074175.0     8.796209e+08      2018.0  Action  5.796209e+08   \n",
       "\n",
       "   profit_margin  \n",
       "0       0.846921  \n",
       "1       0.607331  \n",
       "2      -1.337036  \n",
       "3       0.764364  \n",
       "6       0.658944  "
      ]
     },
     "execution_count": 55,
     "metadata": {},
     "output_type": "execute_result"
    }
   ],
   "source": [
    "\n",
    "#Drop the columns which aren't useful\n",
    "\n",
    "genre_profit_df = (movie_details_df.drop(columns=['release_date', \n",
    "                                                  'primary_title',\n",
    "                                                  'original_title', \n",
    "                                                  'runtime_minutes']))\n",
    "genre_profit_df.head()"
   ]
  },
  {
   "cell_type": "code",
   "execution_count": 56,
   "metadata": {
    "ExecuteTime": {
     "end_time": "2020-06-23T10:18:52.281773Z",
     "start_time": "2020-06-23T10:18:52.257330Z"
    }
   },
   "outputs": [
    {
     "data": {
      "text/html": [
       "<div>\n",
       "<style scoped>\n",
       "    .dataframe tbody tr th:only-of-type {\n",
       "        vertical-align: middle;\n",
       "    }\n",
       "\n",
       "    .dataframe tbody tr th {\n",
       "        vertical-align: top;\n",
       "    }\n",
       "\n",
       "    .dataframe thead th {\n",
       "        text-align: right;\n",
       "    }\n",
       "</style>\n",
       "<table border=\"1\" class=\"dataframe\">\n",
       "  <thead>\n",
       "    <tr style=\"text-align: right;\">\n",
       "      <th></th>\n",
       "      <th>production_budget</th>\n",
       "      <th>domestic_gross</th>\n",
       "      <th>worldwide_gross</th>\n",
       "      <th>start_year</th>\n",
       "      <th>total_profit</th>\n",
       "      <th>profit_margin</th>\n",
       "    </tr>\n",
       "    <tr>\n",
       "      <th>genres</th>\n",
       "      <th></th>\n",
       "      <th></th>\n",
       "      <th></th>\n",
       "      <th></th>\n",
       "      <th></th>\n",
       "      <th></th>\n",
       "    </tr>\n",
       "  </thead>\n",
       "  <tbody>\n",
       "    <tr>\n",
       "      <td>Action</td>\n",
       "      <td>7.078734e+07</td>\n",
       "      <td>7.417512e+07</td>\n",
       "      <td>2.026795e+08</td>\n",
       "      <td>2014.482323</td>\n",
       "      <td>1.318922e+08</td>\n",
       "      <td>-inf</td>\n",
       "    </tr>\n",
       "    <tr>\n",
       "      <td>Adventure</td>\n",
       "      <td>7.427171e+07</td>\n",
       "      <td>8.947397e+07</td>\n",
       "      <td>2.515299e+08</td>\n",
       "      <td>2014.467153</td>\n",
       "      <td>1.772582e+08</td>\n",
       "      <td>-inf</td>\n",
       "    </tr>\n",
       "    <tr>\n",
       "      <td>Animation</td>\n",
       "      <td>4.356622e+07</td>\n",
       "      <td>7.103578e+07</td>\n",
       "      <td>1.770292e+08</td>\n",
       "      <td>2014.333333</td>\n",
       "      <td>1.334630e+08</td>\n",
       "      <td>-inf</td>\n",
       "    </tr>\n",
       "    <tr>\n",
       "      <td>Biography</td>\n",
       "      <td>2.502755e+07</td>\n",
       "      <td>3.873919e+07</td>\n",
       "      <td>8.220790e+07</td>\n",
       "      <td>2014.096154</td>\n",
       "      <td>5.718035e+07</td>\n",
       "      <td>-inf</td>\n",
       "    </tr>\n",
       "    <tr>\n",
       "      <td>Comedy</td>\n",
       "      <td>2.079912e+07</td>\n",
       "      <td>2.937340e+07</td>\n",
       "      <td>5.432770e+07</td>\n",
       "      <td>2014.302326</td>\n",
       "      <td>3.352857e+07</td>\n",
       "      <td>-inf</td>\n",
       "    </tr>\n",
       "  </tbody>\n",
       "</table>\n",
       "</div>"
      ],
      "text/plain": [
       "           production_budget  domestic_gross  worldwide_gross   start_year  \\\n",
       "genres                                                                       \n",
       "Action          7.078734e+07    7.417512e+07     2.026795e+08  2014.482323   \n",
       "Adventure       7.427171e+07    8.947397e+07     2.515299e+08  2014.467153   \n",
       "Animation       4.356622e+07    7.103578e+07     1.770292e+08  2014.333333   \n",
       "Biography       2.502755e+07    3.873919e+07     8.220790e+07  2014.096154   \n",
       "Comedy          2.079912e+07    2.937340e+07     5.432770e+07  2014.302326   \n",
       "\n",
       "           total_profit  profit_margin  \n",
       "genres                                  \n",
       "Action     1.318922e+08           -inf  \n",
       "Adventure  1.772582e+08           -inf  \n",
       "Animation  1.334630e+08           -inf  \n",
       "Biography  5.718035e+07           -inf  \n",
       "Comedy     3.352857e+07           -inf  "
      ]
     },
     "execution_count": 56,
     "metadata": {},
     "output_type": "execute_result"
    }
   ],
   "source": [
    "\n",
    "#Let's group by genre averages\n",
    "\n",
    "genre_mean_df = genre_profit_df.groupby('genres').mean()\n",
    "genre_mean_df.head()"
   ]
  },
  {
   "cell_type": "code",
   "execution_count": 57,
   "metadata": {
    "ExecuteTime": {
     "end_time": "2020-06-23T10:18:52.304996Z",
     "start_time": "2020-06-23T10:18:52.284257Z"
    }
   },
   "outputs": [
    {
     "data": {
      "text/html": [
       "<div>\n",
       "<style scoped>\n",
       "    .dataframe tbody tr th:only-of-type {\n",
       "        vertical-align: middle;\n",
       "    }\n",
       "\n",
       "    .dataframe tbody tr th {\n",
       "        vertical-align: top;\n",
       "    }\n",
       "\n",
       "    .dataframe thead th {\n",
       "        text-align: right;\n",
       "    }\n",
       "</style>\n",
       "<table border=\"1\" class=\"dataframe\">\n",
       "  <thead>\n",
       "    <tr style=\"text-align: right;\">\n",
       "      <th></th>\n",
       "      <th>production_budget</th>\n",
       "      <th>domestic_gross</th>\n",
       "      <th>worldwide_gross</th>\n",
       "      <th>start_year</th>\n",
       "      <th>total_profit</th>\n",
       "      <th>profit_margin</th>\n",
       "    </tr>\n",
       "    <tr>\n",
       "      <th>genres</th>\n",
       "      <th></th>\n",
       "      <th></th>\n",
       "      <th></th>\n",
       "      <th></th>\n",
       "      <th></th>\n",
       "      <th></th>\n",
       "    </tr>\n",
       "  </thead>\n",
       "  <tbody>\n",
       "    <tr>\n",
       "      <td>Action</td>\n",
       "      <td>7.078734e+07</td>\n",
       "      <td>7.417512e+07</td>\n",
       "      <td>2.026795e+08</td>\n",
       "      <td>2014.482323</td>\n",
       "      <td>1.318922e+08</td>\n",
       "      <td>-inf</td>\n",
       "    </tr>\n",
       "    <tr>\n",
       "      <td>Adventure</td>\n",
       "      <td>7.427171e+07</td>\n",
       "      <td>8.947397e+07</td>\n",
       "      <td>2.515299e+08</td>\n",
       "      <td>2014.467153</td>\n",
       "      <td>1.772582e+08</td>\n",
       "      <td>-inf</td>\n",
       "    </tr>\n",
       "    <tr>\n",
       "      <td>Animation</td>\n",
       "      <td>4.356622e+07</td>\n",
       "      <td>7.103578e+07</td>\n",
       "      <td>1.770292e+08</td>\n",
       "      <td>2014.333333</td>\n",
       "      <td>1.334630e+08</td>\n",
       "      <td>-inf</td>\n",
       "    </tr>\n",
       "    <tr>\n",
       "      <td>Biography</td>\n",
       "      <td>2.502755e+07</td>\n",
       "      <td>3.873919e+07</td>\n",
       "      <td>8.220790e+07</td>\n",
       "      <td>2014.096154</td>\n",
       "      <td>5.718035e+07</td>\n",
       "      <td>-inf</td>\n",
       "    </tr>\n",
       "    <tr>\n",
       "      <td>Comedy</td>\n",
       "      <td>2.079912e+07</td>\n",
       "      <td>2.937340e+07</td>\n",
       "      <td>5.432770e+07</td>\n",
       "      <td>2014.302326</td>\n",
       "      <td>3.352857e+07</td>\n",
       "      <td>-inf</td>\n",
       "    </tr>\n",
       "  </tbody>\n",
       "</table>\n",
       "</div>"
      ],
      "text/plain": [
       "           production_budget  domestic_gross  worldwide_gross   start_year  \\\n",
       "genres                                                                       \n",
       "Action          7.078734e+07    7.417512e+07     2.026795e+08  2014.482323   \n",
       "Adventure       7.427171e+07    8.947397e+07     2.515299e+08  2014.467153   \n",
       "Animation       4.356622e+07    7.103578e+07     1.770292e+08  2014.333333   \n",
       "Biography       2.502755e+07    3.873919e+07     8.220790e+07  2014.096154   \n",
       "Comedy          2.079912e+07    2.937340e+07     5.432770e+07  2014.302326   \n",
       "\n",
       "           total_profit  profit_margin  \n",
       "genres                                  \n",
       "Action     1.318922e+08           -inf  \n",
       "Adventure  1.772582e+08           -inf  \n",
       "Animation  1.334630e+08           -inf  \n",
       "Biography  5.718035e+07           -inf  \n",
       "Comedy     3.352857e+07           -inf  "
      ]
     },
     "execution_count": 57,
     "metadata": {},
     "output_type": "execute_result"
    }
   ],
   "source": [
    "#Sort by top genres profits - decreasing\n",
    "\n",
    "genre2_mean_df = genre_mean_df.sort_values(by='total_profit', ascending=False)\n",
    "genre_mean_df.head()"
   ]
  },
  {
   "cell_type": "code",
   "execution_count": 58,
   "metadata": {
    "ExecuteTime": {
     "end_time": "2020-06-23T10:18:52.331132Z",
     "start_time": "2020-06-23T10:18:52.307197Z"
    }
   },
   "outputs": [
    {
     "data": {
      "text/html": [
       "<div>\n",
       "<style scoped>\n",
       "    .dataframe tbody tr th:only-of-type {\n",
       "        vertical-align: middle;\n",
       "    }\n",
       "\n",
       "    .dataframe tbody tr th {\n",
       "        vertical-align: top;\n",
       "    }\n",
       "\n",
       "    .dataframe thead th {\n",
       "        text-align: right;\n",
       "    }\n",
       "</style>\n",
       "<table border=\"1\" class=\"dataframe\">\n",
       "  <thead>\n",
       "    <tr style=\"text-align: right;\">\n",
       "      <th></th>\n",
       "      <th>production_budget</th>\n",
       "      <th>domestic_gross</th>\n",
       "      <th>worldwide_gross</th>\n",
       "      <th>start_year</th>\n",
       "      <th>total_profit</th>\n",
       "      <th>profit_margin</th>\n",
       "    </tr>\n",
       "    <tr>\n",
       "      <th>genres</th>\n",
       "      <th></th>\n",
       "      <th></th>\n",
       "      <th></th>\n",
       "      <th></th>\n",
       "      <th></th>\n",
       "      <th></th>\n",
       "    </tr>\n",
       "  </thead>\n",
       "  <tbody>\n",
       "    <tr>\n",
       "      <td>Family</td>\n",
       "      <td>5.851500e+07</td>\n",
       "      <td>1.910335e+08</td>\n",
       "      <td>4.990225e+08</td>\n",
       "      <td>2015.500000</td>\n",
       "      <td>4.405075e+08</td>\n",
       "      <td>-inf</td>\n",
       "    </tr>\n",
       "    <tr>\n",
       "      <td>Fantasy</td>\n",
       "      <td>7.347500e+07</td>\n",
       "      <td>1.160192e+08</td>\n",
       "      <td>3.211385e+08</td>\n",
       "      <td>2014.500000</td>\n",
       "      <td>2.476635e+08</td>\n",
       "      <td>-inf</td>\n",
       "    </tr>\n",
       "    <tr>\n",
       "      <td>Adventure</td>\n",
       "      <td>7.427171e+07</td>\n",
       "      <td>8.947397e+07</td>\n",
       "      <td>2.515299e+08</td>\n",
       "      <td>2014.467153</td>\n",
       "      <td>1.772582e+08</td>\n",
       "      <td>-inf</td>\n",
       "    </tr>\n",
       "    <tr>\n",
       "      <td>Musical</td>\n",
       "      <td>2.132857e+07</td>\n",
       "      <td>6.989709e+07</td>\n",
       "      <td>1.729049e+08</td>\n",
       "      <td>2013.142857</td>\n",
       "      <td>1.515763e+08</td>\n",
       "      <td>-0.663679</td>\n",
       "    </tr>\n",
       "    <tr>\n",
       "      <td>Animation</td>\n",
       "      <td>4.356622e+07</td>\n",
       "      <td>7.103578e+07</td>\n",
       "      <td>1.770292e+08</td>\n",
       "      <td>2014.333333</td>\n",
       "      <td>1.334630e+08</td>\n",
       "      <td>-inf</td>\n",
       "    </tr>\n",
       "  </tbody>\n",
       "</table>\n",
       "</div>"
      ],
      "text/plain": [
       "           production_budget  domestic_gross  worldwide_gross   start_year  \\\n",
       "genres                                                                       \n",
       "Family          5.851500e+07    1.910335e+08     4.990225e+08  2015.500000   \n",
       "Fantasy         7.347500e+07    1.160192e+08     3.211385e+08  2014.500000   \n",
       "Adventure       7.427171e+07    8.947397e+07     2.515299e+08  2014.467153   \n",
       "Musical         2.132857e+07    6.989709e+07     1.729049e+08  2013.142857   \n",
       "Animation       4.356622e+07    7.103578e+07     1.770292e+08  2014.333333   \n",
       "\n",
       "           total_profit  profit_margin  \n",
       "genres                                  \n",
       "Family     4.405075e+08           -inf  \n",
       "Fantasy    2.476635e+08           -inf  \n",
       "Adventure  1.772582e+08           -inf  \n",
       "Musical    1.515763e+08      -0.663679  \n",
       "Animation  1.334630e+08           -inf  "
      ]
     },
     "execution_count": 58,
     "metadata": {},
     "output_type": "execute_result"
    }
   ],
   "source": [
    "#To keep graph neat let's select the top 10 genres\n",
    "\n",
    "genres_top10_df = genre2_mean_df[:10]\n",
    "genres_top10_df.head()"
   ]
  },
  {
   "cell_type": "markdown",
   "metadata": {},
   "source": [
    "# Data Visualization\n",
    "\n"
   ]
  },
  {
   "cell_type": "markdown",
   "metadata": {},
   "source": [
    "## What is the relationship between movie grossings and the people who take part in the project?"
   ]
  },
  {
   "cell_type": "markdown",
   "metadata": {},
   "source": [
    "Below we plot the distrubution curves of All Movie Grossings and of a Professional's Average Movie Grossing "
   ]
  },
  {
   "cell_type": "code",
   "execution_count": 59,
   "metadata": {
    "ExecuteTime": {
     "end_time": "2020-06-23T10:18:52.726119Z",
     "start_time": "2020-06-23T10:18:52.334125Z"
    }
   },
   "outputs": [
    {
     "name": "stderr",
     "output_type": "stream",
     "text": [
      "C:\\Users\\felip\\anaconda3\\envs\\learn-env\\lib\\site-packages\\ipykernel_launcher.py:14: MatplotlibDeprecationWarning: Adding an axes using the same arguments as a previous axes currently reuses the earlier instance.  In a future version, a new instance will always be created and returned.  Meanwhile, this warning can be suppressed, and the future behavior ensured, by passing a unique label to each axes instance.\n",
      "  \n"
     ]
    },
    {
     "data": {
      "image/png": "[encoded data removed]",
      "text/plain": [
       "<Figure size 864x576 with 1 Axes>"
      ]
     },
     "metadata": {
      "needs_background": "light"
     },
     "output_type": "display_data"
    }
   ],
   "source": [
    "# plots the distrubution curves of All Movie Grossings \n",
    "# and of Avg Grossing of the movies a given professional\n",
    "# participated in\n",
    "\n",
    "plt.figure(figsize=(12, 8))\n",
    "\n",
    "# subplot for Movie Grossings\n",
    "ax1 = plt.subplot(211)\n",
    "ax1 = sns.distplot(df_imdb_financials.worldwide_gross, \n",
    "                   hist=False, \n",
    "                   label='All Movie Grossings' )\n",
    "\n",
    "# subplot for Professional's Movies Avg Grossing\n",
    "ax2 = plt.subplot(211)\n",
    "ax2 = sns.distplot(df_repository['imdb_name_basics_gz'].avg_grossing, \n",
    "                   hist=False, \n",
    "                   label=\"Professional's Average Movie Grossings\" )\n",
    "\n",
    "plt.legend()\n",
    "plt.xlabel(\"Grossing\")\n",
    "plt.ylabel(\"Count\")\n",
    "plt.title(\"\"\"Distribution Curves\n",
    "\"\"\")\n",
    "\n",
    "plt.show()"
   ]
  },
  {
   "cell_type": "markdown",
   "metadata": {},
   "source": [
    "We can see no significant divergence in the composition of the distribution curves. "
   ]
  },
  {
   "cell_type": "markdown",
   "metadata": {},
   "source": [
    " "
   ]
  },
  {
   "cell_type": "markdown",
   "metadata": {},
   "source": [
    " "
   ]
  },
  {
   "cell_type": "code",
   "execution_count": 60,
   "metadata": {
    "ExecuteTime": {
     "end_time": "2020-06-23T10:18:53.082836Z",
     "start_time": "2020-06-23T10:18:52.729115Z"
    },
    "scrolled": true
   },
   "outputs": [
    {
     "data": {
      "image/png": "[encoded data removed]",
      "text/plain": [
       "<Figure size 864x360 with 2 Axes>"
      ]
     },
     "metadata": {
      "needs_background": "light"
     },
     "output_type": "display_data"
    }
   ],
   "source": [
    "# plots a boxplot for distribution and details the measures of centrality, \n",
    "# the outliers and compares all movies vs movies of a given professional\n",
    "\n",
    "plt.figure(figsize=(12, 5)).subplots_adjust(hspace= 1)\n",
    "\n",
    "y_inf_limit = -500000000\n",
    "y_sup_limit = 2300000000\n",
    "\n",
    "# subplot for All Movies Worldwide Gross\n",
    "ax1 = plt.subplot(211)\n",
    "ax1 = sns.boxplot(df_imdb_financials.worldwide_gross  )\n",
    "ax1.set_title(\"\"\" \n",
    "All Movies Worldwide Gross\n",
    "\"\"\")\n",
    "ax1.set_xlabel(' ')\n",
    "ax1.set_xlim(y_inf_limit, y_sup_limit)\n",
    "\n",
    "#subplot for Professional's Average Movie Grossings\n",
    "ax2 = plt.subplot(212)\n",
    "ax2 = sns.boxplot(df_repository['imdb_name_basics_gz'].avg_grossing)\n",
    "ax2.set_title(\"\"\" \n",
    "Professional's Average Movie Grossings \n",
    "\"\"\")\n",
    "ax2.set_xlabel(' ')\n",
    "ax2.set_xlim(y_inf_limit, y_sup_limit)\n",
    "\n",
    "\n",
    "plt.show()"
   ]
  },
  {
   "cell_type": "markdown",
   "metadata": {},
   "source": [
    " "
   ]
  },
  {
   "cell_type": "markdown",
   "metadata": {},
   "source": [
    "The charts are not radically different.\n",
    "However, we can note that:\n",
    "- the bottom 25% of professionals present worse financial performances than the bottom 25% of all movies. We can thus infer that low performing professionals have an outsized negative impact on the financial performance of a movie\n",
    "\n",
    "Recommendation: \n",
    "- Best to completely avoid key collaborators with sub par performance, as they have an out sized negative impact on financial results."
   ]
  },
  {
   "cell_type": "markdown",
   "metadata": {},
   "source": [
    " "
   ]
  },
  {
   "cell_type": "markdown",
   "metadata": {},
   "source": [
    "## Do directors, actors and producers have the same impact on the financial results of a movie?"
   ]
  },
  {
   "cell_type": "code",
   "execution_count": 61,
   "metadata": {
    "ExecuteTime": {
     "end_time": "2020-06-23T10:18:53.109735Z",
     "start_time": "2020-06-23T10:18:53.086827Z"
    }
   },
   "outputs": [],
   "source": [
    "# Creates subsets of **imdb_name_basics_gz** \n",
    "# for Directors, Actors and Producers\n",
    "\n",
    "\n",
    "# filters and slices for Directors\n",
    "filt = df_repository['imdb_name_basics_gz'].is_director == 1\n",
    "df_directors = df_repository['imdb_name_basics_gz'].loc[filt]\n",
    "\n",
    "\n",
    "# filters and slices for Actors\n",
    "filt1 = df_repository['imdb_name_basics_gz'].is_actor == 1\n",
    "df_actors = df_repository['imdb_name_basics_gz'].loc[filt1]\n",
    "\n",
    "\n",
    "# filters and slices for Producers\n",
    "filt2 = df_repository['imdb_name_basics_gz'].is_producer == 1\n",
    "df_producers = df_repository['imdb_name_basics_gz'].loc[filt2]"
   ]
  },
  {
   "cell_type": "code",
   "execution_count": 62,
   "metadata": {
    "ExecuteTime": {
     "end_time": "2020-06-23T10:18:53.707591Z",
     "start_time": "2020-06-23T10:18:53.112834Z"
    },
    "scrolled": true
   },
   "outputs": [
    {
     "data": {
      "image/png": "[encoded data removed]",
      "text/plain": [
       "<Figure size 864x360 with 3 Axes>"
      ]
     },
     "metadata": {
      "needs_background": "light"
     },
     "output_type": "display_data"
    }
   ],
   "source": [
    "# plots a boxplot for distribution and details the measures of centrality, \n",
    "# the outliers and compares different professions\n",
    "\n",
    "y_inf_limit = -100000000\n",
    "y_sup_limit = 2500000000\n",
    "\n",
    "plt.figure(figsize=(12, 5)).subplots_adjust(hspace= 1.5)\n",
    "\n",
    "\n",
    "# subplot for Directors\n",
    "ax1 = plt.subplot(311)\n",
    "ax1 = sns.boxplot(df_directors.avg_grossing )\n",
    "ax1.set_title(\"\"\" \n",
    "Directors' Average Movie Grossings\"\"\")\n",
    "ax1.set_xlabel(' ')\n",
    "\n",
    "# subplot for Actors\n",
    "ax2 = plt.subplot(312)\n",
    "ax2 = sns.boxplot(df_actors.avg_grossing)\n",
    "ax2.set_title(\"\"\" \n",
    "Actors' Average Movie Grossings\"\"\")\n",
    "ax2.set_xlabel(' ')\n",
    "\n",
    "\n",
    "# subplot for Producers\n",
    "ax3 = plt.subplot(313)\n",
    "ax3 = sns.boxplot(df_producers.avg_grossing)\n",
    "ax3.set_title(\"\"\" \n",
    "Producers' Average Movie Grossings\"\"\")\n",
    "ax3.set_xlabel(' ')\n",
    "\n",
    "\n",
    "ax1.set_xlim(y_inf_limit, y_sup_limit)\n",
    "ax2.set_xlim(y_inf_limit, y_sup_limit)\n",
    "ax3.set_xlim(y_inf_limit, y_sup_limit)\n",
    "\n",
    "\n",
    "plt.show()"
   ]
  },
  {
   "cell_type": "markdown",
   "metadata": {},
   "source": [
    " "
   ]
  },
  {
   "cell_type": "markdown",
   "metadata": {},
   "source": [
    "The charts show an almost identical distribution for all three professions. From that we can infer that no professinal has a larger impact on the financial result than the others.\n",
    "\n",
    "Recommendation: \n",
    "- Since all professional profiles appear to have homogeneous impact on financial performance, it is generally recommended that a production does not over allocate resources in a single professional. The composition of the team should rather be the focus of attention.\n"
   ]
  },
  {
   "cell_type": "markdown",
   "metadata": {},
   "source": [
    "## Are any genres more risky than other in terms of financial performance?"
   ]
  },
  {
   "cell_type": "markdown",
   "metadata": {},
   "source": [
    "For the purpose of this investigation, we will consider the fail rate to be the percentage of movies with profits below zero"
   ]
  },
  {
   "cell_type": "code",
   "execution_count": 63,
   "metadata": {
    "ExecuteTime": {
     "end_time": "2020-06-23T10:18:53.717296Z",
     "start_time": "2020-06-23T10:18:53.709554Z"
    }
   },
   "outputs": [
    {
     "data": {
      "text/plain": [
       "Index(['title_id', 'genres', 'worldwide_gross', 'total_profit', 'Documentary',\n",
       "       'Drama', 'Comedy', 'Thriller', 'Horror', 'Action', 'Romance',\n",
       "       'Biography', 'Crime', 'Adventure'],\n",
       "      dtype='object')"
      ]
     },
     "execution_count": 63,
     "metadata": {},
     "output_type": "execute_result"
    }
   ],
   "source": [
    "df_genres_financials.keys()"
   ]
  },
  {
   "cell_type": "code",
   "execution_count": 64,
   "metadata": {
    "ExecuteTime": {
     "end_time": "2020-06-23T10:18:53.868958Z",
     "start_time": "2020-06-23T10:18:53.719628Z"
    }
   },
   "outputs": [],
   "source": [
    "# loop to find the Fail Rate of each Genre\n",
    "#         Fail Rate =  percentage of movies with profits below zero\n",
    "\n",
    "\n",
    "\n",
    "cat_list = []\n",
    "fail_rate_list = []\n",
    "\n",
    "\n",
    "# parses the columns names ('Documentary','Drama', 'Comedy' etc)\n",
    "for col in df_genres_financials.iloc[:,4:].keys():\n",
    "    \n",
    "    filt1 = (df_genres_financials[col] == 1)\n",
    "    filt2 = (df_genres_financials.total_profit < 0)\n",
    "    \n",
    "    #filters and slices the rows that are marked for that genre\n",
    "    \n",
    "    index_to_filt = intersection(list(df_genres_financials.loc[filt1].index),\n",
    "                                 list(df_genres_financials.loc[filt2].index))\n",
    "    \n",
    "    #calculates the fail rate\n",
    "    fail_rate = (len(df_genres_financials.loc[index_to_filt]) \n",
    "                 / len(df_genres_financials.loc[filt1].index))\n",
    "    \n",
    "\n",
    "    cat_list.append(col)   \n",
    "    fail_rate_list.append(fail_rate)\n",
    "    "
   ]
  },
  {
   "cell_type": "code",
   "execution_count": 65,
   "metadata": {
    "ExecuteTime": {
     "end_time": "2020-06-23T10:18:53.881962Z",
     "start_time": "2020-06-23T10:18:53.872899Z"
    }
   },
   "outputs": [],
   "source": [
    "# creates DF with the fail rate data\n",
    "\n",
    "df_fail_rate = pd.DataFrame({\n",
    "    'Fail Rate': fail_rate_list,\n",
    "    'Category': cat_list},\n",
    "    index = list(range(len(cat_list))))\n"
   ]
  },
  {
   "cell_type": "code",
   "execution_count": 66,
   "metadata": {
    "ExecuteTime": {
     "end_time": "2020-06-23T10:18:54.246563Z",
     "start_time": "2020-06-23T10:18:53.886022Z"
    },
    "scrolled": true
   },
   "outputs": [
    {
     "data": {
      "text/plain": [
       "Text(0.5, 1, '\\nFail Rate Of The 10 Most Commom Genres\\n')"
      ]
     },
     "execution_count": 66,
     "metadata": {},
     "output_type": "execute_result"
    },
    {
     "data": {
      "image/png": "[encoded data removed]",
      "text/plain": [
       "<Figure size 360x360 with 1 Axes>"
      ]
     },
     "metadata": {
      "needs_background": "light"
     },
     "output_type": "display_data"
    }
   ],
   "source": [
    "data = df_fail_rate.sort_values('Fail Rate', ascending=False)\n",
    "sns.catplot(data=data, kind='bar', y=\"Category\", x=\"Fail Rate\", orient=\"h\")\n",
    "plt.title(\"\"\"\n",
    "Fail Rate Of The 10 Most Commom Genres\n",
    "\"\"\")"
   ]
  },
  {
   "cell_type": "markdown",
   "metadata": {},
   "source": [
    " "
   ]
  },
  {
   "cell_type": "markdown",
   "metadata": {},
   "source": [
    "The chart clearly show that some genres are more risky then others. A Drama is roughly 4 times more likely to fail than a documentary.\n",
    "\n",
    "Recommendation: allocate resources in  accordance to expected losses; When producing content with riskier profiles, discount expected result by loss margin "
   ]
  },
  {
   "cell_type": "markdown",
   "metadata": {},
   "source": [
    " "
   ]
  },
  {
   "cell_type": "markdown",
   "metadata": {},
   "source": [
    "## What part does genre play in the financial results of a movie?"
   ]
  },
  {
   "cell_type": "code",
   "execution_count": 67,
   "metadata": {
    "ExecuteTime": {
     "end_time": "2020-06-23T10:18:54.275915Z",
     "start_time": "2020-06-23T10:18:54.248453Z"
    }
   },
   "outputs": [],
   "source": [
    "# calculates the avg profit for each of \n",
    "# the most commom genres\n",
    "\n",
    "\n",
    "avg_profit_list = []\n",
    "\n",
    "# parses the list of genres\n",
    "for col in cat_list:\n",
    "    \n",
    "    # filters for the Genre \n",
    "    filt1 = (df_genres_financials[col] == 1)\n",
    "    \n",
    "    # calculates the avg profit\n",
    "    avg_profit = (df_genres_financials.total_profit.loc[filt1].mean() \n",
    "                  / df_genres_financials.worldwide_gross.loc[filt1].mean())\n",
    "    \n",
    "    avg_profit_list.append(avg_profit)\n",
    "\n",
    "# adds new column to  ** df_fail_rate **\n",
    "df_fail_rate['Average Profit Margin'] = avg_profit_list"
   ]
  },
  {
   "cell_type": "code",
   "execution_count": 68,
   "metadata": {
    "ExecuteTime": {
     "end_time": "2020-06-23T10:18:54.863050Z",
     "start_time": "2020-06-23T10:18:54.309306Z"
    }
   },
   "outputs": [
    {
     "data": {
      "text/plain": [
       "Text(0.5, 1, '\\nAverage Profit of the 10 Most Commom Genres\\n')"
      ]
     },
     "execution_count": 68,
     "metadata": {},
     "output_type": "execute_result"
    },
    {
     "data": {
      "text/plain": [
       "<Figure size 432x288 with 0 Axes>"
      ]
     },
     "metadata": {},
     "output_type": "display_data"
    },
    {
     "data": {
      "image/png": "[encoded data removed]",
      "text/plain": [
       "<Figure size 360x360 with 1 Axes>"
      ]
     },
     "metadata": {
      "needs_background": "light"
     },
     "output_type": "display_data"
    }
   ],
   "source": [
    "plt.figure()\n",
    "\n",
    "data2 = df_fail_rate.sort_values('Average Profit Margin', ascending=False)\n",
    "sns.catplot(data=data2, kind='bar', \n",
    "            y=\"Category\", x=\"Average Profit Margin\", orient=\"h\")\n",
    "\n",
    "plt.title(\"\"\"\n",
    "Average Profit of the 10 Most Commom Genres\n",
    "\"\"\")\n"
   ]
  },
  {
   "cell_type": "markdown",
   "metadata": {},
   "source": [
    "The data show a pretty homogenous performance across all genres. Therefore we cannot infer from this methodology  that the genres will influence the financial performance of a project "
   ]
  },
  {
   "cell_type": "markdown",
   "metadata": {},
   "source": [
    "### Second take on relationship between genres and profit margins"
   ]
  },
  {
   "cell_type": "code",
   "execution_count": 69,
   "metadata": {
    "ExecuteTime": {
     "end_time": "2020-06-23T10:18:55.322247Z",
     "start_time": "2020-06-23T10:18:54.868994Z"
    }
   },
   "outputs": [
    {
     "data": {
      "text/plain": [
       "Text(0.5, 1.0, 'Profit by Genre')"
      ]
     },
     "execution_count": 69,
     "metadata": {},
     "output_type": "execute_result"
    },
    {
     "data": {
      "image/png": "[encoded data removed]",
      "text/plain": [
       "<Figure size 1440x576 with 1 Axes>"
      ]
     },
     "metadata": {},
     "output_type": "display_data"
    }
   ],
   "source": [
    "#Creates a bar chart of average profit of each genre - Profit / Genre \n",
    "\n",
    "genres_top10_df.reset_index(inplace=True)\n",
    "\n",
    "\n",
    "sns.set_context(\"paper\", font_scale = 2, rc={\"grid.linewidth\": 0.6})\n",
    "plt.rcParams[\"axes.labelsize\"] = 20\n",
    "sns.set_style(\"white\")\n",
    "plt.figure(figsize=(20,8))\n",
    "ax = sns.barplot(x='genres', y='total_profit', palette=\"rocket\", data=genres_top10_df);\n",
    "ax.set(xlabel=\"Genres\", ylabel = \"Avg. Profit ($)\")\n",
    "ax.axhline(0, color=\"k\", clip_on=False)\n",
    "ax.set_title('Profit by Genre', fontsize=30)\n",
    "plt.xticks(rotation=70)"
   ]
  },
  {
   "cell_type": "code",
   "execution_count": 70,
   "metadata": {
    "ExecuteTime": {
     "end_time": "2020-06-23T10:18:55.331744Z",
     "start_time": "2020-06-23T10:18:55.325206Z"
    }
   },
   "outputs": [],
   "source": [
    "movie_details_df.reset_index(inplace=True)"
   ]
  },
  {
   "cell_type": "code",
   "execution_count": 80,
   "metadata": {
    "ExecuteTime": {
     "end_time": "2020-06-23T10:27:56.628216Z",
     "start_time": "2020-06-23T10:27:55.360490Z"
    },
    "scrolled": true
   },
   "outputs": [
    {
     "data": {
      "text/plain": [
       "(array([ 0,  1,  2,  3,  4,  5,  6,  7,  8,  9, 10, 11, 12, 13, 14, 15, 16,\n",
       "        17, 18, 19]), <a list of 20 Text xticklabel objects>)"
      ]
     },
     "execution_count": 80,
     "metadata": {},
     "output_type": "execute_result"
    },
    {
     "data": {
      "image/png": "[encoded data removed]",
      "text/plain": [
       "<Figure size 936x720 with 1 Axes>"
      ]
     },
     "metadata": {},
     "output_type": "display_data"
    }
   ],
   "source": [
    "plt.figure(figsize=(13,10))\n",
    "\n",
    "b = sns.boxplot(x=\"genres\", y=('total_profit'), data=movie_details_df)\n",
    "b.axes.set_title(\"Genre vs Box Office Profit\",fontsize=20)\n",
    "b.set_xlabel(\"Genre\",fontsize=15)\n",
    "b.set_ylabel(\"Box Office Profit ($)\",fontsize=15)\n",
    "b.tick_params(labelsize=9)\n",
    "b.set_ylim=([150000000,0])\n",
    "plt.xticks(rotation=70)"
   ]
  },
  {
   "cell_type": "markdown",
   "metadata": {},
   "source": [
    "**Conclusion**\n",
    "- The value creation is not equal among all genre types\n",
    "\n",
    "**Recommendation**\n",
    "- Proper allocation of resources into genres that create most values will benefit the company by allowing to take part in the biggest slices of profit in the market "
   ]
  },
  {
   "cell_type": "code",
   "execution_count": null,
   "metadata": {},
   "outputs": [],
   "source": []
  },
  {
   "cell_type": "code",
   "execution_count": null,
   "metadata": {},
   "outputs": [],
   "source": []
  },
  {
   "cell_type": "code",
   "execution_count": null,
   "metadata": {},
   "outputs": [],
   "source": []
  }
 ],
 "metadata": {
  "kernelspec": {
   "display_name": "Python [conda env:learn-env] *",
   "language": "python",
   "name": "conda-env-learn-env-py"
  },
  "language_info": {
   "codemirror_mode": {
    "name": "ipython",
    "version": 3
   },
   "file_extension": ".py",
   "mimetype": "text/x-python",
   "name": "python",
   "nbconvert_exporter": "python",
   "pygments_lexer": "ipython3",
   "version": "3.6.9"
  },
  "toc": {
   "base_numbering": 1,
   "nav_menu": {},
   "number_sections": true,
   "sideBar": true,
   "skip_h1_title": false,
   "title_cell": "Table of Contents",
   "title_sidebar": "Contents",
   "toc_cell": false,
   "toc_position": {
    "height": "calc(100% - 180px)",
    "left": "10px",
    "top": "150px",
    "width": "240.625px"
   },
   "toc_section_display": true,
   "toc_window_display": false
  },
  "varInspector": {
   "cols": {
    "lenName": 16,
    "lenType": 16,
    "lenVar": 40
   },
   "kernels_config": {
    "python": {
     "delete_cmd_postfix": "",
     "delete_cmd_prefix": "del ",
     "library": "var_list.py",
     "varRefreshCmd": "print(var_dic_list())"
    },
    "r": {
     "delete_cmd_postfix": ") ",
     "delete_cmd_prefix": "rm(",
     "library": "var_list.r",
     "varRefreshCmd": "cat(var_dic_list()) "
    }
   },
   "types_to_exclude": [
    "module",
    "function",
    "builtin_function_or_method",
    "instance",
    "_Feature"
   ],
   "window_display": false
  }
 },
 "nbformat": 4,
 "nbformat_minor": 2
}
