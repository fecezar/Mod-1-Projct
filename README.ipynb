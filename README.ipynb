{
 "cells": [
  {
   "cell_type": "markdown",
   "metadata": {},
   "source": [
    "# Read Me"
   ]
  },
  {
   "cell_type": "markdown",
   "metadata": {},
   "source": [
    "## Project Briefing:\n",
    "\n",
    "\"Microsoft sees all the big companies creating original video content, and they want to get in on the fun. They have decided to create a new movie studio, but the problem is they don’t know anything about creating movies. They have hired you to help them better understand the movie industry. Your team is charged with doing data analysis and creating a presentation that explores what type of films are currently doing the best at the box office. You must then translate those findings into actionable insights that the CEO can use when deciding what type of films they should be creating.\""
   ]
  },
  {
   "cell_type": "markdown",
   "metadata": {},
   "source": [
    "## Data Overview"
   ]
  },
  {
   "cell_type": "markdown",
   "metadata": {},
   "source": [
    "The datasets used in this notebook include a wide range of related data\n",
    "\n",
    "- Box Office Mojo:\n",
    "  - bom.movie_gross.csv.gz\n",
    "  \n",
    "\n",
    "- IMDB:\n",
    "  - imdb.title.crew.csv.gz\n",
    "  - imdb.title.akas.csv.gz\n",
    "  - imdb.title.ratings.csv.gz\n",
    "  - imdb.name.basics.csv.gz\n",
    "  - imdb.title.basics.csv.gz\n",
    "  - imdb.title.principals.csv.gz\n",
    "\n",
    "\n",
    "\n",
    "- TMDB:\n",
    "  - tmdb.movies.csv.gz\n",
    "\n",
    "\n",
    "\n",
    "- The Numbers:\n",
    "  - tn.movie_budgets.csv.gz"
   ]
  },
  {
   "cell_type": "markdown",
   "metadata": {},
   "source": [
    "After initial analysis and some data cleaning, the datasets which ultimately were used to draw conclusion were:\n",
    "- imdb_title_basics_gz\n",
    "- tn_movie_budgets_gz\n",
    "- imdb_name_basics_gz"
   ]
  },
  {
   "cell_type": "markdown",
   "metadata": {},
   "source": [
    "# Questions and Assumptions"
   ]
  },
  {
   "cell_type": "markdown",
   "metadata": {},
   "source": [
    "This notebook explores and cleans the raw data in order to answer the following questions:\n",
    "\n",
    "\n",
    "- **What is the relationship between movie grossings and the people who take part in the project?**\n",
    "  - the underlying assumption is that even though there is a two way relationship between the success of a movie and that of a professional (one thing promotes the other), outlier professionals will have an outsized impact in the movie's results.\n",
    "<br>\n",
    "<br>\n",
    "- **Do directors, actors and producers have the same impact on the financial results of a movie?**\n",
    "  - the underlying assumption in this case is that roles with bigger responsabilities (directors, producers) have a larger impact than others (actors, for example)\n",
    "<br>\n",
    "<br>  \n",
    "- **Are any genres more risky than other in terms of financial performance?**\n",
    "  - the underlying assumption is that there will be differences among differnt genres\n",
    "<br>\n",
    "<br>\n",
    "  \n",
    "- **What part does genre play in the financial results of a movie?**\n",
    "  - the underlying assumption is that some genres will generate better results than others  "
   ]
  },
  {
   "cell_type": "markdown",
   "metadata": {},
   "source": [
    " # Data Cleaning and Exploration"
   ]
  },
  {
   "cell_type": "markdown",
   "metadata": {},
   "source": [
    "- **Deletion of  all duplicate rows from all data sets**\n",
    "  - **tn_movie_budgets_gz**: Changing data stored as strings into floats (financial figures) or into datetime (release date)"
   ]
  },
  {
   "cell_type": "markdown",
   "metadata": {
    "ExecuteTime": {
     "end_time": "2020-06-22T09:19:44.869922Z",
     "start_time": "2020-06-22T09:19:44.863602Z"
    }
   },
   "source": [
    "- **Cleaning columns with numerical data, but stored as strings**\n",
    "  - Changing data stored as string to datetime format for the column release_date"
   ]
  },
  {
   "cell_type": "markdown",
   "metadata": {},
   "source": [
    "- **First Merge**\n",
    "  - By merging **imdb_title_akas_gz** with **tn_movie_budgets_gz we can** we can cross **imdb** data with the financials from **tn**\n",
    "  - New Features : additionally, we can calculate profits  for the new merged table"
   ]
  },
  {
   "cell_type": "markdown",
   "metadata": {},
   "source": [
    "- **imdb_name_basics_gz**: \n",
    "This data set gives us a list of people and lists their professions and movies which they participated in\n",
    "\n",
    "  - Increasing readability of listed professions: first we make the professions list more readable and accessible for further treatment and analysis. We can also eliminate empty values so we only have rows that are useful for the desired analysis\n",
    "  - Deletion of rows: Rows with NaN either on known_for_titles column or on primary_profession were excluded\n",
    "  - New Features - Professions: Adding new columns that tell if the person is an actor, a director or a producer\n",
    "    - Deletion of rows: cleans away rows of people who are neither a director, an actor nor a producer\n",
    "  - New Features - cross reference with financial figures: since we have access to financial information about several movies, we can cross reference that with the movies listed for each professional in imdb_name_basics_gz\n",
    "    - Deleton of Rows\n",
    "Drops rows where avg_grossing is zero\n"
   ]
  },
  {
   "cell_type": "markdown",
   "metadata": {},
   "source": [
    "\n",
    "- **imdb_title_basics_gz**\n",
    "\n",
    "  - Data Type Cleaning: splits the string values in genres into a list of genres\n",
    "  - Row Deletions Deleting rows where column genre is empty\n",
    "  - Subdividing: creates a DF for genres and their frequency\n",
    "\n"
   ]
  },
  {
   "cell_type": "markdown",
   "metadata": {},
   "source": [
    "- **Second Merge**:  \n",
    "Merges   **imdb_title_basics_gz**   with information data from  **df_imdb_financials**"
   ]
  },
  {
   "cell_type": "markdown",
   "metadata": {},
   "source": [
    "# Questions Investigated\n",
    "\n"
   ]
  },
  {
   "cell_type": "markdown",
   "metadata": {},
   "source": [
    "## What is the relationship between movie grossings and the people who take part in the project?"
   ]
  },
  {
   "cell_type": "markdown",
   "metadata": {},
   "source": [
    "We can see no significant divergence in the composition of the distribution curves. "
   ]
  },
  {
   "attachments": {},
   "cell_type": "markdown",
   "metadata": {},
   "source": [
    "![alt text](https://github.com/fecezar/Mod-1-Projct/blob/master/Distr.png)"
   ]
  },
  {
   "attachments": {},
   "cell_type": "markdown",
   "metadata": {},
   "source": [
    "![alt text](https://github.com/fecezar/Mod-1-Projct/blob/master/distr%20prof%20vs%20movies.png)"
   ]
  },
  {
   "cell_type": "markdown",
   "metadata": {},
   "source": [
    "However, we can note that:\n",
    "- the bottom 25% of professionals present worse financial performances than the bottom 25% of all movies. We can thus infer that low performing professionals have an outsized negative impact on the financial performance of a movie\n"
   ]
  },
  {
   "cell_type": "markdown",
   "metadata": {},
   "source": [
    "## Do directors, actors and producers have the same impact on the financial results of a movie?"
   ]
  },
  {
   "attachments": {},
   "cell_type": "markdown",
   "metadata": {},
   "source": [
    "![alt text](https://github.com/fecezar/Mod-1-Projct/blob/master/professions.png)"
   ]
  },
  {
   "cell_type": "markdown",
   "metadata": {},
   "source": [
    "The charts show an almost identical distribution for all three professions. From that we can infer that no professional has a larger impact on the financial result than the others"
   ]
  },
  {
   "cell_type": "markdown",
   "metadata": {},
   "source": [
    "## Are any genres more risky than other in terms of financial performance?"
   ]
  },
  {
   "attachments": {},
   "cell_type": "markdown",
   "metadata": {},
   "source": [
    "![alt text](https://github.com/fecezar/Mod-1-Projct/blob/master/Fail%20Rate%20genres.png)"
   ]
  },
  {
   "cell_type": "markdown",
   "metadata": {},
   "source": [
    "The data show that some genres are more risky then others. A Drama is roughly 4 times more likely to fail than a documentary, for example"
   ]
  },
  {
   "cell_type": "markdown",
   "metadata": {},
   "source": [
    "## What part does genre play in the financial results of a movie?"
   ]
  },
  {
   "attachments": {},
   "cell_type": "markdown",
   "metadata": {},
   "source": [
    "![alt text](https://github.com/fecezar/Mod-1-Projct/blob/master/Genres%20profit%20margin.png)"
   ]
  },
  {
   "attachments": {},
   "cell_type": "markdown",
   "metadata": {
    "ExecuteTime": {
     "end_time": "2020-06-23T14:49:26.579348Z",
     "start_time": "2020-06-23T14:49:26.476634Z"
    }
   },
   "source": [
    "![alt text](https://github.com/fecezar/Mod-1-Projct/blob/master/genres%20boxplot.png)"
   ]
  },
  {
   "cell_type": "markdown",
   "metadata": {},
   "source": [
    "**Conclusion**\n",
    "- The value creation is not equal among all genre types\n",
    "\n",
    "**Recommendation**\n",
    "- Proper allocation of resources into genres that create most values will benefit the company by allowing to take part in the biggest slices of profit in the market "
   ]
  },
  {
   "cell_type": "markdown",
   "metadata": {},
   "source": [
    "## Future Work\n",
    "\n",
    "- A possible path for further exploration would be to dive into the relationships of professionals and genres.\n",
    "\n",
    "- Additionally, further analysis into "
   ]
  },
  {
   "cell_type": "code",
   "execution_count": null,
   "metadata": {},
   "outputs": [],
   "source": []
  }
 ],
 "metadata": {
  "kernelspec": {
   "display_name": "Python [conda env:learn-env] *",
   "language": "python",
   "name": "conda-env-learn-env-py"
  },
  "language_info": {
   "codemirror_mode": {
    "name": "ipython",
    "version": 3
   },
   "file_extension": ".py",
   "mimetype": "text/x-python",
   "name": "python",
   "nbconvert_exporter": "python",
   "pygments_lexer": "ipython3",
   "version": "3.6.9"
  },
  "toc": {
   "base_numbering": 1,
   "nav_menu": {},
   "number_sections": true,
   "sideBar": true,
   "skip_h1_title": false,
   "title_cell": "Table of Contents",
   "title_sidebar": "Contents",
   "toc_cell": false,
   "toc_position": {},
   "toc_section_display": true,
   "toc_window_display": true
  },
  "varInspector": {
   "cols": {
    "lenName": 16,
    "lenType": 16,
    "lenVar": 40
   },
   "kernels_config": {
    "python": {
     "delete_cmd_postfix": "",
     "delete_cmd_prefix": "del ",
     "library": "var_list.py",
     "varRefreshCmd": "print(var_dic_list())"
    },
    "r": {
     "delete_cmd_postfix": ") ",
     "delete_cmd_prefix": "rm(",
     "library": "var_list.r",
     "varRefreshCmd": "cat(var_dic_list()) "
    }
   },
   "types_to_exclude": [
    "module",
    "function",
    "builtin_function_or_method",
    "instance",
    "_Feature"
   ],
   "window_display": false
  }
 },
 "nbformat": 4,
 "nbformat_minor": 2
}
