{
 "cells": [
  {
   "cell_type": "code",
   "execution_count": 1,
   "metadata": {},
   "outputs": [],
   "source": [
    "import pandas as pd\n",
    "import os\n",
    "import matplotlib.pyplot as plt\n",
    "%matplotlib inline\n",
    "\n",
    "import sqlite3\n",
    "from pandasql import sqldf\n",
    "pysqldf = lambda q: sqldf(q, globals())"
   ]
  },
  {
   "cell_type": "markdown",
   "metadata": {},
   "source": [
    "The code below was provided by Abhineet"
   ]
  },
  {
   "cell_type": "code",
   "execution_count": 2,
   "metadata": {},
   "outputs": [],
   "source": [
    "from glob import glob"
   ]
  },
  {
   "cell_type": "code",
   "execution_count": 3,
   "metadata": {},
   "outputs": [],
   "source": [
    "csv_files = glob(\"./zippedData/*.csv.gz\")"
   ]
  },
  {
   "cell_type": "code",
   "execution_count": 4,
   "metadata": {},
   "outputs": [],
   "source": [
    "csv_files_dict = {}\n",
    "for filename in csv_files:\n",
    "    filename_cleaned = os.path.basename(filename).replace(\".csv\", \"\").replace(\".\", \"_\") # cleaning the filenames\n",
    "    filename_df = pd.read_csv(filename, index_col=0)\n",
    "    csv_files_dict[filename_cleaned] = filename_df"
   ]
  },
  {
   "cell_type": "markdown",
   "metadata": {},
   "source": [
    "Below, we start our own code\n",
    "\n",
    "Since we will be working with Pandas we need to organize our DFs. \n",
    "Let's start by renaming all of them and adding them to a new dictionary. \n",
    "By creating a new dictionary of DFs, we can manipulate the data without messing up the originals in csv_files_dict."
   ]
  },
  {
   "cell_type": "code",
   "execution_count": 5,
   "metadata": {},
   "outputs": [],
   "source": [
    "df_repository = {} #by creating a dictionary, we can manipulate the data without messing up the originals in csv_files_dict\n",
    "for filename in csv_files:\n",
    "    filename_cleaned = os.path.basename(filename).replace(\".csv\", \"\").replace(\".\", \"_\") # cleaning the filenames    \n",
    "    exec(\"\"\"df_repository[\"\"\" + \"\"\"'\"\"\" + filename_cleaned + \"\"\"']\"\"\" + \"\"\" = csv_files_dict['\"\"\" + filename_cleaned + \"\"\"']\"\"\" )"
   ]
  },
  {
   "cell_type": "markdown",
   "metadata": {},
   "source": [
    "As seen below, the dataframes contain duplicates, which should be removed"
   ]
  },
  {
   "cell_type": "code",
   "execution_count": 6,
   "metadata": {},
   "outputs": [
    {
     "name": "stdout",
     "output_type": "stream",
     "text": [
      "bom_movie_gross_gz contains  11  duplicates\n",
      "imdb_name_basics_gz contains  239  duplicates\n",
      "imdb_title_akas_gz contains  2220  duplicates\n",
      "imdb_title_basics_gz contains  122  duplicates\n",
      "imdb_title_crew_gz contains  22915  duplicates\n",
      "imdb_title_principals_gz contains  114187  duplicates\n",
      "imdb_title_ratings_gz contains  45074  duplicates\n",
      "tmdb_movies_gz contains  1020  duplicates\n",
      "tn_movie_budgets_gz contains  0  duplicates\n"
     ]
    }
   ],
   "source": [
    "for db in df_repository.keys():\n",
    "    print(db, 'contains ', df_repository[db].duplicated().sum(), ' duplicates')"
   ]
  },
  {
   "cell_type": "code",
   "execution_count": 7,
   "metadata": {},
   "outputs": [],
   "source": [
    "def clean_duplicates(dataframe): #returns a dataframe without duplicates\n",
    "    cleaned_filter = dataframe.duplicated()\n",
    "    index_to_drop = dataframe.loc[cleaned_filter].index\n",
    "    return dataframe.drop(index=index_to_drop)"
   ]
  },
  {
   "cell_type": "code",
   "execution_count": 8,
   "metadata": {},
   "outputs": [],
   "source": [
    "for db in df_repository.keys(): #loop to parse dataframes through the clean_duplicates() function we wrote above\n",
    "    df_repository[db] = clean_duplicates(df_repository[db])"
   ]
  },
  {
   "cell_type": "code",
   "execution_count": 9,
   "metadata": {
    "scrolled": false
   },
   "outputs": [
    {
     "name": "stdout",
     "output_type": "stream",
     "text": [
      "bom_movie_gross_gz contains  0  duplicates\n",
      "imdb_name_basics_gz contains  0  duplicates\n",
      "imdb_title_akas_gz contains  0  duplicates\n",
      "imdb_title_basics_gz contains  0  duplicates\n",
      "imdb_title_crew_gz contains  0  duplicates\n",
      "imdb_title_principals_gz contains  0  duplicates\n",
      "imdb_title_ratings_gz contains  0  duplicates\n",
      "tmdb_movies_gz contains  0  duplicates\n",
      "tn_movie_budgets_gz contains  0  duplicates\n"
     ]
    }
   ],
   "source": [
    "for db in df_repository.keys():\n",
    "    print(db, 'contains ', df_repository[db].duplicated().sum(), ' duplicates') #checking if it worked"
   ]
  },
  {
   "cell_type": "markdown",
   "metadata": {},
   "source": [
    "Empty cells and Place holders:\n",
    "\n"
   ]
  },
  {
   "cell_type": "code",
   "execution_count": 10,
   "metadata": {},
   "outputs": [],
   "source": [
    "def NaN_to_zero(DataFrame, DataSeries, change_into=0): #we can change into anything, if we adjust the 'change_into' argument\n",
    "    filt = DataSeries.isna()\n",
    "    DataFrame.loc[filt] = change_into\n",
    "    return DataFrame"
   ]
  },
  {
   "cell_type": "code",
   "execution_count": null,
   "metadata": {
    "scrolled": true
   },
   "outputs": [],
   "source": [
    "#checking where the NaN ares:\n",
    "for df in df_repository.keys():\n",
    "    print('----xxxx------')\n",
    "    print('DF: ', df)\n",
    "    print(df_repository[df].isna().sum())\n",
    "    print('----xxxx------')\n",
    "          "
   ]
  },
  {
   "cell_type": "code",
   "execution_count": 19,
   "metadata": {},
   "outputs": [],
   "source": [
    "df_repository['tn_movie_budgets_gz'].release_date = pd.to_datetime(df_repository['tn_movie_budgets_gz'].release_date)"
   ]
  },
  {
   "cell_type": "code",
   "execution_count": null,
   "metadata": {},
   "outputs": [],
   "source": [
    "filt_orig_title = (df_repository['imdb_title_akas_gz'].is_original_title == 1)\n",
    "df_id_title = df_repository['imdb_title_akas_gz'].loc[filt_orig_title][['title']]\n",
    "df_id_title\n"
   ]
  },
  {
   "cell_type": "code",
   "execution_count": null,
   "metadata": {
    "scrolled": true
   },
   "outputs": [],
   "source": [
    "df_id_title.join(df_repository['imdb_title_crew_gz'],how='inner').drop(columns='writers')"
   ]
  },
  {
   "cell_type": "code",
   "execution_count": null,
   "metadata": {},
   "outputs": [],
   "source": [
    "fuzzy_duplicates_list(df_repository['tn_movie_budgets_gz'].movie, df_id_title.reset_index().title_id)\n",
    "\n",
    "#df_repository['tn_movie_budgets_gz'] #i need to create a index/pivot to join with imbd data"
   ]
  },
  {
   "cell_type": "code",
   "execution_count": null,
   "metadata": {},
   "outputs": [],
   "source": [
    "df_repository['imdb_name_basics_gz'].head()"
   ]
  },
  {
   "cell_type": "markdown",
   "metadata": {},
   "source": [
    "Now that we know it works, we can start cleaning up NaN values. After looking through the DFs, we should find other numerical columns with NaN values, and then apply the function to them. "
   ]
  },
  {
   "cell_type": "markdown",
   "metadata": {},
   "source": [
    "Variable Types:\n",
    "\n",
    "Some columns that are supposed to be numerical actually have data stored as strings. Let's write a function that transforms the data"
   ]
  },
  {
   "cell_type": "code",
   "execution_count": 12,
   "metadata": {},
   "outputs": [],
   "source": [
    "def string_to_float(string):\n",
    "    if string == None:\n",
    "        new_string = 0\n",
    "    else:\n",
    "        if (type(string) != int) and (type(string) != float):\n",
    "            new_string = string.replace('$', '')\n",
    "            new_string = new_string.replace(',', '')\n",
    "\n",
    "        else:\n",
    "            new_string = string\n",
    "    return float(new_string)\n",
    "\n",
    "\n",
    "def series_string_to_float(dataseries):\n",
    "    new_dataseries = dataseries.apply(string_to_float)\n",
    "    return new_dataseries\n"
   ]
  },
  {
   "cell_type": "code",
   "execution_count": 13,
   "metadata": {},
   "outputs": [],
   "source": [
    "#cleaning data - from string to float (tn_movie_budgets_gz)\n",
    "df_repository['tn_movie_budgets_gz'].production_budget = series_string_to_float(df_repository['tn_movie_budgets_gz'].production_budget)\n",
    "df_repository['tn_movie_budgets_gz'].domestic_gross = series_string_to_float(df_repository['tn_movie_budgets_gz'].domestic_gross)\n",
    "df_repository['tn_movie_budgets_gz'].worldwide_gross = series_string_to_float(df_repository['tn_movie_budgets_gz'].worldwide_gross)\n",
    "df_repository['tn_movie_budgets_gz'].release_date = pd.to_datetime(df_repository['tn_movie_budgets_gz'].release_date)"
   ]
  },
  {
   "cell_type": "code",
   "execution_count": 18,
   "metadata": {},
   "outputs": [],
   "source": [
    "#the data in df_bom_movie_gross_gz.foreign_gross is stored as strings instead of numerical values\n",
    "df_repository['bom_movie_gross_gz'].loc[:,['foreign_gross']] = series_string_to_float(df_repository['bom_movie_gross_gz'].foreign_gross)"
   ]
  },
  {
   "cell_type": "markdown",
   "metadata": {},
   "source": [
    "We can join DF using the movie title as the key. For such, we need to\n",
    "    -standardize the column names\n",
    "    -clean data (eliminate NaN, placeholders)\n",
    "    -create new keys (is key is a series of strings, we need to account for typos)\n",
    "    -join the dataframes\n",
    "    -analyse and plot"
   ]
  },
  {
   "cell_type": "code",
   "execution_count": null,
   "metadata": {},
   "outputs": [],
   "source": [
    "from fuzzywuzzy import fuzz\n",
    "from fuzzywuzzy import process"
   ]
  },
  {
   "cell_type": "code",
   "execution_count": null,
   "metadata": {},
   "outputs": [],
   "source": [
    "def fuzzy_duplicates(string, DataSeries, ratio=90):\n",
    "    fuzzy_matches = []\n",
    "    for i in DataSeries:\n",
    "        result = fuzz.ratio(string, i)\n",
    "        if (result > ratio) and (result != 100):\n",
    "            fuzzy_matches.append([string, i, result])\n",
    "    return fuzzy_matches"
   ]
  },
  {
   "cell_type": "code",
   "execution_count": null,
   "metadata": {},
   "outputs": [],
   "source": [
    "def fuzzy_duplicates_list(Series1, Series2):\n",
    "    fuzzy_duplicates_list = []\n",
    "    for string in Series1:\n",
    "        matches = fuzzy_duplicates(string, Series2)\n",
    "        if len(matches) >0:\n",
    "            fuzzy_duplicates_list.append(matches)\n",
    "    return fuzzy_duplicates_list"
   ]
  },
  {
   "cell_type": "code",
   "execution_count": null,
   "metadata": {},
   "outputs": [],
   "source": [
    "def intersect_lists(lst1, lst2):\n",
    "    lst3 = [value for value in lst1 if value in lst2]\n",
    "    return lst3\n",
    "\n",
    "#test_list = intersect_lists(tn_movies, bom_movies)\n",
    "\n",
    "#df_bom_movie_gross_gz.set_index(drop=False, keys='title')\n",
    "#df_tn_movie_budgets_gz.rename(columns={'movie': 'title'}, inplace=True)\n",
    "#df_tn_movie_budgets_gz.set_index(keys='title', inplace=True)\n"
   ]
  },
  {
   "cell_type": "code",
   "execution_count": null,
   "metadata": {},
   "outputs": [],
   "source": [
    "df_tn_movie_budgets_gz.join(df_bom_movie_gross_gz, how='outer', sort=False, lsuffix='_tn_', rsuffix='_bom_' ).head(50)"
   ]
  },
  {
   "cell_type": "markdown",
   "metadata": {},
   "source": [
    "After cleaning data, we can start creating new features"
   ]
  },
  {
   "cell_type": "code",
   "execution_count": null,
   "metadata": {},
   "outputs": [],
   "source": [
    "df_bom_movie_gross_gz.foreign_gross = series_string_to_float(df_bom_movie_gross_gz.foreign_gross)"
   ]
  },
  {
   "cell_type": "code",
   "execution_count": null,
   "metadata": {},
   "outputs": [],
   "source": [
    "df_bom_movie_gross_gz['total_gross'] = df_bom_movie_gross_gz['foreign_gross'].add(df_bom_movie_gross_gz['domestic_gross'], fill_value=0.0)\n",
    "df_bom_movie_gross_gz.head()"
   ]
  },
  {
   "cell_type": "markdown",
   "metadata": {},
   "source": [
    "In order to simplify the manipulation of data, the column names of each df could be standardized ('title' vs 'movie title' vs 'original title', etc)"
   ]
  },
  {
   "cell_type": "code",
   "execution_count": 21,
   "metadata": {},
   "outputs": [
    {
     "data": {
      "text/html": [
       "<div>\n",
       "<style scoped>\n",
       "    .dataframe tbody tr th:only-of-type {\n",
       "        vertical-align: middle;\n",
       "    }\n",
       "\n",
       "    .dataframe tbody tr th {\n",
       "        vertical-align: top;\n",
       "    }\n",
       "\n",
       "    .dataframe thead th {\n",
       "        text-align: right;\n",
       "    }\n",
       "</style>\n",
       "<table border=\"1\" class=\"dataframe\">\n",
       "  <thead>\n",
       "    <tr style=\"text-align: right;\">\n",
       "      <th></th>\n",
       "      <th>writers</th>\n",
       "    </tr>\n",
       "    <tr>\n",
       "      <th>directors</th>\n",
       "      <th></th>\n",
       "    </tr>\n",
       "  </thead>\n",
       "  <tbody>\n",
       "    <tr>\n",
       "      <td>nm0000080</td>\n",
       "      <td>nm0000080,nm0462648</td>\n",
       "    </tr>\n",
       "    <tr>\n",
       "      <td>nm0000095</td>\n",
       "      <td>nm0000095</td>\n",
       "    </tr>\n",
       "    <tr>\n",
       "      <td>nm0000108</td>\n",
       "      <td>nm0160391,nm0617789,nm0000108nm0292451nm000010...</td>\n",
       "    </tr>\n",
       "    <tr>\n",
       "      <td>nm0000110</td>\n",
       "      <td>nm0002005,nm0338169nm3092414,nm0462895,nm00020...</td>\n",
       "    </tr>\n",
       "    <tr>\n",
       "      <td>nm0000116</td>\n",
       "      <td>nm0000116,nm0415425,nm0004307,nm0798646nm00001...</td>\n",
       "    </tr>\n",
       "    <tr>\n",
       "      <td>...</td>\n",
       "      <td>...</td>\n",
       "    </tr>\n",
       "    <tr>\n",
       "      <td>nm9992900</td>\n",
       "      <td>nm9992900,nm9992899</td>\n",
       "    </tr>\n",
       "    <tr>\n",
       "      <td>nm9992905</td>\n",
       "      <td>0</td>\n",
       "    </tr>\n",
       "    <tr>\n",
       "      <td>nm9992906</td>\n",
       "      <td>nm9992906</td>\n",
       "    </tr>\n",
       "    <tr>\n",
       "      <td>nm9993380,nm9993379,nm9993381</td>\n",
       "      <td>nm9993380,nm9993379</td>\n",
       "    </tr>\n",
       "    <tr>\n",
       "      <td>nm9993573</td>\n",
       "      <td>nm9993573</td>\n",
       "    </tr>\n",
       "  </tbody>\n",
       "</table>\n",
       "<p>98525 rows × 1 columns</p>\n",
       "</div>"
      ],
      "text/plain": [
       "                                                                         writers\n",
       "directors                                                                       \n",
       "nm0000080                                                    nm0000080,nm0462648\n",
       "nm0000095                                                              nm0000095\n",
       "nm0000108                      nm0160391,nm0617789,nm0000108nm0292451nm000010...\n",
       "nm0000110                      nm0002005,nm0338169nm3092414,nm0462895,nm00020...\n",
       "nm0000116                      nm0000116,nm0415425,nm0004307,nm0798646nm00001...\n",
       "...                                                                          ...\n",
       "nm9992900                                                    nm9992900,nm9992899\n",
       "nm9992905                                                                      0\n",
       "nm9992906                                                              nm9992906\n",
       "nm9993380,nm9993379,nm9993381                                nm9993380,nm9993379\n",
       "nm9993573                                                              nm9993573\n",
       "\n",
       "[98525 rows x 1 columns]"
      ]
     },
     "execution_count": 21,
     "metadata": {},
     "output_type": "execute_result"
    }
   ],
   "source": [
    "df_repository['imdb_title_crew_gz'].groupby('directors').sum()"
   ]
  },
  {
   "cell_type": "code",
   "execution_count": 22,
   "metadata": {},
   "outputs": [
    {
     "data": {
      "text/html": [
       "<div>\n",
       "<style scoped>\n",
       "    .dataframe tbody tr th:only-of-type {\n",
       "        vertical-align: middle;\n",
       "    }\n",
       "\n",
       "    .dataframe tbody tr th {\n",
       "        vertical-align: top;\n",
       "    }\n",
       "\n",
       "    .dataframe thead th {\n",
       "        text-align: right;\n",
       "    }\n",
       "</style>\n",
       "<table border=\"1\" class=\"dataframe\">\n",
       "  <thead>\n",
       "    <tr style=\"text-align: right;\">\n",
       "      <th></th>\n",
       "      <th>directors</th>\n",
       "      <th>writers</th>\n",
       "    </tr>\n",
       "    <tr>\n",
       "      <th>tconst</th>\n",
       "      <th></th>\n",
       "      <th></th>\n",
       "    </tr>\n",
       "  </thead>\n",
       "  <tbody>\n",
       "    <tr>\n",
       "      <td>tt0285252</td>\n",
       "      <td>nm0899854</td>\n",
       "      <td>nm0899854</td>\n",
       "    </tr>\n",
       "    <tr>\n",
       "      <td>tt0438973</td>\n",
       "      <td>NaN</td>\n",
       "      <td>nm0175726,nm1802864</td>\n",
       "    </tr>\n",
       "    <tr>\n",
       "      <td>tt0462036</td>\n",
       "      <td>nm1940585</td>\n",
       "      <td>nm1940585</td>\n",
       "    </tr>\n",
       "    <tr>\n",
       "      <td>tt0835418</td>\n",
       "      <td>nm0151540</td>\n",
       "      <td>nm0310087,nm0841532</td>\n",
       "    </tr>\n",
       "    <tr>\n",
       "      <td>tt0878654</td>\n",
       "      <td>nm0089502,nm2291498,nm2292011</td>\n",
       "      <td>nm0284943</td>\n",
       "    </tr>\n",
       "  </tbody>\n",
       "</table>\n",
       "</div>"
      ],
      "text/plain": [
       "                               directors              writers\n",
       "tconst                                                       \n",
       "tt0285252                      nm0899854            nm0899854\n",
       "tt0438973                            NaN  nm0175726,nm1802864\n",
       "tt0462036                      nm1940585            nm1940585\n",
       "tt0835418                      nm0151540  nm0310087,nm0841532\n",
       "tt0878654  nm0089502,nm2291498,nm2292011            nm0284943"
      ]
     },
     "execution_count": 22,
     "metadata": {},
     "output_type": "execute_result"
    }
   ],
   "source": [
    "df_repository['imdb_title_crew_gz'].head()"
   ]
  },
  {
   "cell_type": "code",
   "execution_count": 45,
   "metadata": {},
   "outputs": [],
   "source": [
    "def split_series(series, split_characters):\n",
    "    broken_series = series.str.split(split_characters)\n",
    "    new_list1 = []\n",
    "    new_list2 = []\n",
    "    new_list3 = []\n",
    "    \n",
    "    for lst in broken_series:\n",
    "        if type(lst) == list:\n",
    "            new_list1.append(lst[0])\n",
    "            \n",
    "            if len(lst) > 1:\n",
    "                new_list2.append(lst[1])\n",
    "                \n",
    "                if len(lst) > 2:\n",
    "                    new_list3.append(lst[2])\n",
    "                else:\n",
    "                    new_list3.append('N/A')\n",
    "            \n",
    "            \n",
    "            else: \n",
    "                new_list2.append('N/A')\n",
    "                new_list3.append('N/A')\n",
    "            \n",
    "        else:\n",
    "            new_list1.append('N/A')\n",
    "            new_list2.append('N/A')\n",
    "            new_list3.append('N/A')\n",
    "            \n",
    "    new_series_dict = {'dir_code_1': new_list1, 'dir_code_2': new_list2, 'dir_code_3': new_list3 }\n",
    "    return pd.DataFrame(new_series_dict)"
   ]
  },
  {
   "cell_type": "code",
   "execution_count": 46,
   "metadata": {
    "scrolled": true
   },
   "outputs": [
    {
     "data": {
      "text/html": [
       "<div>\n",
       "<style scoped>\n",
       "    .dataframe tbody tr th:only-of-type {\n",
       "        vertical-align: middle;\n",
       "    }\n",
       "\n",
       "    .dataframe tbody tr th {\n",
       "        vertical-align: top;\n",
       "    }\n",
       "\n",
       "    .dataframe thead th {\n",
       "        text-align: right;\n",
       "    }\n",
       "</style>\n",
       "<table border=\"1\" class=\"dataframe\">\n",
       "  <thead>\n",
       "    <tr style=\"text-align: right;\">\n",
       "      <th></th>\n",
       "      <th>dir_code_1</th>\n",
       "      <th>dir_code_2</th>\n",
       "      <th>dir_code_3</th>\n",
       "    </tr>\n",
       "  </thead>\n",
       "  <tbody>\n",
       "    <tr>\n",
       "      <td>0</td>\n",
       "      <td>nm0899854</td>\n",
       "      <td>N/A</td>\n",
       "      <td>N/A</td>\n",
       "    </tr>\n",
       "    <tr>\n",
       "      <td>1</td>\n",
       "      <td>N/A</td>\n",
       "      <td>N/A</td>\n",
       "      <td>N/A</td>\n",
       "    </tr>\n",
       "    <tr>\n",
       "      <td>2</td>\n",
       "      <td>nm1940585</td>\n",
       "      <td>N/A</td>\n",
       "      <td>N/A</td>\n",
       "    </tr>\n",
       "    <tr>\n",
       "      <td>3</td>\n",
       "      <td>nm0151540</td>\n",
       "      <td>N/A</td>\n",
       "      <td>N/A</td>\n",
       "    </tr>\n",
       "    <tr>\n",
       "      <td>4</td>\n",
       "      <td>nm0089502</td>\n",
       "      <td>nm2291498</td>\n",
       "      <td>nm2292011</td>\n",
       "    </tr>\n",
       "    <tr>\n",
       "      <td>...</td>\n",
       "      <td>...</td>\n",
       "      <td>...</td>\n",
       "      <td>...</td>\n",
       "    </tr>\n",
       "    <tr>\n",
       "      <td>123224</td>\n",
       "      <td>nm10122357</td>\n",
       "      <td>N/A</td>\n",
       "      <td>N/A</td>\n",
       "    </tr>\n",
       "    <tr>\n",
       "      <td>123225</td>\n",
       "      <td>nm6711477</td>\n",
       "      <td>N/A</td>\n",
       "      <td>N/A</td>\n",
       "    </tr>\n",
       "    <tr>\n",
       "      <td>123226</td>\n",
       "      <td>nm10123242</td>\n",
       "      <td>nm10123248</td>\n",
       "      <td>N/A</td>\n",
       "    </tr>\n",
       "    <tr>\n",
       "      <td>123227</td>\n",
       "      <td>nm4993825</td>\n",
       "      <td>N/A</td>\n",
       "      <td>N/A</td>\n",
       "    </tr>\n",
       "    <tr>\n",
       "      <td>123228</td>\n",
       "      <td>N/A</td>\n",
       "      <td>N/A</td>\n",
       "      <td>N/A</td>\n",
       "    </tr>\n",
       "  </tbody>\n",
       "</table>\n",
       "<p>123229 rows × 3 columns</p>\n",
       "</div>"
      ],
      "text/plain": [
       "        dir_code_1  dir_code_2 dir_code_3\n",
       "0        nm0899854         N/A        N/A\n",
       "1              N/A         N/A        N/A\n",
       "2        nm1940585         N/A        N/A\n",
       "3        nm0151540         N/A        N/A\n",
       "4        nm0089502   nm2291498  nm2292011\n",
       "...            ...         ...        ...\n",
       "123224  nm10122357         N/A        N/A\n",
       "123225   nm6711477         N/A        N/A\n",
       "123226  nm10123242  nm10123248        N/A\n",
       "123227   nm4993825         N/A        N/A\n",
       "123228         N/A         N/A        N/A\n",
       "\n",
       "[123229 rows x 3 columns]"
      ]
     },
     "execution_count": 46,
     "metadata": {},
     "output_type": "execute_result"
    }
   ],
   "source": [
    "split_series(df_repository['imdb_title_crew_gz'].directors, ',')"
   ]
  },
  {
   "cell_type": "code",
   "execution_count": 82,
   "metadata": {},
   "outputs": [
    {
     "data": {
      "text/plain": [
       "N/A           1163\n",
       "nm2551464       23\n",
       "nm2410514       22\n",
       "nm0482774       19\n",
       "nm0290556       19\n",
       "              ... \n",
       "nm5363550        1\n",
       "nm4592235        1\n",
       "nm8226302        1\n",
       "nm10723839       1\n",
       "nm3276178        1\n",
       "Name: dir_code_1, Length: 94755, dtype: int64"
      ]
     },
     "execution_count": 82,
     "metadata": {},
     "output_type": "execute_result"
    }
   ],
   "source": [
    "split_series(df_repository['imdb_title_crew_gz'].directors, ',').dir_code_1.value_counts()"
   ]
  },
  {
   "cell_type": "code",
   "execution_count": 61,
   "metadata": {},
   "outputs": [],
   "source": [
    "new_series_directors =  df_repository['imdb_name_basics_gz'].known_for_titles.str.split(',')\n",
    "filt = new_series_directors.isna()\n",
    "new_series_directors.loc[filt] = '.'"
   ]
  },
  {
   "cell_type": "code",
   "execution_count": 80,
   "metadata": {},
   "outputs": [
    {
     "ename": "ValueError",
     "evalue": "too many values to unpack (expected 2)",
     "output_type": "error",
     "traceback": [
      "\u001b[1;31m---------------------------------------------------------------------------\u001b[0m",
      "\u001b[1;31mValueError\u001b[0m                                Traceback (most recent call last)",
      "\u001b[1;32m<ipython-input-80-d5f3712ab4c3>\u001b[0m in \u001b[0;36m<module>\u001b[1;34m\u001b[0m\n\u001b[0;32m      1\u001b[0m \u001b[0mlist_\u001b[0m \u001b[1;33m=\u001b[0m \u001b[1;33m[\u001b[0m\u001b[1;33m]\u001b[0m\u001b[1;33m\u001b[0m\u001b[1;33m\u001b[0m\u001b[0m\n\u001b[0;32m      2\u001b[0m \u001b[1;33m\u001b[0m\u001b[0m\n\u001b[1;32m----> 3\u001b[1;33m \u001b[1;32mfor\u001b[0m \u001b[0mindex\u001b[0m\u001b[1;33m,\u001b[0m \u001b[0mlst\u001b[0m \u001b[1;32min\u001b[0m \u001b[0mnew_series_directors\u001b[0m\u001b[1;33m:\u001b[0m\u001b[1;33m\u001b[0m\u001b[1;33m\u001b[0m\u001b[0m\n\u001b[0m\u001b[0;32m      4\u001b[0m     \u001b[0mlist_\u001b[0m\u001b[1;33m.\u001b[0m\u001b[0mappend\u001b[0m\u001b[1;33m(\u001b[0m\u001b[0mlen\u001b[0m\u001b[1;33m(\u001b[0m\u001b[0mlst\u001b[0m\u001b[1;33m)\u001b[0m\u001b[1;33m,\u001b[0m \u001b[0mindex\u001b[0m\u001b[1;33m)\u001b[0m\u001b[1;33m\u001b[0m\u001b[1;33m\u001b[0m\u001b[0m\n\u001b[0;32m      5\u001b[0m \u001b[1;33m\u001b[0m\u001b[0m\n",
      "\u001b[1;31mValueError\u001b[0m: too many values to unpack (expected 2)"
     ]
    }
   ],
   "source": [
    "list_ = []\n",
    "\n",
    "for index, lst in new_series_directors:\n",
    "    list_.append(len(lst), index)\n",
    "\n",
    "list_\n"
   ]
  },
  {
   "cell_type": "code",
   "execution_count": 87,
   "metadata": {},
   "outputs": [],
   "source": [
    "#df_repository['imdb_name_basics_gz'].primary_profession.str.split(',')\n",
    "df_repository['imdb_name_basics_gz'].primary_profession = df_repository['imdb_name_basics_gz'].primary_profession.str.split(',')\n",
    "df_repository['imdb_name_basics_gz'].known_for_titles = df_repository['imdb_name_basics_gz'].known_for_titles.str.split(',')"
   ]
  },
  {
   "cell_type": "code",
   "execution_count": 88,
   "metadata": {},
   "outputs": [
    {
     "data": {
      "text/html": [
       "<div>\n",
       "<style scoped>\n",
       "    .dataframe tbody tr th:only-of-type {\n",
       "        vertical-align: middle;\n",
       "    }\n",
       "\n",
       "    .dataframe tbody tr th {\n",
       "        vertical-align: top;\n",
       "    }\n",
       "\n",
       "    .dataframe thead th {\n",
       "        text-align: right;\n",
       "    }\n",
       "</style>\n",
       "<table border=\"1\" class=\"dataframe\">\n",
       "  <thead>\n",
       "    <tr style=\"text-align: right;\">\n",
       "      <th></th>\n",
       "      <th>primary_name</th>\n",
       "      <th>birth_year</th>\n",
       "      <th>death_year</th>\n",
       "      <th>primary_profession</th>\n",
       "      <th>known_for_titles</th>\n",
       "    </tr>\n",
       "    <tr>\n",
       "      <th>nconst</th>\n",
       "      <th></th>\n",
       "      <th></th>\n",
       "      <th></th>\n",
       "      <th></th>\n",
       "      <th></th>\n",
       "    </tr>\n",
       "  </thead>\n",
       "  <tbody>\n",
       "    <tr>\n",
       "      <td>nm0061671</td>\n",
       "      <td>Mary Ellen Bauder</td>\n",
       "      <td>NaN</td>\n",
       "      <td>NaN</td>\n",
       "      <td>[miscellaneous, production_manager, producer]</td>\n",
       "      <td>[tt0837562, tt2398241, tt0844471, tt0118553]</td>\n",
       "    </tr>\n",
       "    <tr>\n",
       "      <td>nm0061865</td>\n",
       "      <td>Joseph Bauer</td>\n",
       "      <td>NaN</td>\n",
       "      <td>NaN</td>\n",
       "      <td>[composer, music_department, sound_department]</td>\n",
       "      <td>[tt0896534, tt6791238, tt0287072, tt1682940]</td>\n",
       "    </tr>\n",
       "    <tr>\n",
       "      <td>nm0062070</td>\n",
       "      <td>Bruce Baum</td>\n",
       "      <td>NaN</td>\n",
       "      <td>NaN</td>\n",
       "      <td>[miscellaneous, actor, writer]</td>\n",
       "      <td>[tt1470654, tt0363631, tt0104030, tt0102898]</td>\n",
       "    </tr>\n",
       "    <tr>\n",
       "      <td>nm0062195</td>\n",
       "      <td>Axel Baumann</td>\n",
       "      <td>NaN</td>\n",
       "      <td>NaN</td>\n",
       "      <td>[camera_department, cinematographer, art_depar...</td>\n",
       "      <td>[tt0114371, tt2004304, tt1618448, tt1224387]</td>\n",
       "    </tr>\n",
       "    <tr>\n",
       "      <td>nm0062798</td>\n",
       "      <td>Pete Baxter</td>\n",
       "      <td>NaN</td>\n",
       "      <td>NaN</td>\n",
       "      <td>[production_designer, art_department, set_deco...</td>\n",
       "      <td>[tt0452644, tt0452692, tt3458030, tt2178256]</td>\n",
       "    </tr>\n",
       "  </tbody>\n",
       "</table>\n",
       "</div>"
      ],
      "text/plain": [
       "                primary_name  birth_year  death_year  \\\n",
       "nconst                                                 \n",
       "nm0061671  Mary Ellen Bauder         NaN         NaN   \n",
       "nm0061865       Joseph Bauer         NaN         NaN   \n",
       "nm0062070         Bruce Baum         NaN         NaN   \n",
       "nm0062195       Axel Baumann         NaN         NaN   \n",
       "nm0062798        Pete Baxter         NaN         NaN   \n",
       "\n",
       "                                          primary_profession  \\\n",
       "nconst                                                         \n",
       "nm0061671      [miscellaneous, production_manager, producer]   \n",
       "nm0061865     [composer, music_department, sound_department]   \n",
       "nm0062070                     [miscellaneous, actor, writer]   \n",
       "nm0062195  [camera_department, cinematographer, art_depar...   \n",
       "nm0062798  [production_designer, art_department, set_deco...   \n",
       "\n",
       "                                       known_for_titles  \n",
       "nconst                                                   \n",
       "nm0061671  [tt0837562, tt2398241, tt0844471, tt0118553]  \n",
       "nm0061865  [tt0896534, tt6791238, tt0287072, tt1682940]  \n",
       "nm0062070  [tt1470654, tt0363631, tt0104030, tt0102898]  \n",
       "nm0062195  [tt0114371, tt2004304, tt1618448, tt1224387]  \n",
       "nm0062798  [tt0452644, tt0452692, tt3458030, tt2178256]  "
      ]
     },
     "execution_count": 88,
     "metadata": {},
     "output_type": "execute_result"
    }
   ],
   "source": [
    "df_repository['imdb_name_basics_gz'].head()"
   ]
  },
  {
   "cell_type": "code",
   "execution_count": null,
   "metadata": {},
   "outputs": [],
   "source": []
  }
 ],
 "metadata": {
  "kernelspec": {
   "display_name": "Python 3",
   "language": "python",
   "name": "python3"
  },
  "language_info": {
   "codemirror_mode": {
    "name": "ipython",
    "version": 3
   },
   "file_extension": ".py",
   "mimetype": "text/x-python",
   "name": "python",
   "nbconvert_exporter": "python",
   "pygments_lexer": "ipython3",
   "version": "3.7.6"
  }
 },
 "nbformat": 4,
 "nbformat_minor": 2
}
