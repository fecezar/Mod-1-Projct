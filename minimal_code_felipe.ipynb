{
 "cells": [
  {
   "cell_type": "markdown",
   "metadata": {},
   "source": [
    "### Setting up the Notebook and importing libraries, data"
   ]
  },
  {
   "cell_type": "code",
   "execution_count": 1,
   "metadata": {},
   "outputs": [],
   "source": [
    "import pandas as pd\n",
    "import seaborn as sns\n",
    "import os\n",
    "import matplotlib.pyplot as plt\n",
    "import numpy as np\n",
    "from glob import glob\n",
    "%matplotlib inline"
   ]
  },
  {
   "cell_type": "code",
   "execution_count": 2,
   "metadata": {},
   "outputs": [],
   "source": [
    "from glob import glob"
   ]
  },
  {
   "cell_type": "code",
   "execution_count": 3,
   "metadata": {},
   "outputs": [],
   "source": [
    "#loads the data into a dictionary of dataframes\n",
    "csv_files = glob(\"./zippedData/*.csv.gz\")\n",
    "csv_files_dict = {}\n",
    "for filename in csv_files:\n",
    "    filename_cleaned = os.path.basename(filename).replace(\".csv\", \"\").replace(\".\", \"_\") # cleaning the filenames\n",
    "    filename_df = pd.read_csv(filename, index_col=0)\n",
    "    csv_files_dict[filename_cleaned] = filename_df"
   ]
  },
  {
   "cell_type": "code",
   "execution_count": 4,
   "metadata": {},
   "outputs": [],
   "source": [
    "# creates a second dictionary of data frames (identical to the above)\n",
    "# this is the one to be manipulated, as csv_files_dict will be kept as the original version whenever needed\n",
    "\n",
    "\n",
    "#*************\n",
    "df_repository = {} \n",
    "for filename in csv_files:\n",
    "    filename_cleaned = os.path.basename(filename).replace(\".csv\", \"\").replace(\".\", \"_\") # cleaning the filenames    \n",
    "    exec(\"\"\"df_repository[\"\"\" + \"\"\"'\"\"\" + filename_cleaned + \"\"\"']\"\"\" + \"\"\" = csv_files_dict['\"\"\" + filename_cleaned + \"\"\"']\"\"\" )"
   ]
  },
  {
   "cell_type": "markdown",
   "metadata": {},
   "source": [
    " "
   ]
  },
  {
   "cell_type": "markdown",
   "metadata": {},
   "source": [
    "### Custom Functions"
   ]
  },
  {
   "cell_type": "code",
   "execution_count": 5,
   "metadata": {},
   "outputs": [],
   "source": [
    "# the function below cleans a data series that is populated by strings, \n",
    "# whose values actually refer to numbers\n",
    "\n",
    "\n",
    "# takes a series as an argument and returns a new series of float values\n",
    "\n",
    "def series_string_to_float(dataseries):\n",
    "    # iterates through rows of the series\n",
    "    \n",
    "    float_list = []\n",
    "    for string in dataseries:\n",
    "        # It assumes that the series is populated by financial figures such as '$100,000'\n",
    "        clean_string = string.replace('$', '') # removes '$' \n",
    "        clean_string = clean_string.replace(',', '') # removes ','\n",
    "        float_list.append(  float(clean_string) )\n",
    "    \n",
    "    float_dict = {'new_column': float_list} \n",
    "    return pd.DataFrame(float_dict)"
   ]
  },
  {
   "cell_type": "code",
   "execution_count": 6,
   "metadata": {},
   "outputs": [],
   "source": [
    "def clean_duplicates(dataframe): #returns a dataframe without duplicates\n",
    "    cleaned_filter = dataframe.duplicated()\n",
    "    index_to_drop = dataframe.loc[cleaned_filter].index\n",
    "    return dataframe.drop(index=index_to_drop)"
   ]
  },
  {
   "cell_type": "code",
   "execution_count": 7,
   "metadata": {},
   "outputs": [],
   "source": [
    "# function takes as arguments:\n",
    "    # a series containing lists of professions \n",
    "    # a profession to screen for \n",
    "    # a second profession (optional)\n",
    "    \n",
    "# iterates through series and returns 1 when profession is found, \n",
    "# or 0 if not found\n",
    "\n",
    "def is_prof(series, profession1, profession2=None):\n",
    "    \n",
    "    prof_list = []\n",
    "    \n",
    "    # iterates through series\n",
    "    for lst in series:\n",
    "        # tests for profession \n",
    "        if (profession1 in lst):\n",
    "            prof_list.append(1)\n",
    "        else: \n",
    "            # and tests for second profession (optional) \n",
    "            if (profession2) and (profession2 in lst):\n",
    "                prof_list.append(1)\n",
    "            else:\n",
    "                prof_list.append(0)\n",
    "    \n",
    "    prof_dict = {('is_' + str(profession1)): prof_list}\n",
    "    return pd.DataFrame(prof_dict)"
   ]
  },
  {
   "cell_type": "markdown",
   "metadata": {},
   "source": [
    " "
   ]
  },
  {
   "cell_type": "markdown",
   "metadata": {},
   "source": [
    "### Data Cleaning and Exploration"
   ]
  },
  {
   "cell_type": "code",
   "execution_count": 8,
   "metadata": {},
   "outputs": [],
   "source": [
    "# loop to parse the data frames df_repository \n",
    "# and returns them without duplicates\n",
    "\n",
    "# uses the customs function  clean_duplicates()  \n",
    "\n",
    "for db in df_repository.keys(): \n",
    "    df_repository[db] = clean_duplicates(df_repository[db])"
   ]
  },
  {
   "cell_type": "code",
   "execution_count": 9,
   "metadata": {},
   "outputs": [],
   "source": [
    "# cleaning data from  **df_repository['tn_movie_budgets_gz']**\n",
    "\n",
    "# cleans columns with numerical data, but stored as strings\n",
    "\n",
    "for key in df_repository['tn_movie_budgets_gz'].loc[:,\n",
    "            # columns to be cleaned                         \n",
    "            ['production_budget', 'domestic_gross', 'worldwide_gross']].keys():\n",
    "    \n",
    "    df_repository['tn_movie_budgets_gz'][key] = series_string_to_float(\n",
    "                                                df_repository['tn_movie_budgets_gz'][key])\n",
    "\n",
    "    \n",
    "# string to datetime format for the column release_date\n",
    "df_repository['tn_movie_budgets_gz'].release_date = pd.to_datetime(df_repository['tn_movie_budgets_gz'].release_date)"
   ]
  },
  {
   "cell_type": "code",
   "execution_count": 10,
   "metadata": {},
   "outputs": [],
   "source": [
    "# merging the DFs  **imdb_title_akas_gz**  and **tn_movie_budgets_gz** \n",
    "\n",
    "\n",
    "# merging on the movie name, so as to import the title_id \n",
    "# from the imdb tables to the new merged DF with financials\n",
    "df_imdb_financials = pd.merge(df_repository['imdb_title_akas_gz'].reset_index(), \n",
    "                              df_repository['tn_movie_budgets_gz'], left_on='title',right_on='movie', how='inner')\n",
    "\n",
    "\n",
    "df_imdb_financials.drop(columns=['ordering', 'movie', 'region', 'language', 'types',\n",
    "       'attributes', 'is_original_title'], inplace=True)\n",
    "\n",
    "\n",
    "#cleaning duplicates\n",
    "df_imdb_financials = pd.DataFrame(clean_duplicates(df_imdb_financials))"
   ]
  },
  {
   "cell_type": "code",
   "execution_count": 11,
   "metadata": {},
   "outputs": [
    {
     "name": "stdout",
     "output_type": "stream",
     "text": [
      "<class 'pandas.core.frame.DataFrame'>\n",
      "Int64Index: 3858 entries, 0 to 10131\n",
      "Data columns (total 6 columns):\n",
      "title_id             3858 non-null object\n",
      "title                3858 non-null object\n",
      "release_date         3858 non-null datetime64[ns]\n",
      "production_budget    3858 non-null float64\n",
      "domestic_gross       3858 non-null float64\n",
      "worldwide_gross      3858 non-null float64\n",
      "dtypes: datetime64[ns](1), float64(3), object(2)\n",
      "memory usage: 211.0+ KB\n"
     ]
    }
   ],
   "source": [
    "df_imdb_financials.info()"
   ]
  },
  {
   "cell_type": "code",
   "execution_count": 12,
   "metadata": {
    "scrolled": true
   },
   "outputs": [],
   "source": [
    "#  calculates the profits and add it as a feature to **df_imdb_financials**\n",
    "\n",
    "df_imdb_financials['total_profit'] =  df_imdb_financials.worldwide_gross - df_imdb_financials.production_budget\n",
    "\n",
    "df_imdb_financials.set_index('title_id', inplace=True)\n",
    "    "
   ]
  },
  {
   "cell_type": "code",
   "execution_count": 13,
   "metadata": {
    "scrolled": false
   },
   "outputs": [],
   "source": [
    "# data cleaning for **imdb_name_basics_gz**\n",
    "\n",
    "# splits the string values in primary_profession and known_for_titles into a list of strings\n",
    "\n",
    "df_repository['imdb_name_basics_gz']['primary_profession'] = df_repository['imdb_name_basics_gz']['primary_profession'].str.split(',')\n",
    "df_repository['imdb_name_basics_gz']['known_for_titles'] = df_repository['imdb_name_basics_gz']['known_for_titles'].str.split(',')\n"
   ]
  },
  {
   "cell_type": "code",
   "execution_count": 14,
   "metadata": {
    "scrolled": false
   },
   "outputs": [],
   "source": [
    "# data cleaning for **imdb_name_basics_gz**\n",
    "\n",
    "# deletes rows with NaN either on known_for_titles column or on primary_profession\n",
    "\n",
    "# selects index of rows to delete\n",
    "filt1 = df_repository['imdb_name_basics_gz'].known_for_titles.isna()\n",
    "filt2 = df_repository['imdb_name_basics_gz'].primary_profession.isna()\n",
    "\n",
    "# merges them into a set\n",
    "index_to_drop = set( list( df_repository['imdb_name_basics_gz'].loc[filt1].index ) \n",
    "                    + list( df_repository['imdb_name_basics_gz'].loc[filt2].index ))\n",
    "\n",
    "\n",
    "df_repository['imdb_name_basics_gz'].drop(index=index_to_drop, inplace=True)"
   ]
  },
  {
   "cell_type": "code",
   "execution_count": 15,
   "metadata": {},
   "outputs": [],
   "source": [
    "# adds features to **df_repository['imdb_name_basics_gz']** by using the custom function is_prof\n",
    "\n",
    "\n",
    "# index reset to facilitate creation of features\n",
    "df_repository['imdb_name_basics_gz'].reset_index(inplace=True) \n",
    "\n",
    "\n",
    "    # new columns that tell if the person is a:\n",
    "    \n",
    "        # an actor/actress\n",
    "actor_col = is_prof(df_repository['imdb_name_basics_gz'].primary_profession, \n",
    "                           'actor', profession2='actress')\n",
    "\n",
    "df_repository['imdb_name_basics_gz']['is_actor'] = actor_col.reset_index().is_actor\n",
    "\n",
    "\n",
    "        # a producer \n",
    "prod_col = is_prof(df_repository['imdb_name_basics_gz'].primary_profession, \n",
    "                              'producer')\n",
    "\n",
    "df_repository['imdb_name_basics_gz']['is_producer'] = prod_col.reset_index().is_producer\n",
    "\n",
    "        # a director \n",
    "dir_col = is_prof(df_repository['imdb_name_basics_gz'].primary_profession, \n",
    "                              'director')\n",
    "\n",
    "df_repository['imdb_name_basics_gz']['is_director'] = dir_col.reset_index().is_director"
   ]
  },
  {
   "cell_type": "code",
   "execution_count": 16,
   "metadata": {},
   "outputs": [],
   "source": [
    "# cleans away rows of people who are neither a director, an actor nor a producer \n",
    "\n",
    "filt = (df_repository['imdb_name_basics_gz'].is_actor \n",
    "        + df_repository['imdb_name_basics_gz'].is_director \n",
    "        + df_repository['imdb_name_basics_gz'].is_producer) == 0\n",
    "\n",
    "index_to_drop = df_repository['imdb_name_basics_gz'].loc[filt].index\n",
    "\n",
    "df_repository['imdb_name_basics_gz'].drop(\n",
    "    index=index_to_drop, inplace=True)"
   ]
  },
  {
   "cell_type": "code",
   "execution_count": 17,
   "metadata": {},
   "outputs": [],
   "source": [
    "# creates two new columns to **df_repository['imdb_name_basics_gz']** :\n",
    "    \n",
    "#     avg_grossing: will contain the average grossing of movies\n",
    "#                   the person is known for\n",
    "    \n",
    "#     total_grossing: will contain the sum of grossing of movies\n",
    "#                   the person is known for \n",
    "    \n",
    "\n",
    "# will contain values selected for new avg_grossing colum    \n",
    "avg_grossing_column = [] \n",
    "\n",
    "# will contain values selected for new avg_grossing colum\n",
    "total_grossing_column = [] \n",
    "\n",
    "\n",
    "for row in df_repository['imdb_name_basics_gz'].known_for_titles:\n",
    "    \n",
    "    # colects the numbers computed for each row \n",
    "    grossing_row = [] \n",
    "    \n",
    "    for movie in row:\n",
    "        \n",
    "        # checks if the movie being parsed is contained in the df_imdb_financials, \n",
    "        # which is where we can fetch the grossing figures\n",
    "        if movie in df_imdb_financials.index: \n",
    "            \n",
    "            # if a movie has more then one version (different relase dates, for ex),  \n",
    "            # the loop will return a data series (slice of df_imdb_financials) instead\n",
    "            # of a single value\n",
    "            if isinstance(df_imdb_financials.loc[movie], pd.DataFrame):\n",
    "                \n",
    "                # in that case, we select the last value\n",
    "                grossing = df_imdb_financials.loc[movie].iloc[-1,-1]\n",
    "            \n",
    "            # otherwise the single value found is selected\n",
    "            else:\n",
    "                grossing = df_imdb_financials.worldwide_gross.loc[movie] \n",
    "                \n",
    "            # appends the value found to \n",
    "            # grossing_row for further computation\n",
    "            grossing_row.append(grossing)\n",
    "            \n",
    "    # if after parsing the row, something is found:\n",
    "    if len(grossing_row) > 0:\n",
    "        \n",
    "        # the average is calculated and appended to avg_grossing\n",
    "        avg_grossing = sum(grossing_row)/len(grossing_row)\n",
    "        avg_grossing_column.append(avg_grossing)\n",
    "        \n",
    "         #the total is calculated and appended to total_grossing\n",
    "        total_grossing_column.append(sum(grossing_row))\n",
    "        \n",
    "    # otherwiser 0 is appended so that the final series\n",
    "    # is the correct length \n",
    "    else:\n",
    "        avg_grossing_column.append(0)\n",
    "        total_grossing_column.append(0)\n",
    "\n",
    "# dictionary with computed values\n",
    "dict_grossings = {'avg_grossing': avg_grossing_column, 'total_grossing': total_grossing_column}\n",
    "\n",
    "# new DF with computed values\n",
    "df_professionals_grossings = pd.DataFrame(dict_grossings)"
   ]
  },
  {
   "cell_type": "code",
   "execution_count": 18,
   "metadata": {},
   "outputs": [],
   "source": [
    "# adds the new columns from the newly created ***df_professionals_grossings***  \n",
    "# into  ***df_repository['imdb_name_basics_gz']***\n",
    "\n",
    "\n",
    "# resets index in order to create the new columns that matche df_professionals_grossings\n",
    "df_repository['imdb_name_basics_gz'].reset_index(inplace=True)\n",
    "df_repository['imdb_name_basics_gz'].drop(columns='index', inplace=True)\n",
    "\n",
    "#creates the new columns\n",
    "df_repository['imdb_name_basics_gz']['avg_grossing'] = df_professionals_grossings.loc[:,'avg_grossing']\n",
    "df_repository['imdb_name_basics_gz']['total_grossing'] = df_professionals_grossings.loc[:,'total_grossing']\n",
    "\n",
    "\n",
    "# additional data cleaning - drops columns **birth_year**  and  **primary_profession** \n",
    "df_repository['imdb_name_basics_gz'].drop(columns=['birth_year','primary_profession'], inplace=True)"
   ]
  },
  {
   "cell_type": "code",
   "execution_count": 19,
   "metadata": {},
   "outputs": [],
   "source": [
    "# additional cleaning - drops rows where **avg_grossing** is zero\n",
    "\n",
    "filt = df_repository['imdb_name_basics_gz'][\"avg_grossing\"] == 0\n",
    "index_to_drop = df_repository['imdb_name_basics_gz'].loc[filt].index\n",
    "\n",
    "df_repository['imdb_name_basics_gz'].drop(index=index_to_drop,inplace=True)"
   ]
  },
  {
   "cell_type": "markdown",
   "metadata": {},
   "source": [
    "### Data Visualization\n",
    "\n",
    "Plotting Directors, Actors and Producers most associated with high grossing movies"
   ]
  },
  {
   "cell_type": "code",
   "execution_count": 20,
   "metadata": {},
   "outputs": [],
   "source": [
    "# Creates subsets of **imdb_name_basics_gz** \n",
    "# for Directors, Actors and Producers\n",
    "\n",
    "filt = df_repository['imdb_name_basics_gz'].is_director == 1\n",
    "df_directors = df_repository['imdb_name_basics_gz'].loc[filt]\n",
    "\n",
    "filt1 = df_repository['imdb_name_basics_gz'].is_actor == 1\n",
    "df_actors = df_repository['imdb_name_basics_gz'].loc[filt1]\n",
    "\n",
    "filt2 = df_repository['imdb_name_basics_gz'].is_producer == 1\n",
    "df_producers = df_repository['imdb_name_basics_gz'].loc[filt2]\n"
   ]
  },
  {
   "cell_type": "code",
   "execution_count": 24,
   "metadata": {},
   "outputs": [],
   "source": [
    "# prepares the data to be plotted\n",
    "\n",
    "\n",
    "#total number of movies\n",
    "n_movies = len(df_imdb_financials)\n",
    "\n",
    "#total number of directors\n",
    "n_directors = len(df_directors)\n",
    "n_actors = len(df_actors)\n",
    "n_producers = len(df_producers)\n",
    "\n",
    "\n",
    "# DF with the average movie grossings of the top 1% , top 10%, and the bottom 99% of movies\n",
    "# from **df_imdb_financials**, which contains the financial data cross referenced with\n",
    "# information from imdb\n",
    "\n",
    "plotdata_imdb_financials = pd.DataFrame({\n",
    "    \n",
    "    'Top 1% vs Rest': [df_imdb_financials.worldwide_gross.nlargest(n=int(n_movies*0.01)).mean(),\n",
    "                        df_imdb_financials.worldwide_gross.nlargest(n=int(n_movies*0.99)).mean()],\n",
    "    \n",
    "    'Top 1% vs Top 10%' : [df_imdb_financials.worldwide_gross.nlargest(n=int(n_movies*0.01)).mean(),\n",
    "                        df_imdb_financials.worldwide_gross.nlargest(n=int(n_movies*0.1)).mean()]},\n",
    "    index = [0, 1])\n",
    "\n",
    "\n",
    "# DFs with the average movie grossings of the top 1% , top 10%, \n",
    "# and the bottom 99% of directors, actors and producers \n",
    "# from **imdb_name_basics_gz**, \n",
    "# which contains the main movies a person is known for\n",
    "\n",
    "plotdata_directors = pd.DataFrame({\n",
    "    \n",
    "    'Top 1% vs Rest': [df_directors.avg_grossing.nlargest(n=int(n_directors*0.01)).mean(),\n",
    "                  df_directors.avg_grossing.nlargest(n=int(n_directors*0.99)).mean()],\n",
    "    \n",
    "    'Top 1% vs Top 10%' : [df_directors.avg_grossing.nlargest(n=int(n_directors*0.01)).mean(),\n",
    "                  df_directors.avg_grossing.nlargest(n=int(n_directors*0.1)).mean()]},\n",
    "    \n",
    "    index = [0, 1])\n",
    "\n",
    "\n",
    "plotdata_actors = pd.DataFrame({\n",
    "    \n",
    "    'Top 1% vs Rest': [df_actors.avg_grossing.nlargest(n=int(n_actors*0.01)).mean(),\n",
    "                  df_actors.avg_grossing.nlargest(n=int(n_actors*0.99)).mean()],\n",
    "    \n",
    "    'Top 1% vs Top 10%' : [df_actors.avg_grossing.nlargest(n=int(n_actors*0.01)).mean(),\n",
    "                  df_actors.avg_grossing.nlargest(n=int(n_actors*0.1)).mean()]},\n",
    "    index = [0, 1])\n",
    "    \n",
    "plotdata_producers = pd.DataFrame({\n",
    "    \n",
    "    'Top 1% vs Rest': [df_producers.avg_grossing.nlargest(n=int(n_producers*0.01)).mean(),\n",
    "                  df_producers.avg_grossing.nlargest(n=int(n_producers*0.99)).mean()],\n",
    "    \n",
    "    'Top 1% vs Top 10%' : [df_producers.avg_grossing.nlargest(n=int(n_producers*0.01)).mean(),\n",
    "                  df_producers.avg_grossing.nlargest(n=int(n_producers*0.1)).mean()]},\n",
    "    \n",
    "    index = [0, 1])"
   ]
  },
  {
   "cell_type": "code",
   "execution_count": 27,
   "metadata": {
    "scrolled": false
   },
   "outputs": [
    {
     "data": {
      "text/plain": [
       "Text(0.5, 1.0, 'Top Grossing Producers \\nTop 1% vs Top 10%')"
      ]
     },
     "execution_count": 27,
     "metadata": {},
     "output_type": "execute_result"
    },
    {
     "data": {
      "image/png": "[encoded data removed]",
      "text/plain": [
       "<Figure size 864x1584 with 8 Axes>"
      ]
     },
     "metadata": {
      "needs_background": "light"
     },
     "output_type": "display_data"
    }
   ],
   "source": [
    "plt.figure(figsize=(12,22)).subplots_adjust( wspace=0.5, hspace=0.5)\n",
    "\n",
    "Xr = ['Top 1%', 'Rest']\n",
    "Xt = ['Top 1%', 'Top 10%']\n",
    "Y = [10, 4]\n",
    "\n",
    "ax1 = plt.subplot(421)\n",
    "ax1.bar(Xr, plotdata_imdb_financials['Top 1% vs Rest'], width = 0.5, color=['#1C5E99', '#1C9985'], )\n",
    "\n",
    "ax2 = plt.subplot(422)\n",
    "ax2.bar(Xt, plotdata_imdb_financials['Top 1% vs Top 10%'], width = 0.5, color=['#1C5E99', '#1C9985'])\n",
    "\n",
    "ax3 = plt.subplot(423)\n",
    "ax3.bar(Xr, plotdata_directors['Top 1% vs Rest'], width = 0.5, color=['#1C5E99', '#1C9985'])\n",
    "\n",
    "ax4 = plt.subplot(424)\n",
    "ax4.bar(Xt, plotdata_directors['Top 1% vs Top 10%'], width = 0.5, color=['#1C5E99', '#1C9985'])\n",
    "\n",
    "ax5 = plt.subplot(425)\n",
    "ax5.bar(Xt, plotdata_actors['Top 1% vs Top 10%'], width = 0.5, color=['#1C5E99', '#1C9985'])\n",
    "\n",
    "ax6 = plt.subplot(426)\n",
    "ax6.bar(Xt, plotdata_actors['Top 1% vs Top 10%'], width = 0.5, color=['#1C5E99', '#1C9985'])\n",
    "\n",
    "ax7 = plt.subplot(427)\n",
    "ax7.bar(Xt, plotdata_producers['Top 1% vs Top 10%'], width = 0.5, color=['#1C5E99', '#1C9985'])\n",
    "\n",
    "ax8 = plt.subplot(428)\n",
    "ax8.bar(Xt, plotdata_producers['Top 1% vs Top 10%'], width = 0.5, color=['#1C5E99', '#1C9985'])\n",
    "\n",
    "ax1.set_title(\"\"\"Top Grossing Movies \n",
    "Top 1% vs The Rest \"\"\")\n",
    "ax1.set_ylabel(\"Grossing\")\n",
    "\n",
    "ax2.set_title(\"\"\"Top Grossing Movies \n",
    "Top 1% vs Top 10%\"\"\")\n",
    "\n",
    "\n",
    "ax3.set_title(\"\"\"Top Grossing Directors \n",
    "Top 1% vs The Rest \"\"\")\n",
    "ax3.set_ylabel(\"Grossing\")\n",
    "\n",
    "ax4.set_title(\"\"\"Top Grossing Directors \n",
    "Top 1% vs Top 10%\"\"\")\n",
    "\n",
    "ax5.set_title(\"\"\"Top Grossing Actors \n",
    "Top 1% vs The Rest \"\"\")\n",
    "ax5.set_ylabel(\"Grossing\")\n",
    "\n",
    "ax6.set_title(\"\"\"Top Grossing Actors \n",
    "Top 1% vs Top 10%\"\"\")\n",
    "\n",
    "ax7.set_title(\"\"\"Top Grossing Producers \n",
    "Top 1% vs The Rest \"\"\")\n",
    "ax7.set_ylabel(\"Grossing\")\n",
    "\n",
    "ax8.set_title(\"\"\"Top Grossing Producers \n",
    "Top 1% vs Top 10%\"\"\")"
   ]
  },
  {
   "cell_type": "code",
   "execution_count": null,
   "metadata": {},
   "outputs": [],
   "source": []
  }
 ],
 "metadata": {
  "kernelspec": {
   "display_name": "Python [conda env:learn-env] *",
   "language": "python",
   "name": "conda-env-learn-env-py"
  },
  "language_info": {
   "codemirror_mode": {
    "name": "ipython",
    "version": 3
   },
   "file_extension": ".py",
   "mimetype": "text/x-python",
   "name": "python",
   "nbconvert_exporter": "python",
   "pygments_lexer": "ipython3",
   "version": "3.6.9"
  }
 },
 "nbformat": 4,
 "nbformat_minor": 2
}
