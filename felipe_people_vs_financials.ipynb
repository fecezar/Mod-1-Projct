{
 "cells": [
  {
   "cell_type": "code",
   "execution_count": 1,
   "metadata": {},
   "outputs": [],
   "source": [
    "import pandas as pd\n",
    "import os\n",
    "import matplotlib.pyplot as plt\n",
    "from sklearn.linear_model import LinearRegression\n",
    "import numpy as np\n",
    "%matplotlib inline"
   ]
  },
  {
   "cell_type": "code",
   "execution_count": 2,
   "metadata": {},
   "outputs": [],
   "source": [
    "from glob import glob"
   ]
  },
  {
   "cell_type": "code",
   "execution_count": 3,
   "metadata": {},
   "outputs": [],
   "source": [
    "#loads the data into a dictionary of dataframes\n",
    "csv_files = glob(\"./zippedData/*.csv.gz\")\n",
    "csv_files_dict = {}\n",
    "for filename in csv_files:\n",
    "    filename_cleaned = os.path.basename(filename).replace(\".csv\", \"\").replace(\".\", \"_\") # cleaning the filenames\n",
    "    filename_df = pd.read_csv(filename, index_col=0)\n",
    "    csv_files_dict[filename_cleaned] = filename_df"
   ]
  },
  {
   "cell_type": "markdown",
   "metadata": {},
   "source": [
    "#### Cleaning and Linking for the exploration of our questions\n",
    "\n",
    "Since we will be working with Pandas we need to organize our DFs. Let's start by renaming all of them and adding them to a new dictionary. \n",
    "\n",
    "By creating a new dictionary of DFs, we can manipulate the data without messing up the originals in csv_files_dict. "
   ]
  },
  {
   "cell_type": "code",
   "execution_count": 4,
   "metadata": {},
   "outputs": [],
   "source": [
    "# by creating a dictionary, we can manipulate the data without messing up the originals in csv_files_dict\n",
    "df_repository = {} \n",
    "for filename in csv_files:\n",
    "    filename_cleaned = os.path.basename(filename).replace(\".csv\", \"\").replace(\".\", \"_\") # cleaning the filenames    \n",
    "    exec(\"\"\"df_repository[\"\"\" + \"\"\"'\"\"\" + filename_cleaned + \"\"\"']\"\"\" + \"\"\" = csv_files_dict['\"\"\" + filename_cleaned + \"\"\"']\"\"\" )"
   ]
  },
  {
   "cell_type": "markdown",
   "metadata": {},
   "source": [
    "##### Below are a few functions that we will use later on\n"
   ]
  },
  {
   "cell_type": "code",
   "execution_count": 5,
   "metadata": {},
   "outputs": [],
   "source": [
    "def string_to_float(string):\n",
    "    if string == None:\n",
    "        new_string = 0\n",
    "    else:\n",
    "        if (type(string) != int) and (type(string) != float):\n",
    "            new_string = string.replace('$', '')\n",
    "            new_string = new_string.replace(',', '')\n",
    "        else:\n",
    "            new_string = string\n",
    "    return float(new_string)\n",
    "\n",
    "\n",
    "def series_string_to_float(dataseries):\n",
    "    new_dataseries = dataseries.apply(string_to_float)\n",
    "    return new_dataseries\n"
   ]
  },
  {
   "cell_type": "code",
   "execution_count": 6,
   "metadata": {},
   "outputs": [],
   "source": [
    "def clean_duplicates(dataframe): #returns a dataframe without duplicates\n",
    "    cleaned_filter = dataframe.duplicated()\n",
    "    index_to_drop = dataframe.loc[cleaned_filter].index\n",
    "    return dataframe.drop(index=index_to_drop)"
   ]
  },
  {
   "cell_type": "code",
   "execution_count": 7,
   "metadata": {},
   "outputs": [],
   "source": [
    "# returns a Data Frame with 0 or 1, depending on the professions listed for each row (actor/actress)\n",
    "\n",
    "def is_actor(series):\n",
    "    \n",
    "    actor_list = []\n",
    "    \n",
    "    for lst in series:        \n",
    "        if ('actor' in lst) or ('actress' in lst):\n",
    "            actor_list.append(1)\n",
    "        else:\n",
    "            actor_list.append(0)\n",
    "    \n",
    "    actor_dict = {'is_actor': actor_list}\n",
    "    return pd.DataFrame(actor_dict)\n",
    "            \n",
    "            "
   ]
  },
  {
   "cell_type": "code",
   "execution_count": 8,
   "metadata": {},
   "outputs": [],
   "source": [
    "\n",
    "def is_prof(series, profession1, profession2=None):\n",
    "    \n",
    "    prof_list = []\n",
    "    \n",
    "    for lst in series:        \n",
    "        if (profession1 in lst):\n",
    "            prof_list.append(1)\n",
    "        else:\n",
    "            if (profession2) and (profession2 in lst):\n",
    "                prof_list.append(1)\n",
    "            else:\n",
    "                prof_list.append(0)\n",
    "    \n",
    "    prof_dict = {('is_' + str(profession1)): prof_list}\n",
    "    return pd.DataFrame(prof_dict)\n",
    "            "
   ]
  },
  {
   "cell_type": "code",
   "execution_count": 9,
   "metadata": {},
   "outputs": [],
   "source": [
    "def split_series(series, split_characters):\n",
    "    broken_series = series.str.split(split_characters)\n",
    "    new_list1 = []\n",
    "    new_list2 = []\n",
    "    new_list3 = []\n",
    "    \n",
    "    for lst in broken_series:\n",
    "        if type(lst) == list:\n",
    "            new_list1.append(lst[0])\n",
    "            \n",
    "            if len(lst) > 1:\n",
    "                new_list2.append(lst[1])\n",
    "                \n",
    "                if len(lst) > 2:\n",
    "                    new_list3.append(lst[2])\n",
    "                else:\n",
    "                    new_list3.append('N/A')\n",
    "            \n",
    "            \n",
    "            else: \n",
    "                new_list2.append('N/A')\n",
    "                new_list3.append('N/A')\n",
    "            \n",
    "        else:\n",
    "            new_list1.append('N/A')\n",
    "            new_list2.append('N/A')\n",
    "            new_list3.append('N/A')\n",
    "            \n",
    "    new_series_dict = {'col_1': new_list1, 'col_2': new_list2, 'col_3': new_list3 }\n",
    "    return pd.DataFrame(new_series_dict)"
   ]
  },
  {
   "cell_type": "markdown",
   "metadata": {},
   "source": [
    "#### First step is to clean the data. \n",
    "\n",
    "An easy way to start is to remove all duplicates\n"
   ]
  },
  {
   "cell_type": "code",
   "execution_count": 10,
   "metadata": {},
   "outputs": [],
   "source": [
    "for db in df_repository.keys(): #loop to parse dataframes through the clean_duplicates() function we wrote above\n",
    "    df_repository[db] = clean_duplicates(df_repository[db])"
   ]
  },
  {
   "cell_type": "code",
   "execution_count": 11,
   "metadata": {},
   "outputs": [
    {
     "name": "stdout",
     "output_type": "stream",
     "text": [
      "bom_movie_gross_gz contains  0  duplicates\n",
      "imdb_name_basics_gz contains  0  duplicates\n",
      "imdb_title_akas_gz contains  0  duplicates\n",
      "imdb_title_basics_gz contains  0  duplicates\n",
      "imdb_title_crew_gz contains  0  duplicates\n",
      "imdb_title_principals_gz contains  0  duplicates\n",
      "imdb_title_ratings_gz contains  0  duplicates\n",
      "tmdb_movies_gz contains  0  duplicates\n",
      "tn_movie_budgets_gz contains  0  duplicates\n"
     ]
    }
   ],
   "source": [
    "for db in df_repository.keys():\n",
    "    print(db, 'contains ', df_repository[db].duplicated().sum(), ' duplicates') #checking if it worked"
   ]
  },
  {
   "cell_type": "markdown",
   "metadata": {},
   "source": [
    "#### Now we move on to the tables we are interested in\n",
    "\n",
    "We want to explore the relationships between  genre, actors, directors and financial results.\n",
    "\n",
    " "
   ]
  },
  {
   "cell_type": "markdown",
   "metadata": {},
   "source": [
    "#### The 'tn_movie_budgets' is a good place to start\n",
    "\n",
    "It shows the financial results for a given movie\n",
    "\n",
    "\n",
    "     "
   ]
  },
  {
   "cell_type": "code",
   "execution_count": 12,
   "metadata": {},
   "outputs": [
    {
     "data": {
      "text/html": [
       "<div>\n",
       "<style scoped>\n",
       "    .dataframe tbody tr th:only-of-type {\n",
       "        vertical-align: middle;\n",
       "    }\n",
       "\n",
       "    .dataframe tbody tr th {\n",
       "        vertical-align: top;\n",
       "    }\n",
       "\n",
       "    .dataframe thead th {\n",
       "        text-align: right;\n",
       "    }\n",
       "</style>\n",
       "<table border=\"1\" class=\"dataframe\">\n",
       "  <thead>\n",
       "    <tr style=\"text-align: right;\">\n",
       "      <th></th>\n",
       "      <th>release_date</th>\n",
       "      <th>movie</th>\n",
       "      <th>production_budget</th>\n",
       "      <th>domestic_gross</th>\n",
       "      <th>worldwide_gross</th>\n",
       "    </tr>\n",
       "    <tr>\n",
       "      <th>id</th>\n",
       "      <th></th>\n",
       "      <th></th>\n",
       "      <th></th>\n",
       "      <th></th>\n",
       "      <th></th>\n",
       "    </tr>\n",
       "  </thead>\n",
       "  <tbody>\n",
       "    <tr>\n",
       "      <td>1</td>\n",
       "      <td>Dec 18, 2009</td>\n",
       "      <td>Avatar</td>\n",
       "      <td>$425,000,000</td>\n",
       "      <td>$760,507,625</td>\n",
       "      <td>$2,776,345,279</td>\n",
       "    </tr>\n",
       "    <tr>\n",
       "      <td>2</td>\n",
       "      <td>May 20, 2011</td>\n",
       "      <td>Pirates of the Caribbean: On Stranger Tides</td>\n",
       "      <td>$410,600,000</td>\n",
       "      <td>$241,063,875</td>\n",
       "      <td>$1,045,663,875</td>\n",
       "    </tr>\n",
       "    <tr>\n",
       "      <td>3</td>\n",
       "      <td>Jun 7, 2019</td>\n",
       "      <td>Dark Phoenix</td>\n",
       "      <td>$350,000,000</td>\n",
       "      <td>$42,762,350</td>\n",
       "      <td>$149,762,350</td>\n",
       "    </tr>\n",
       "    <tr>\n",
       "      <td>4</td>\n",
       "      <td>May 1, 2015</td>\n",
       "      <td>Avengers: Age of Ultron</td>\n",
       "      <td>$330,600,000</td>\n",
       "      <td>$459,005,868</td>\n",
       "      <td>$1,403,013,963</td>\n",
       "    </tr>\n",
       "    <tr>\n",
       "      <td>5</td>\n",
       "      <td>Dec 15, 2017</td>\n",
       "      <td>Star Wars Ep. VIII: The Last Jedi</td>\n",
       "      <td>$317,000,000</td>\n",
       "      <td>$620,181,382</td>\n",
       "      <td>$1,316,721,747</td>\n",
       "    </tr>\n",
       "  </tbody>\n",
       "</table>\n",
       "</div>"
      ],
      "text/plain": [
       "    release_date                                        movie  \\\n",
       "id                                                              \n",
       "1   Dec 18, 2009                                       Avatar   \n",
       "2   May 20, 2011  Pirates of the Caribbean: On Stranger Tides   \n",
       "3    Jun 7, 2019                                 Dark Phoenix   \n",
       "4    May 1, 2015                      Avengers: Age of Ultron   \n",
       "5   Dec 15, 2017            Star Wars Ep. VIII: The Last Jedi   \n",
       "\n",
       "   production_budget domestic_gross worldwide_gross  \n",
       "id                                                   \n",
       "1       $425,000,000   $760,507,625  $2,776,345,279  \n",
       "2       $410,600,000   $241,063,875  $1,045,663,875  \n",
       "3       $350,000,000    $42,762,350    $149,762,350  \n",
       "4       $330,600,000   $459,005,868  $1,403,013,963  \n",
       "5       $317,000,000   $620,181,382  $1,316,721,747  "
      ]
     },
     "execution_count": 12,
     "metadata": {},
     "output_type": "execute_result"
    }
   ],
   "source": [
    "df_repository['tn_movie_budgets_gz'].head()"
   ]
  },
  {
   "cell_type": "code",
   "execution_count": 13,
   "metadata": {},
   "outputs": [],
   "source": [
    "#cleaning data \n",
    "\n",
    "# from string to float (tn_movie_budgets_gz) for relevant columns\n",
    "df_repository['tn_movie_budgets_gz'].production_budget = series_string_to_float(df_repository['tn_movie_budgets_gz'].production_budget)\n",
    "df_repository['tn_movie_budgets_gz'].domestic_gross = series_string_to_float(df_repository['tn_movie_budgets_gz'].domestic_gross)\n",
    "df_repository['tn_movie_budgets_gz'].worldwide_gross = series_string_to_float(df_repository['tn_movie_budgets_gz'].worldwide_gross)\n",
    "\n",
    "# string to datetime format\n",
    "df_repository['tn_movie_budgets_gz'].release_date = pd.to_datetime(df_repository['tn_movie_budgets_gz'].release_date)\n"
   ]
  },
  {
   "cell_type": "markdown",
   "metadata": {},
   "source": [
    "#### We cleaned the tn_movie_budgets_gz database\n",
    "\n",
    "The next step is to connect this data to the other parameters we want to investigate (ex: actors of a movie)"
   ]
  },
  {
   "cell_type": "markdown",
   "metadata": {},
   "source": [
    "##### imdb_title_akas_gz might be helpful, \n",
    "It contains several title versions and links them to a specific identifier ('title_id'), which will be useful when merging data from imdb"
   ]
  },
  {
   "cell_type": "code",
   "execution_count": 14,
   "metadata": {},
   "outputs": [
    {
     "name": "stderr",
     "output_type": "stream",
     "text": [
      "C:\\Users\\felip\\anaconda3\\envs\\learn-env\\lib\\site-packages\\pandas\\core\\frame.py:4223: SettingWithCopyWarning: \n",
      "A value is trying to be set on a copy of a slice from a DataFrame\n",
      "\n",
      "See the caveats in the documentation: http://pandas.pydata.org/pandas-docs/stable/user_guide/indexing.html#returning-a-view-versus-a-copy\n",
      "  return super().rename(**kwargs)\n"
     ]
    }
   ],
   "source": [
    "df_repository['imdb_title_akas_gz'].rename(columns={'title' : 'movie'}, inplace=True)"
   ]
  },
  {
   "cell_type": "code",
   "execution_count": 15,
   "metadata": {},
   "outputs": [],
   "source": [
    "# merging the DFs\n",
    "\n",
    "df_title_akas_tn_movie_budgets_gz = pd.merge(df_repository['imdb_title_akas_gz'].reset_index(), \n",
    "                              df_repository['tn_movie_budgets_gz'], on='movie', how='inner')"
   ]
  },
  {
   "cell_type": "code",
   "execution_count": 16,
   "metadata": {},
   "outputs": [
    {
     "name": "stderr",
     "output_type": "stream",
     "text": [
      "C:\\Users\\felip\\anaconda3\\envs\\learn-env\\lib\\site-packages\\pandas\\core\\frame.py:4102: SettingWithCopyWarning: \n",
      "A value is trying to be set on a copy of a slice from a DataFrame\n",
      "\n",
      "See the caveats in the documentation: http://pandas.pydata.org/pandas-docs/stable/user_guide/indexing.html#returning-a-view-versus-a-copy\n",
      "  errors=errors,\n"
     ]
    }
   ],
   "source": [
    "# selecting columns and assining it to a new variable\n",
    "\n",
    "df_imdb_financials = df_title_akas_tn_movie_budgets_gz[['title_id','release_date', 'production_budget', 'domestic_gross', 'worldwide_gross']]\n",
    "\n",
    "# cleaning duplicates\n",
    "filt = df_imdb_financials.duplicated()\n",
    "index_to_drop = df_imdb_financials.loc[filt].index\n",
    "df_imdb_financials.drop(index=index_to_drop, inplace=True)"
   ]
  },
  {
   "cell_type": "code",
   "execution_count": 17,
   "metadata": {
    "scrolled": false
   },
   "outputs": [
    {
     "data": {
      "text/html": [
       "<div>\n",
       "<style scoped>\n",
       "    .dataframe tbody tr th:only-of-type {\n",
       "        vertical-align: middle;\n",
       "    }\n",
       "\n",
       "    .dataframe tbody tr th {\n",
       "        vertical-align: top;\n",
       "    }\n",
       "\n",
       "    .dataframe thead th {\n",
       "        text-align: right;\n",
       "    }\n",
       "</style>\n",
       "<table border=\"1\" class=\"dataframe\">\n",
       "  <thead>\n",
       "    <tr style=\"text-align: right;\">\n",
       "      <th></th>\n",
       "      <th>title_id</th>\n",
       "      <th>release_date</th>\n",
       "      <th>production_budget</th>\n",
       "      <th>domestic_gross</th>\n",
       "      <th>worldwide_gross</th>\n",
       "    </tr>\n",
       "  </thead>\n",
       "  <tbody>\n",
       "    <tr>\n",
       "      <td>0</td>\n",
       "      <td>tt0369610</td>\n",
       "      <td>2015-06-12</td>\n",
       "      <td>215000000.0</td>\n",
       "      <td>652270625.0</td>\n",
       "      <td>1.648855e+09</td>\n",
       "    </tr>\n",
       "    <tr>\n",
       "      <td>14</td>\n",
       "      <td>tt0401729</td>\n",
       "      <td>2012-03-09</td>\n",
       "      <td>275000000.0</td>\n",
       "      <td>73058679.0</td>\n",
       "      <td>2.827781e+08</td>\n",
       "    </tr>\n",
       "    <tr>\n",
       "      <td>27</td>\n",
       "      <td>tt1014759</td>\n",
       "      <td>2010-03-05</td>\n",
       "      <td>200000000.0</td>\n",
       "      <td>334191110.0</td>\n",
       "      <td>1.025491e+09</td>\n",
       "    </tr>\n",
       "    <tr>\n",
       "      <td>28</td>\n",
       "      <td>tt1014759</td>\n",
       "      <td>1951-07-28</td>\n",
       "      <td>3000000.0</td>\n",
       "      <td>0.0</td>\n",
       "      <td>0.000000e+00</td>\n",
       "    </tr>\n",
       "    <tr>\n",
       "      <td>33</td>\n",
       "      <td>tt1926979</td>\n",
       "      <td>2010-03-05</td>\n",
       "      <td>200000000.0</td>\n",
       "      <td>334191110.0</td>\n",
       "      <td>1.025491e+09</td>\n",
       "    </tr>\n",
       "  </tbody>\n",
       "</table>\n",
       "</div>"
      ],
      "text/plain": [
       "     title_id release_date  production_budget  domestic_gross  worldwide_gross\n",
       "0   tt0369610   2015-06-12        215000000.0     652270625.0     1.648855e+09\n",
       "14  tt0401729   2012-03-09        275000000.0      73058679.0     2.827781e+08\n",
       "27  tt1014759   2010-03-05        200000000.0     334191110.0     1.025491e+09\n",
       "28  tt1014759   1951-07-28          3000000.0             0.0     0.000000e+00\n",
       "33  tt1926979   2010-03-05        200000000.0     334191110.0     1.025491e+09"
      ]
     },
     "execution_count": 17,
     "metadata": {},
     "output_type": "execute_result"
    }
   ],
   "source": [
    "df_imdb_financials.head()"
   ]
  },
  {
   "cell_type": "code",
   "execution_count": 18,
   "metadata": {
    "scrolled": true
   },
   "outputs": [
    {
     "name": "stderr",
     "output_type": "stream",
     "text": [
      "C:\\Users\\felip\\anaconda3\\envs\\learn-env\\lib\\site-packages\\ipykernel_launcher.py:3: SettingWithCopyWarning: \n",
      "A value is trying to be set on a copy of a slice from a DataFrame.\n",
      "Try using .loc[row_indexer,col_indexer] = value instead\n",
      "\n",
      "See the caveats in the documentation: http://pandas.pydata.org/pandas-docs/stable/user_guide/indexing.html#returning-a-view-versus-a-copy\n",
      "  This is separate from the ipykernel package so we can avoid doing imports until\n",
      "C:\\Users\\felip\\anaconda3\\envs\\learn-env\\lib\\site-packages\\ipykernel_launcher.py:8: SettingWithCopyWarning: \n",
      "A value is trying to be set on a copy of a slice from a DataFrame.\n",
      "Try using .loc[row_indexer,col_indexer] = value instead\n",
      "\n",
      "See the caveats in the documentation: http://pandas.pydata.org/pandas-docs/stable/user_guide/indexing.html#returning-a-view-versus-a-copy\n",
      "  \n",
      "C:\\Users\\felip\\anaconda3\\envs\\learn-env\\lib\\site-packages\\pandas\\core\\indexing.py:205: SettingWithCopyWarning: \n",
      "A value is trying to be set on a copy of a slice from a DataFrame\n",
      "\n",
      "See the caveats in the documentation: http://pandas.pydata.org/pandas-docs/stable/user_guide/indexing.html#returning-a-view-versus-a-copy\n",
      "  self._setitem_with_indexer(indexer, value)\n",
      "C:\\Users\\felip\\anaconda3\\envs\\learn-env\\lib\\site-packages\\ipykernel_launcher.py:12: SettingWithCopyWarning: \n",
      "A value is trying to be set on a copy of a slice from a DataFrame\n",
      "\n",
      "See the caveats in the documentation: http://pandas.pydata.org/pandas-docs/stable/user_guide/indexing.html#returning-a-view-versus-a-copy\n",
      "  if sys.path[0] == '':\n"
     ]
    }
   ],
   "source": [
    "#  let's calculate the profits and add it as a feature\n",
    "\n",
    "df_imdb_financials['total_profit'] = df_imdb_financials.worldwide_gross - df_imdb_financials.production_budget\n",
    "df_imdb_financials.set_index('title_id', inplace=True)\n",
    "\n",
    "#  and the profit margin\n",
    "\n",
    "df_imdb_financials['profit_margin'] = (df_imdb_financials['total_profit']/df_imdb_financials.worldwide_gross)\n",
    "\n",
    "filt = (df_imdb_financials.worldwide_gross == 0)\n",
    "index_for_change = filt.index\n",
    "df_imdb_financials['profit_margin'].loc[filt] = 0"
   ]
  },
  {
   "cell_type": "markdown",
   "metadata": {},
   "source": [
    "#### Here we have a dataframe with title_id (linkable with IMDB data) and financial results\n",
    "\n",
    "It should be easy to explore imdb data with a financial perspective.\n",
    "\n"
   ]
  },
  {
   "cell_type": "code",
   "execution_count": 19,
   "metadata": {},
   "outputs": [
    {
     "data": {
      "text/html": [
       "<div>\n",
       "<style scoped>\n",
       "    .dataframe tbody tr th:only-of-type {\n",
       "        vertical-align: middle;\n",
       "    }\n",
       "\n",
       "    .dataframe tbody tr th {\n",
       "        vertical-align: top;\n",
       "    }\n",
       "\n",
       "    .dataframe thead th {\n",
       "        text-align: right;\n",
       "    }\n",
       "</style>\n",
       "<table border=\"1\" class=\"dataframe\">\n",
       "  <thead>\n",
       "    <tr style=\"text-align: right;\">\n",
       "      <th></th>\n",
       "      <th>release_date</th>\n",
       "      <th>production_budget</th>\n",
       "      <th>domestic_gross</th>\n",
       "      <th>worldwide_gross</th>\n",
       "      <th>total_profit</th>\n",
       "      <th>profit_margin</th>\n",
       "    </tr>\n",
       "    <tr>\n",
       "      <th>title_id</th>\n",
       "      <th></th>\n",
       "      <th></th>\n",
       "      <th></th>\n",
       "      <th></th>\n",
       "      <th></th>\n",
       "      <th></th>\n",
       "    </tr>\n",
       "  </thead>\n",
       "  <tbody>\n",
       "    <tr>\n",
       "      <td>tt0369610</td>\n",
       "      <td>2015-06-12</td>\n",
       "      <td>215000000.0</td>\n",
       "      <td>652270625.0</td>\n",
       "      <td>1.648855e+09</td>\n",
       "      <td>1.433855e+09</td>\n",
       "      <td>0.869606</td>\n",
       "    </tr>\n",
       "    <tr>\n",
       "      <td>tt0401729</td>\n",
       "      <td>2012-03-09</td>\n",
       "      <td>275000000.0</td>\n",
       "      <td>73058679.0</td>\n",
       "      <td>2.827781e+08</td>\n",
       "      <td>7.778100e+06</td>\n",
       "      <td>0.027506</td>\n",
       "    </tr>\n",
       "    <tr>\n",
       "      <td>tt1014759</td>\n",
       "      <td>2010-03-05</td>\n",
       "      <td>200000000.0</td>\n",
       "      <td>334191110.0</td>\n",
       "      <td>1.025491e+09</td>\n",
       "      <td>8.254911e+08</td>\n",
       "      <td>0.804971</td>\n",
       "    </tr>\n",
       "    <tr>\n",
       "      <td>tt1014759</td>\n",
       "      <td>1951-07-28</td>\n",
       "      <td>3000000.0</td>\n",
       "      <td>0.0</td>\n",
       "      <td>0.000000e+00</td>\n",
       "      <td>-3.000000e+06</td>\n",
       "      <td>0.000000</td>\n",
       "    </tr>\n",
       "    <tr>\n",
       "      <td>tt1926979</td>\n",
       "      <td>2010-03-05</td>\n",
       "      <td>200000000.0</td>\n",
       "      <td>334191110.0</td>\n",
       "      <td>1.025491e+09</td>\n",
       "      <td>8.254911e+08</td>\n",
       "      <td>0.804971</td>\n",
       "    </tr>\n",
       "  </tbody>\n",
       "</table>\n",
       "</div>"
      ],
      "text/plain": [
       "          release_date  production_budget  domestic_gross  worldwide_gross  \\\n",
       "title_id                                                                     \n",
       "tt0369610   2015-06-12        215000000.0     652270625.0     1.648855e+09   \n",
       "tt0401729   2012-03-09        275000000.0      73058679.0     2.827781e+08   \n",
       "tt1014759   2010-03-05        200000000.0     334191110.0     1.025491e+09   \n",
       "tt1014759   1951-07-28          3000000.0             0.0     0.000000e+00   \n",
       "tt1926979   2010-03-05        200000000.0     334191110.0     1.025491e+09   \n",
       "\n",
       "           total_profit  profit_margin  \n",
       "title_id                                \n",
       "tt0369610  1.433855e+09       0.869606  \n",
       "tt0401729  7.778100e+06       0.027506  \n",
       "tt1014759  8.254911e+08       0.804971  \n",
       "tt1014759 -3.000000e+06       0.000000  \n",
       "tt1926979  8.254911e+08       0.804971  "
      ]
     },
     "execution_count": 19,
     "metadata": {},
     "output_type": "execute_result"
    }
   ],
   "source": [
    "df_imdb_financials.head()"
   ]
  },
  {
   "cell_type": "markdown",
   "metadata": {},
   "source": [
    "We can now move on to exploring imdb_name_basics_gz\n"
   ]
  },
  {
   "cell_type": "markdown",
   "metadata": {},
   "source": [
    "\n"
   ]
  },
  {
   "cell_type": "code",
   "execution_count": 20,
   "metadata": {},
   "outputs": [
    {
     "data": {
      "text/html": [
       "<div>\n",
       "<style scoped>\n",
       "    .dataframe tbody tr th:only-of-type {\n",
       "        vertical-align: middle;\n",
       "    }\n",
       "\n",
       "    .dataframe tbody tr th {\n",
       "        vertical-align: top;\n",
       "    }\n",
       "\n",
       "    .dataframe thead th {\n",
       "        text-align: right;\n",
       "    }\n",
       "</style>\n",
       "<table border=\"1\" class=\"dataframe\">\n",
       "  <thead>\n",
       "    <tr style=\"text-align: right;\">\n",
       "      <th></th>\n",
       "      <th>primary_name</th>\n",
       "      <th>birth_year</th>\n",
       "      <th>death_year</th>\n",
       "      <th>primary_profession</th>\n",
       "      <th>known_for_titles</th>\n",
       "    </tr>\n",
       "    <tr>\n",
       "      <th>nconst</th>\n",
       "      <th></th>\n",
       "      <th></th>\n",
       "      <th></th>\n",
       "      <th></th>\n",
       "      <th></th>\n",
       "    </tr>\n",
       "  </thead>\n",
       "  <tbody>\n",
       "    <tr>\n",
       "      <td>nm0061671</td>\n",
       "      <td>Mary Ellen Bauder</td>\n",
       "      <td>NaN</td>\n",
       "      <td>NaN</td>\n",
       "      <td>miscellaneous,production_manager,producer</td>\n",
       "      <td>tt0837562,tt2398241,tt0844471,tt0118553</td>\n",
       "    </tr>\n",
       "    <tr>\n",
       "      <td>nm0061865</td>\n",
       "      <td>Joseph Bauer</td>\n",
       "      <td>NaN</td>\n",
       "      <td>NaN</td>\n",
       "      <td>composer,music_department,sound_department</td>\n",
       "      <td>tt0896534,tt6791238,tt0287072,tt1682940</td>\n",
       "    </tr>\n",
       "    <tr>\n",
       "      <td>nm0062070</td>\n",
       "      <td>Bruce Baum</td>\n",
       "      <td>NaN</td>\n",
       "      <td>NaN</td>\n",
       "      <td>miscellaneous,actor,writer</td>\n",
       "      <td>tt1470654,tt0363631,tt0104030,tt0102898</td>\n",
       "    </tr>\n",
       "    <tr>\n",
       "      <td>nm0062195</td>\n",
       "      <td>Axel Baumann</td>\n",
       "      <td>NaN</td>\n",
       "      <td>NaN</td>\n",
       "      <td>camera_department,cinematographer,art_department</td>\n",
       "      <td>tt0114371,tt2004304,tt1618448,tt1224387</td>\n",
       "    </tr>\n",
       "    <tr>\n",
       "      <td>nm0062798</td>\n",
       "      <td>Pete Baxter</td>\n",
       "      <td>NaN</td>\n",
       "      <td>NaN</td>\n",
       "      <td>production_designer,art_department,set_decorator</td>\n",
       "      <td>tt0452644,tt0452692,tt3458030,tt2178256</td>\n",
       "    </tr>\n",
       "  </tbody>\n",
       "</table>\n",
       "</div>"
      ],
      "text/plain": [
       "                primary_name  birth_year  death_year  \\\n",
       "nconst                                                 \n",
       "nm0061671  Mary Ellen Bauder         NaN         NaN   \n",
       "nm0061865       Joseph Bauer         NaN         NaN   \n",
       "nm0062070         Bruce Baum         NaN         NaN   \n",
       "nm0062195       Axel Baumann         NaN         NaN   \n",
       "nm0062798        Pete Baxter         NaN         NaN   \n",
       "\n",
       "                                         primary_profession  \\\n",
       "nconst                                                        \n",
       "nm0061671         miscellaneous,production_manager,producer   \n",
       "nm0061865        composer,music_department,sound_department   \n",
       "nm0062070                        miscellaneous,actor,writer   \n",
       "nm0062195  camera_department,cinematographer,art_department   \n",
       "nm0062798  production_designer,art_department,set_decorator   \n",
       "\n",
       "                                  known_for_titles  \n",
       "nconst                                              \n",
       "nm0061671  tt0837562,tt2398241,tt0844471,tt0118553  \n",
       "nm0061865  tt0896534,tt6791238,tt0287072,tt1682940  \n",
       "nm0062070  tt1470654,tt0363631,tt0104030,tt0102898  \n",
       "nm0062195  tt0114371,tt2004304,tt1618448,tt1224387  \n",
       "nm0062798  tt0452644,tt0452692,tt3458030,tt2178256  "
      ]
     },
     "execution_count": 20,
     "metadata": {},
     "output_type": "execute_result"
    }
   ],
   "source": [
    "df_repository['imdb_name_basics_gz'].head()"
   ]
  },
  {
   "cell_type": "code",
   "execution_count": 21,
   "metadata": {
    "scrolled": false
   },
   "outputs": [
    {
     "data": {
      "text/html": [
       "<div>\n",
       "<style scoped>\n",
       "    .dataframe tbody tr th:only-of-type {\n",
       "        vertical-align: middle;\n",
       "    }\n",
       "\n",
       "    .dataframe tbody tr th {\n",
       "        vertical-align: top;\n",
       "    }\n",
       "\n",
       "    .dataframe thead th {\n",
       "        text-align: right;\n",
       "    }\n",
       "</style>\n",
       "<table border=\"1\" class=\"dataframe\">\n",
       "  <thead>\n",
       "    <tr style=\"text-align: right;\">\n",
       "      <th></th>\n",
       "      <th>primary_name</th>\n",
       "      <th>birth_year</th>\n",
       "      <th>death_year</th>\n",
       "      <th>primary_profession</th>\n",
       "      <th>known_for_titles</th>\n",
       "    </tr>\n",
       "    <tr>\n",
       "      <th>nconst</th>\n",
       "      <th></th>\n",
       "      <th></th>\n",
       "      <th></th>\n",
       "      <th></th>\n",
       "      <th></th>\n",
       "    </tr>\n",
       "  </thead>\n",
       "  <tbody>\n",
       "    <tr>\n",
       "      <td>nm0061671</td>\n",
       "      <td>Mary Ellen Bauder</td>\n",
       "      <td>NaN</td>\n",
       "      <td>NaN</td>\n",
       "      <td>[miscellaneous, production_manager, producer]</td>\n",
       "      <td>[tt0837562, tt2398241, tt0844471, tt0118553]</td>\n",
       "    </tr>\n",
       "    <tr>\n",
       "      <td>nm0061865</td>\n",
       "      <td>Joseph Bauer</td>\n",
       "      <td>NaN</td>\n",
       "      <td>NaN</td>\n",
       "      <td>[composer, music_department, sound_department]</td>\n",
       "      <td>[tt0896534, tt6791238, tt0287072, tt1682940]</td>\n",
       "    </tr>\n",
       "    <tr>\n",
       "      <td>nm0062070</td>\n",
       "      <td>Bruce Baum</td>\n",
       "      <td>NaN</td>\n",
       "      <td>NaN</td>\n",
       "      <td>[miscellaneous, actor, writer]</td>\n",
       "      <td>[tt1470654, tt0363631, tt0104030, tt0102898]</td>\n",
       "    </tr>\n",
       "    <tr>\n",
       "      <td>nm0062195</td>\n",
       "      <td>Axel Baumann</td>\n",
       "      <td>NaN</td>\n",
       "      <td>NaN</td>\n",
       "      <td>[camera_department, cinematographer, art_depar...</td>\n",
       "      <td>[tt0114371, tt2004304, tt1618448, tt1224387]</td>\n",
       "    </tr>\n",
       "    <tr>\n",
       "      <td>nm0062798</td>\n",
       "      <td>Pete Baxter</td>\n",
       "      <td>NaN</td>\n",
       "      <td>NaN</td>\n",
       "      <td>[production_designer, art_department, set_deco...</td>\n",
       "      <td>[tt0452644, tt0452692, tt3458030, tt2178256]</td>\n",
       "    </tr>\n",
       "  </tbody>\n",
       "</table>\n",
       "</div>"
      ],
      "text/plain": [
       "                primary_name  birth_year  death_year  \\\n",
       "nconst                                                 \n",
       "nm0061671  Mary Ellen Bauder         NaN         NaN   \n",
       "nm0061865       Joseph Bauer         NaN         NaN   \n",
       "nm0062070         Bruce Baum         NaN         NaN   \n",
       "nm0062195       Axel Baumann         NaN         NaN   \n",
       "nm0062798        Pete Baxter         NaN         NaN   \n",
       "\n",
       "                                          primary_profession  \\\n",
       "nconst                                                         \n",
       "nm0061671      [miscellaneous, production_manager, producer]   \n",
       "nm0061865     [composer, music_department, sound_department]   \n",
       "nm0062070                     [miscellaneous, actor, writer]   \n",
       "nm0062195  [camera_department, cinematographer, art_depar...   \n",
       "nm0062798  [production_designer, art_department, set_deco...   \n",
       "\n",
       "                                       known_for_titles  \n",
       "nconst                                                   \n",
       "nm0061671  [tt0837562, tt2398241, tt0844471, tt0118553]  \n",
       "nm0061865  [tt0896534, tt6791238, tt0287072, tt1682940]  \n",
       "nm0062070  [tt1470654, tt0363631, tt0104030, tt0102898]  \n",
       "nm0062195  [tt0114371, tt2004304, tt1618448, tt1224387]  \n",
       "nm0062798  [tt0452644, tt0452692, tt3458030, tt2178256]  "
      ]
     },
     "execution_count": 21,
     "metadata": {},
     "output_type": "execute_result"
    }
   ],
   "source": [
    "# data cleaning first\n",
    "\n",
    "# here we split the string values in primary_profession and known_for_titles into a list of strings. \n",
    "\n",
    "df_repository['imdb_name_basics_gz']['primary_profession'] = df_repository['imdb_name_basics_gz']['primary_profession'].str.split(',')\n",
    "df_repository['imdb_name_basics_gz']['known_for_titles'] = df_repository['imdb_name_basics_gz']['known_for_titles'].str.split(',')\n",
    "df_repository['imdb_name_basics_gz'].head()"
   ]
  },
  {
   "cell_type": "code",
   "execution_count": 22,
   "metadata": {
    "scrolled": false
   },
   "outputs": [],
   "source": [
    "# more data cleaning\n",
    "\n",
    "\n",
    "# deletes rows with NaN either on known_for_titles column or on primary_profession\n",
    "\n",
    "filt1 = df_repository['imdb_name_basics_gz'].known_for_titles.isna()\n",
    "filt2 = df_repository['imdb_name_basics_gz'].primary_profession.isna()\n",
    "\n",
    "\n",
    "index_to_drop = set( list( df_repository['imdb_name_basics_gz'].loc[filt1].index ) \n",
    "                    + list( df_repository['imdb_name_basics_gz'].loc[filt2].index ))\n",
    "\n",
    "df_repository['imdb_name_basics_gz'].drop(index=index_to_drop, inplace=True)\n",
    "\n"
   ]
  },
  {
   "cell_type": "markdown",
   "metadata": {},
   "source": [
    "#### We need to find a better way to see the professions of each person\n",
    "\n",
    "Instead of listing one's professions, we should seek to have columns that indicate whether a person is or is not a actor, for example. \n",
    "\n"
   ]
  },
  {
   "cell_type": "code",
   "execution_count": 23,
   "metadata": {},
   "outputs": [],
   "source": [
    "# creates dataframes that show if a person is:\n",
    "\n",
    "    # an actor/actress\n",
    "new_column_actor = is_prof(df_repository['imdb_name_basics_gz'].primary_profession, 'actor', profession2='actress')\n",
    "    # a producer \n",
    "new_column_producer = is_prof(df_repository['imdb_name_basics_gz'].primary_profession, 'producer')\n",
    "    # a director \n",
    "new_column_director = is_prof(df_repository['imdb_name_basics_gz'].primary_profession, 'director')\n"
   ]
  },
  {
   "cell_type": "code",
   "execution_count": 24,
   "metadata": {},
   "outputs": [
    {
     "data": {
      "text/html": [
       "<div>\n",
       "<style scoped>\n",
       "    .dataframe tbody tr th:only-of-type {\n",
       "        vertical-align: middle;\n",
       "    }\n",
       "\n",
       "    .dataframe tbody tr th {\n",
       "        vertical-align: top;\n",
       "    }\n",
       "\n",
       "    .dataframe thead th {\n",
       "        text-align: right;\n",
       "    }\n",
       "</style>\n",
       "<table border=\"1\" class=\"dataframe\">\n",
       "  <thead>\n",
       "    <tr style=\"text-align: right;\">\n",
       "      <th></th>\n",
       "      <th>nconst</th>\n",
       "      <th>primary_name</th>\n",
       "      <th>birth_year</th>\n",
       "      <th>death_year</th>\n",
       "      <th>primary_profession</th>\n",
       "      <th>known_for_titles</th>\n",
       "      <th>is_actor</th>\n",
       "      <th>is_producer</th>\n",
       "      <th>is_director</th>\n",
       "    </tr>\n",
       "  </thead>\n",
       "  <tbody>\n",
       "    <tr>\n",
       "      <td>0</td>\n",
       "      <td>nm0061671</td>\n",
       "      <td>Mary Ellen Bauder</td>\n",
       "      <td>NaN</td>\n",
       "      <td>NaN</td>\n",
       "      <td>[miscellaneous, production_manager, producer]</td>\n",
       "      <td>[tt0837562, tt2398241, tt0844471, tt0118553]</td>\n",
       "      <td>0</td>\n",
       "      <td>1</td>\n",
       "      <td>0</td>\n",
       "    </tr>\n",
       "    <tr>\n",
       "      <td>1</td>\n",
       "      <td>nm0061865</td>\n",
       "      <td>Joseph Bauer</td>\n",
       "      <td>NaN</td>\n",
       "      <td>NaN</td>\n",
       "      <td>[composer, music_department, sound_department]</td>\n",
       "      <td>[tt0896534, tt6791238, tt0287072, tt1682940]</td>\n",
       "      <td>0</td>\n",
       "      <td>0</td>\n",
       "      <td>0</td>\n",
       "    </tr>\n",
       "    <tr>\n",
       "      <td>2</td>\n",
       "      <td>nm0062070</td>\n",
       "      <td>Bruce Baum</td>\n",
       "      <td>NaN</td>\n",
       "      <td>NaN</td>\n",
       "      <td>[miscellaneous, actor, writer]</td>\n",
       "      <td>[tt1470654, tt0363631, tt0104030, tt0102898]</td>\n",
       "      <td>1</td>\n",
       "      <td>0</td>\n",
       "      <td>0</td>\n",
       "    </tr>\n",
       "    <tr>\n",
       "      <td>3</td>\n",
       "      <td>nm0062195</td>\n",
       "      <td>Axel Baumann</td>\n",
       "      <td>NaN</td>\n",
       "      <td>NaN</td>\n",
       "      <td>[camera_department, cinematographer, art_depar...</td>\n",
       "      <td>[tt0114371, tt2004304, tt1618448, tt1224387]</td>\n",
       "      <td>0</td>\n",
       "      <td>0</td>\n",
       "      <td>0</td>\n",
       "    </tr>\n",
       "    <tr>\n",
       "      <td>4</td>\n",
       "      <td>nm0062798</td>\n",
       "      <td>Pete Baxter</td>\n",
       "      <td>NaN</td>\n",
       "      <td>NaN</td>\n",
       "      <td>[production_designer, art_department, set_deco...</td>\n",
       "      <td>[tt0452644, tt0452692, tt3458030, tt2178256]</td>\n",
       "      <td>0</td>\n",
       "      <td>0</td>\n",
       "      <td>0</td>\n",
       "    </tr>\n",
       "  </tbody>\n",
       "</table>\n",
       "</div>"
      ],
      "text/plain": [
       "      nconst       primary_name  birth_year  death_year  \\\n",
       "0  nm0061671  Mary Ellen Bauder         NaN         NaN   \n",
       "1  nm0061865       Joseph Bauer         NaN         NaN   \n",
       "2  nm0062070         Bruce Baum         NaN         NaN   \n",
       "3  nm0062195       Axel Baumann         NaN         NaN   \n",
       "4  nm0062798        Pete Baxter         NaN         NaN   \n",
       "\n",
       "                                  primary_profession  \\\n",
       "0      [miscellaneous, production_manager, producer]   \n",
       "1     [composer, music_department, sound_department]   \n",
       "2                     [miscellaneous, actor, writer]   \n",
       "3  [camera_department, cinematographer, art_depar...   \n",
       "4  [production_designer, art_department, set_deco...   \n",
       "\n",
       "                               known_for_titles  is_actor  is_producer  \\\n",
       "0  [tt0837562, tt2398241, tt0844471, tt0118553]         0            1   \n",
       "1  [tt0896534, tt6791238, tt0287072, tt1682940]         0            0   \n",
       "2  [tt1470654, tt0363631, tt0104030, tt0102898]         1            0   \n",
       "3  [tt0114371, tt2004304, tt1618448, tt1224387]         0            0   \n",
       "4  [tt0452644, tt0452692, tt3458030, tt2178256]         0            0   \n",
       "\n",
       "   is_director  \n",
       "0            0  \n",
       "1            0  \n",
       "2            0  \n",
       "3            0  \n",
       "4            0  "
      ]
     },
     "execution_count": 24,
     "metadata": {},
     "output_type": "execute_result"
    }
   ],
   "source": [
    "# Adding the returned DFs to imdb_name_basics_gz\n",
    "\n",
    "df_repository['imdb_name_basics_gz'].reset_index(inplace=True) \n",
    "df_repository['imdb_name_basics_gz']['is_actor'] = new_column_actor.reset_index().is_actor\n",
    "df_repository['imdb_name_basics_gz']['is_producer'] = new_column_producer.reset_index().is_producer\n",
    "df_repository['imdb_name_basics_gz']['is_director'] = new_column_director.reset_index().is_director\n",
    "\n",
    "df_repository['imdb_name_basics_gz'].head()"
   ]
  },
  {
   "cell_type": "code",
   "execution_count": 25,
   "metadata": {},
   "outputs": [],
   "source": [
    "# cleaning away rows of people who are neither a director, an actor nor a producer \n",
    "\n",
    "filt = (df_repository['imdb_name_basics_gz'].is_actor + df_repository['imdb_name_basics_gz'].is_director + df_repository['imdb_name_basics_gz'].is_producer) == 0\n",
    "index_to_drop = df_repository['imdb_name_basics_gz'].loc[filt].index\n",
    "df_repository['imdb_name_basics_gz'].drop(index=index_to_drop, inplace=True)"
   ]
  },
  {
   "cell_type": "markdown",
   "metadata": {},
   "source": [
    "#### The dataframe  df_repository['imdb_name_basics_gz'] now shows us in a efficient way whether a person is a producer, a director or an actor\n",
    "\n",
    "The next step is to see their relationship with the financial results of a movie. "
   ]
  },
  {
   "cell_type": "markdown",
   "metadata": {},
   "source": [
    "We can do it by calculating the average grossing of the movies that person is known for"
   ]
  },
  {
   "cell_type": "code",
   "execution_count": 26,
   "metadata": {},
   "outputs": [],
   "source": [
    "avg_grossing_column = []\n",
    "total_grossing_column = []\n",
    "\n",
    "for row in df_repository['imdb_name_basics_gz'].known_for_titles:\n",
    "    grossing_row = []\n",
    "    for movie in row:\n",
    "        if movie in df_imdb_financials.index:\n",
    "            if isinstance(df_imdb_financials.loc[movie], pd.DataFrame):\n",
    "                grossing = df_imdb_financials.loc[movie].iloc[-1,-1]\n",
    "            else:\n",
    "                grossing = df_imdb_financials.worldwide_gross.loc[movie] #it returns a data series when movie is duplicated in df_imdb_financials.index\n",
    "            grossing_row.append(grossing)\n",
    "    if len(grossing_row) > 0:\n",
    "        avg_grossing = sum(grossing_row)/len(grossing_row)\n",
    "        avg_grossing_column.append(avg_grossing)\n",
    "        total_grossing_column.append(sum(grossing_row))\n",
    "    else:\n",
    "        avg_grossing_column.append(0)\n",
    "        total_grossing_column.append(0)\n",
    "\n",
    "dict_grossings = {'avg_grossing': avg_grossing_column, 'total_grossing': total_grossing_column}\n",
    "df_professionals_grossings = pd.DataFrame(dict_grossings)"
   ]
  },
  {
   "cell_type": "markdown",
   "metadata": {},
   "source": [
    "##### Now we need to add a new colum to df_repository['imdb_name_basics_gz'] with the data we found"
   ]
  },
  {
   "cell_type": "markdown",
   "metadata": {},
   "source": [
    "Also, let's clean the data a little"
   ]
  },
  {
   "cell_type": "code",
   "execution_count": 27,
   "metadata": {},
   "outputs": [],
   "source": [
    "#resets index in order to create the new columns that matche df_professionals_grossings\n",
    "df_repository['imdb_name_basics_gz'].reset_index(inplace=True)\n",
    "df_repository['imdb_name_basics_gz'].drop(columns='index', inplace=True)\n",
    "\n",
    "#creates the new columns\n",
    "df_repository['imdb_name_basics_gz']['avg_grossing'] = df_professionals_grossings['avg_grossing']\n",
    "df_repository['imdb_name_basics_gz']['total_grossing'] = df_professionals_grossings['total_grossing']"
   ]
  },
  {
   "cell_type": "code",
   "execution_count": 28,
   "metadata": {},
   "outputs": [],
   "source": [
    "# additional cleaning\n",
    "df_repository['imdb_name_basics_gz'].drop(columns=['birth_year','primary_profession'], inplace=True)"
   ]
  },
  {
   "cell_type": "code",
   "execution_count": 29,
   "metadata": {
    "scrolled": true
   },
   "outputs": [
    {
     "data": {
      "text/html": [
       "<div>\n",
       "<style scoped>\n",
       "    .dataframe tbody tr th:only-of-type {\n",
       "        vertical-align: middle;\n",
       "    }\n",
       "\n",
       "    .dataframe tbody tr th {\n",
       "        vertical-align: top;\n",
       "    }\n",
       "\n",
       "    .dataframe thead th {\n",
       "        text-align: right;\n",
       "    }\n",
       "</style>\n",
       "<table border=\"1\" class=\"dataframe\">\n",
       "  <thead>\n",
       "    <tr style=\"text-align: right;\">\n",
       "      <th></th>\n",
       "      <th>nconst</th>\n",
       "      <th>primary_name</th>\n",
       "      <th>death_year</th>\n",
       "      <th>known_for_titles</th>\n",
       "      <th>is_actor</th>\n",
       "      <th>is_producer</th>\n",
       "      <th>is_director</th>\n",
       "      <th>avg_grossing</th>\n",
       "      <th>total_grossing</th>\n",
       "    </tr>\n",
       "  </thead>\n",
       "  <tbody>\n",
       "    <tr>\n",
       "      <td>0</td>\n",
       "      <td>nm0061671</td>\n",
       "      <td>Mary Ellen Bauder</td>\n",
       "      <td>NaN</td>\n",
       "      <td>[tt0837562, tt2398241, tt0844471, tt0118553]</td>\n",
       "      <td>0</td>\n",
       "      <td>1</td>\n",
       "      <td>0</td>\n",
       "      <td>288042199.0</td>\n",
       "      <td>576084398.0</td>\n",
       "    </tr>\n",
       "    <tr>\n",
       "      <td>1</td>\n",
       "      <td>nm0062070</td>\n",
       "      <td>Bruce Baum</td>\n",
       "      <td>NaN</td>\n",
       "      <td>[tt1470654, tt0363631, tt0104030, tt0102898]</td>\n",
       "      <td>1</td>\n",
       "      <td>0</td>\n",
       "      <td>0</td>\n",
       "      <td>0.0</td>\n",
       "      <td>0.0</td>\n",
       "    </tr>\n",
       "    <tr>\n",
       "      <td>2</td>\n",
       "      <td>nm0062879</td>\n",
       "      <td>Ruel S. Bayani</td>\n",
       "      <td>NaN</td>\n",
       "      <td>[tt2590280, tt0352080, tt0216559, tt2057445]</td>\n",
       "      <td>0</td>\n",
       "      <td>0</td>\n",
       "      <td>1</td>\n",
       "      <td>0.0</td>\n",
       "      <td>0.0</td>\n",
       "    </tr>\n",
       "    <tr>\n",
       "      <td>3</td>\n",
       "      <td>nm0063198</td>\n",
       "      <td>Bayou</td>\n",
       "      <td>NaN</td>\n",
       "      <td>[tt6579724, tt0093116]</td>\n",
       "      <td>1</td>\n",
       "      <td>0</td>\n",
       "      <td>0</td>\n",
       "      <td>0.0</td>\n",
       "      <td>0.0</td>\n",
       "    </tr>\n",
       "    <tr>\n",
       "      <td>4</td>\n",
       "      <td>nm0063750</td>\n",
       "      <td>Lindsay Beamish</td>\n",
       "      <td>NaN</td>\n",
       "      <td>[tt0404826, tt0111756, tt0367027, tt1492842]</td>\n",
       "      <td>1</td>\n",
       "      <td>0</td>\n",
       "      <td>0</td>\n",
       "      <td>0.0</td>\n",
       "      <td>0.0</td>\n",
       "    </tr>\n",
       "  </tbody>\n",
       "</table>\n",
       "</div>"
      ],
      "text/plain": [
       "      nconst       primary_name  death_year  \\\n",
       "0  nm0061671  Mary Ellen Bauder         NaN   \n",
       "1  nm0062070         Bruce Baum         NaN   \n",
       "2  nm0062879     Ruel S. Bayani         NaN   \n",
       "3  nm0063198              Bayou         NaN   \n",
       "4  nm0063750    Lindsay Beamish         NaN   \n",
       "\n",
       "                               known_for_titles  is_actor  is_producer  \\\n",
       "0  [tt0837562, tt2398241, tt0844471, tt0118553]         0            1   \n",
       "1  [tt1470654, tt0363631, tt0104030, tt0102898]         1            0   \n",
       "2  [tt2590280, tt0352080, tt0216559, tt2057445]         0            0   \n",
       "3                        [tt6579724, tt0093116]         1            0   \n",
       "4  [tt0404826, tt0111756, tt0367027, tt1492842]         1            0   \n",
       "\n",
       "   is_director  avg_grossing  total_grossing  \n",
       "0            0   288042199.0     576084398.0  \n",
       "1            0           0.0             0.0  \n",
       "2            1           0.0             0.0  \n",
       "3            0           0.0             0.0  \n",
       "4            0           0.0             0.0  "
      ]
     },
     "execution_count": 29,
     "metadata": {},
     "output_type": "execute_result"
    }
   ],
   "source": [
    "df_repository['imdb_name_basics_gz'].head()"
   ]
  },
  {
   "cell_type": "markdown",
   "metadata": {},
   "source": [
    "### We can now get started on the Visualization of our questions"
   ]
  },
  {
   "cell_type": "markdown",
   "metadata": {},
   "source": [
    "#### Worlwide Grossing vs Directors\n",
    "\n",
    "Considering the main movies a director is known for, we computed the total and average worlwide grossing for each person.  "
   ]
  },
  {
   "cell_type": "code",
   "execution_count": null,
   "metadata": {},
   "outputs": [],
   "source": []
  },
  {
   "cell_type": "markdown",
   "metadata": {},
   "source": [
    "#### Worlwide Grossing vs Producers\n",
    "\n",
    "Considering the main movies a producer is known for, we computed the total and average worlwide grossing for each person.  "
   ]
  },
  {
   "cell_type": "code",
   "execution_count": null,
   "metadata": {},
   "outputs": [],
   "source": []
  },
  {
   "cell_type": "markdown",
   "metadata": {},
   "source": [
    "#### Worlwide Grossing vs Actors\n",
    "\n",
    "Considering the main movies an actor is known for, we computed the total and average worlwide grossing for each person.  "
   ]
  },
  {
   "cell_type": "code",
   "execution_count": null,
   "metadata": {},
   "outputs": [],
   "source": []
  }
 ],
 "metadata": {
  "kernelspec": {
   "display_name": "Python [conda env:learn-env] *",
   "language": "python",
   "name": "conda-env-learn-env-py"
  },
  "language_info": {
   "codemirror_mode": {
    "name": "ipython",
    "version": 3
   },
   "file_extension": ".py",
   "mimetype": "text/x-python",
   "name": "python",
   "nbconvert_exporter": "python",
   "pygments_lexer": "ipython3",
   "version": "3.6.9"
  }
 },
 "nbformat": 4,
 "nbformat_minor": 2
}
